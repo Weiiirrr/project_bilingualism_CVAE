{
 "cells": [
  {
   "cell_type": "code",
   "execution_count": 4,
   "id": "93745050",
   "metadata": {},
   "outputs": [],
   "source": [
    "### get all legend data from Hernandez and ds 1747\n",
    "import pandas as pd\n",
    "import numpy as np\n",
    "data_h = pd.read_csv('/projects/sccn/weili_A1/liacz/Documents/Bilingualism_CVAE/data/legend/Hernandez.csv')\n",
    "data_1747 = pd.read_csv('/projects/sccn/weili_A1/liacz/Documents/Bilingualism_CVAE/data/legend/ds1747.csv')\n",
    "data = pd.concat([data_h, data_1747], ignore_index=True)\n",
    "# data = data.replace('unknown', pd.NA)\n",
    "# data = data.fillna(np.nan)"
   ]
  },
  {
   "cell_type": "code",
   "execution_count": 5,
   "id": "7b327462",
   "metadata": {},
   "outputs": [
    {
     "data": {
      "text/plain": [
       "Index(['participant_id', 'bilingualism', 'age', 'sex', 'aoa', 'aoa_group',\n",
       "       'sec_lan_proficiency', 'ds', 'scanner', 'num_lan'],\n",
       "      dtype='object')"
      ]
     },
     "execution_count": 5,
     "metadata": {},
     "output_type": "execute_result"
    }
   ],
   "source": [
    "data.columns"
   ]
  },
  {
   "cell_type": "code",
   "execution_count": 8,
   "id": "1d56970c",
   "metadata": {},
   "outputs": [],
   "source": [
    "data['ds_par_id'] = data['ds'].astype(str)+ '_' + data['participant_id'].astype(str)"
   ]
  },
  {
   "cell_type": "code",
   "execution_count": 9,
   "id": "ec525aab",
   "metadata": {},
   "outputs": [],
   "source": [
    "data.to_csv('/projects/sccn/weili_A1/liacz/Documents/Bilingualism_CVAE/data/legend.csv', index=False)"
   ]
  }
 ],
 "metadata": {
  "kernelspec": {
   "display_name": "CVAE",
   "language": "python",
   "name": "python3"
  },
  "language_info": {
   "codemirror_mode": {
    "name": "ipython",
    "version": 3
   },
   "file_extension": ".py",
   "mimetype": "text/x-python",
   "name": "python",
   "nbconvert_exporter": "python",
   "pygments_lexer": "ipython3",
   "version": "3.9.23"
  }
 },
 "nbformat": 4,
 "nbformat_minor": 5
}
