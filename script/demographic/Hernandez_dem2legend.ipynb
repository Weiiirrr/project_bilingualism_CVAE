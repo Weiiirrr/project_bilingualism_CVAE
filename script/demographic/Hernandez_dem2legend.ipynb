{
 "cells": [
  {
   "cell_type": "code",
   "execution_count": 45,
   "metadata": {},
   "outputs": [],
   "source": [
    "import pandas as pd\n",
    "import os\n",
    "import numpy as np"
   ]
  },
  {
   "cell_type": "code",
   "execution_count": 27,
   "metadata": {},
   "outputs": [],
   "source": [
    "## confused what are their second language\n",
    "## for AOA group, what's the definition?"
   ]
  },
  {
   "cell_type": "code",
   "execution_count": 46,
   "metadata": {},
   "outputs": [
    {
     "data": {
      "text/html": [
       "<div>\n",
       "<style scoped>\n",
       "    .dataframe tbody tr th:only-of-type {\n",
       "        vertical-align: middle;\n",
       "    }\n",
       "\n",
       "    .dataframe tbody tr th {\n",
       "        vertical-align: top;\n",
       "    }\n",
       "\n",
       "    .dataframe thead th {\n",
       "        text-align: right;\n",
       "    }\n",
       "</style>\n",
       "<table border=\"1\" class=\"dataframe\">\n",
       "  <thead>\n",
       "    <tr style=\"text-align: right;\">\n",
       "      <th></th>\n",
       "      <th>fsid</th>\n",
       "      <th>LanguageGroup</th>\n",
       "      <th>Gender</th>\n",
       "      <th>AoA Group</th>\n",
       "      <th>AoA</th>\n",
       "      <th>Age</th>\n",
       "      <th>YearsEnglishEdu</th>\n",
       "      <th>YearsSpanishEdu</th>\n",
       "      <th>PercentEngPictureVocabulary</th>\n",
       "      <th>PercentEngPassageComprehension</th>\n",
       "      <th>...</th>\n",
       "      <th>BirthPlace</th>\n",
       "      <th>StudyName</th>\n",
       "      <th>PercentEngListeningComprehension</th>\n",
       "      <th>PercentSpanListeningComprehension</th>\n",
       "      <th>BNTEnglish</th>\n",
       "      <th>BNTSpanish</th>\n",
       "      <th>DailyE</th>\n",
       "      <th>DailyS</th>\n",
       "      <th>Eprof</th>\n",
       "      <th>Sprof</th>\n",
       "    </tr>\n",
       "  </thead>\n",
       "  <tbody>\n",
       "    <tr>\n",
       "      <th>0</th>\n",
       "      <td>Sub01FS</td>\n",
       "      <td>Bilingual</td>\n",
       "      <td>F</td>\n",
       "      <td>Late</td>\n",
       "      <td>7</td>\n",
       "      <td>18.0</td>\n",
       "      <td>8.0</td>\n",
       "      <td>6.0</td>\n",
       "      <td>0.661017</td>\n",
       "      <td>0.787879</td>\n",
       "      <td>...</td>\n",
       "      <td>US</td>\n",
       "      <td>CognitiveControl</td>\n",
       "      <td>NaN</td>\n",
       "      <td>NaN</td>\n",
       "      <td>NaN</td>\n",
       "      <td>NaN</td>\n",
       "      <td>0.8</td>\n",
       "      <td>0.2</td>\n",
       "      <td>0.724448</td>\n",
       "      <td>0.699666</td>\n",
       "    </tr>\n",
       "    <tr>\n",
       "      <th>1</th>\n",
       "      <td>Sub02FS</td>\n",
       "      <td>Bilingual</td>\n",
       "      <td>F</td>\n",
       "      <td>Late</td>\n",
       "      <td>10</td>\n",
       "      <td>22.0</td>\n",
       "      <td>12.0</td>\n",
       "      <td>22.0</td>\n",
       "      <td>0.711864</td>\n",
       "      <td>0.696970</td>\n",
       "      <td>...</td>\n",
       "      <td>US</td>\n",
       "      <td>CognitiveControl</td>\n",
       "      <td>NaN</td>\n",
       "      <td>NaN</td>\n",
       "      <td>NaN</td>\n",
       "      <td>NaN</td>\n",
       "      <td>0.75</td>\n",
       "      <td>0.25</td>\n",
       "      <td>0.704417</td>\n",
       "      <td>0.646830</td>\n",
       "    </tr>\n",
       "    <tr>\n",
       "      <th>2</th>\n",
       "      <td>Sub03FS</td>\n",
       "      <td>Bilingual</td>\n",
       "      <td>M</td>\n",
       "      <td>Late</td>\n",
       "      <td>11</td>\n",
       "      <td>19.0</td>\n",
       "      <td>12.0</td>\n",
       "      <td>11.0</td>\n",
       "      <td>0.610169</td>\n",
       "      <td>0.757576</td>\n",
       "      <td>...</td>\n",
       "      <td>Else</td>\n",
       "      <td>CognitiveControl</td>\n",
       "      <td>NaN</td>\n",
       "      <td>NaN</td>\n",
       "      <td>NaN</td>\n",
       "      <td>NaN</td>\n",
       "      <td>0.5</td>\n",
       "      <td>0.5</td>\n",
       "      <td>0.683873</td>\n",
       "      <td>0.748053</td>\n",
       "    </tr>\n",
       "    <tr>\n",
       "      <th>3</th>\n",
       "      <td>Sub04FS</td>\n",
       "      <td>Bilingual</td>\n",
       "      <td>M</td>\n",
       "      <td>Early</td>\n",
       "      <td>4</td>\n",
       "      <td>20.0</td>\n",
       "      <td>11.0</td>\n",
       "      <td>2.0</td>\n",
       "      <td>0.694915</td>\n",
       "      <td>0.848485</td>\n",
       "      <td>...</td>\n",
       "      <td>US</td>\n",
       "      <td>CognitiveControl</td>\n",
       "      <td>NaN</td>\n",
       "      <td>NaN</td>\n",
       "      <td>NaN</td>\n",
       "      <td>NaN</td>\n",
       "      <td>0.9</td>\n",
       "      <td>0.1</td>\n",
       "      <td>0.771700</td>\n",
       "      <td>0.692158</td>\n",
       "    </tr>\n",
       "    <tr>\n",
       "      <th>4</th>\n",
       "      <td>Sub05FS</td>\n",
       "      <td>Bilingual</td>\n",
       "      <td>M</td>\n",
       "      <td>Late</td>\n",
       "      <td>8</td>\n",
       "      <td>23.0</td>\n",
       "      <td>15.0</td>\n",
       "      <td>22.0</td>\n",
       "      <td>0.694915</td>\n",
       "      <td>0.848485</td>\n",
       "      <td>...</td>\n",
       "      <td>US</td>\n",
       "      <td>CognitiveControl</td>\n",
       "      <td>NaN</td>\n",
       "      <td>NaN</td>\n",
       "      <td>NaN</td>\n",
       "      <td>NaN</td>\n",
       "      <td>0.7</td>\n",
       "      <td>0.3</td>\n",
       "      <td>0.771700</td>\n",
       "      <td>0.845940</td>\n",
       "    </tr>\n",
       "    <tr>\n",
       "      <th>...</th>\n",
       "      <td>...</td>\n",
       "      <td>...</td>\n",
       "      <td>...</td>\n",
       "      <td>...</td>\n",
       "      <td>...</td>\n",
       "      <td>...</td>\n",
       "      <td>...</td>\n",
       "      <td>...</td>\n",
       "      <td>...</td>\n",
       "      <td>...</td>\n",
       "      <td>...</td>\n",
       "      <td>...</td>\n",
       "      <td>...</td>\n",
       "      <td>...</td>\n",
       "      <td>...</td>\n",
       "      <td>...</td>\n",
       "      <td>...</td>\n",
       "      <td>...</td>\n",
       "      <td>...</td>\n",
       "      <td>...</td>\n",
       "      <td>...</td>\n",
       "    </tr>\n",
       "    <tr>\n",
       "      <th>358</th>\n",
       "      <td>UH_T</td>\n",
       "      <td>Monolingual</td>\n",
       "      <td>F</td>\n",
       "      <td>Mono</td>\n",
       "      <td>NaN</td>\n",
       "      <td>19.0</td>\n",
       "      <td>NaN</td>\n",
       "      <td>NaN</td>\n",
       "      <td>0.762712</td>\n",
       "      <td>NaN</td>\n",
       "      <td>...</td>\n",
       "      <td>US</td>\n",
       "      <td>PhonemicLearning</td>\n",
       "      <td>0.818182</td>\n",
       "      <td>NaN</td>\n",
       "      <td>NaN</td>\n",
       "      <td>NaN</td>\n",
       "      <td>1</td>\n",
       "      <td>0</td>\n",
       "      <td>0.790447</td>\n",
       "      <td>NaN</td>\n",
       "    </tr>\n",
       "    <tr>\n",
       "      <th>359</th>\n",
       "      <td>UH_U</td>\n",
       "      <td>Monolingual</td>\n",
       "      <td>M</td>\n",
       "      <td>Mono</td>\n",
       "      <td>NaN</td>\n",
       "      <td>21.0</td>\n",
       "      <td>NaN</td>\n",
       "      <td>NaN</td>\n",
       "      <td>0.779661</td>\n",
       "      <td>NaN</td>\n",
       "      <td>...</td>\n",
       "      <td>US</td>\n",
       "      <td>PhonemicLearning</td>\n",
       "      <td>0.939394</td>\n",
       "      <td>NaN</td>\n",
       "      <td>NaN</td>\n",
       "      <td>NaN</td>\n",
       "      <td>1</td>\n",
       "      <td>0</td>\n",
       "      <td>0.859527</td>\n",
       "      <td>NaN</td>\n",
       "    </tr>\n",
       "    <tr>\n",
       "      <th>360</th>\n",
       "      <td>UH_V</td>\n",
       "      <td>Bilingual</td>\n",
       "      <td>M</td>\n",
       "      <td>Early</td>\n",
       "      <td>4</td>\n",
       "      <td>18.0</td>\n",
       "      <td>14.0</td>\n",
       "      <td>NaN</td>\n",
       "      <td>0.677966</td>\n",
       "      <td>NaN</td>\n",
       "      <td>...</td>\n",
       "      <td>US</td>\n",
       "      <td>PhonemicLearning</td>\n",
       "      <td>0.727273</td>\n",
       "      <td>0.53125</td>\n",
       "      <td>NaN</td>\n",
       "      <td>NaN</td>\n",
       "      <td>0.65</td>\n",
       "      <td>0.35</td>\n",
       "      <td>0.702619</td>\n",
       "      <td>0.532866</td>\n",
       "    </tr>\n",
       "    <tr>\n",
       "      <th>361</th>\n",
       "      <td>UH_Y</td>\n",
       "      <td>Bilingual</td>\n",
       "      <td>F</td>\n",
       "      <td>Late</td>\n",
       "      <td>10</td>\n",
       "      <td>22.0</td>\n",
       "      <td>NaN</td>\n",
       "      <td>NaN</td>\n",
       "      <td>0.678000</td>\n",
       "      <td>NaN</td>\n",
       "      <td>...</td>\n",
       "      <td>NaN</td>\n",
       "      <td>PhonemicLearning</td>\n",
       "      <td>0.757500</td>\n",
       "      <td>0.7813</td>\n",
       "      <td>NaN</td>\n",
       "      <td>NaN</td>\n",
       "      <td>none</td>\n",
       "      <td>none</td>\n",
       "      <td>0.717750</td>\n",
       "      <td>0.752700</td>\n",
       "    </tr>\n",
       "    <tr>\n",
       "      <th>362</th>\n",
       "      <td>UH_Z</td>\n",
       "      <td>Monolingual</td>\n",
       "      <td>M</td>\n",
       "      <td>Mono</td>\n",
       "      <td>NaN</td>\n",
       "      <td>22.0</td>\n",
       "      <td>NaN</td>\n",
       "      <td>NaN</td>\n",
       "      <td>0.728814</td>\n",
       "      <td>NaN</td>\n",
       "      <td>...</td>\n",
       "      <td>US</td>\n",
       "      <td>PhonemicLearning</td>\n",
       "      <td>0.727273</td>\n",
       "      <td>NaN</td>\n",
       "      <td>NaN</td>\n",
       "      <td>NaN</td>\n",
       "      <td>1</td>\n",
       "      <td>0</td>\n",
       "      <td>0.728043</td>\n",
       "      <td>NaN</td>\n",
       "    </tr>\n",
       "  </tbody>\n",
       "</table>\n",
       "<p>363 rows × 25 columns</p>\n",
       "</div>"
      ],
      "text/plain": [
       "        fsid LanguageGroup Gender AoA Group  AoA   Age  YearsEnglishEdu  \\\n",
       "0    Sub01FS     Bilingual      F      Late    7  18.0              8.0   \n",
       "1    Sub02FS     Bilingual      F      Late   10  22.0             12.0   \n",
       "2    Sub03FS     Bilingual      M      Late   11  19.0             12.0   \n",
       "3    Sub04FS     Bilingual      M     Early    4  20.0             11.0   \n",
       "4    Sub05FS     Bilingual      M      Late    8  23.0             15.0   \n",
       "..       ...           ...    ...       ...  ...   ...              ...   \n",
       "358     UH_T   Monolingual      F      Mono  NaN  19.0              NaN   \n",
       "359     UH_U   Monolingual      M      Mono  NaN  21.0              NaN   \n",
       "360     UH_V     Bilingual      M     Early    4  18.0             14.0   \n",
       "361     UH_Y     Bilingual      F      Late   10  22.0              NaN   \n",
       "362     UH_Z   Monolingual      M      Mono  NaN  22.0              NaN   \n",
       "\n",
       "     YearsSpanishEdu  PercentEngPictureVocabulary  \\\n",
       "0                6.0                     0.661017   \n",
       "1               22.0                     0.711864   \n",
       "2               11.0                     0.610169   \n",
       "3                2.0                     0.694915   \n",
       "4               22.0                     0.694915   \n",
       "..               ...                          ...   \n",
       "358              NaN                     0.762712   \n",
       "359              NaN                     0.779661   \n",
       "360              NaN                     0.677966   \n",
       "361              NaN                     0.678000   \n",
       "362              NaN                     0.728814   \n",
       "\n",
       "     PercentEngPassageComprehension  ...  BirthPlace         StudyName  \\\n",
       "0                          0.787879  ...          US  CognitiveControl   \n",
       "1                          0.696970  ...          US  CognitiveControl   \n",
       "2                          0.757576  ...        Else  CognitiveControl   \n",
       "3                          0.848485  ...          US  CognitiveControl   \n",
       "4                          0.848485  ...          US  CognitiveControl   \n",
       "..                              ...  ...         ...               ...   \n",
       "358                             NaN  ...          US  PhonemicLearning   \n",
       "359                             NaN  ...          US  PhonemicLearning   \n",
       "360                             NaN  ...          US  PhonemicLearning   \n",
       "361                             NaN  ...         NaN  PhonemicLearning   \n",
       "362                             NaN  ...          US  PhonemicLearning   \n",
       "\n",
       "     PercentEngListeningComprehension  PercentSpanListeningComprehension  \\\n",
       "0                                 NaN                                NaN   \n",
       "1                                 NaN                                NaN   \n",
       "2                                 NaN                                NaN   \n",
       "3                                 NaN                                NaN   \n",
       "4                                 NaN                                NaN   \n",
       "..                                ...                                ...   \n",
       "358                          0.818182                                NaN   \n",
       "359                          0.939394                                NaN   \n",
       "360                          0.727273                            0.53125   \n",
       "361                          0.757500                             0.7813   \n",
       "362                          0.727273                                NaN   \n",
       "\n",
       "     BNTEnglish BNTSpanish DailyE  DailyS     Eprof     Sprof  \n",
       "0           NaN        NaN    0.8     0.2  0.724448  0.699666  \n",
       "1           NaN        NaN   0.75    0.25  0.704417  0.646830  \n",
       "2           NaN        NaN    0.5     0.5  0.683873  0.748053  \n",
       "3           NaN        NaN    0.9     0.1  0.771700  0.692158  \n",
       "4           NaN        NaN    0.7     0.3  0.771700  0.845940  \n",
       "..          ...        ...    ...     ...       ...       ...  \n",
       "358         NaN        NaN      1       0  0.790447       NaN  \n",
       "359         NaN        NaN      1       0  0.859527       NaN  \n",
       "360         NaN        NaN   0.65    0.35  0.702619  0.532866  \n",
       "361         NaN        NaN   none    none  0.717750  0.752700  \n",
       "362         NaN        NaN      1       0  0.728043       NaN  \n",
       "\n",
       "[363 rows x 25 columns]"
      ]
     },
     "execution_count": 46,
     "metadata": {},
     "output_type": "execute_result"
    }
   ],
   "source": [
    "data = pd.read_csv('/projects/sccn/weili_A1/liacz/Data/Bilingualism_CVAE/Hernandez/All Descriptive Data/Corrected2018_DataforMRIs DO NOT EDIT.csv')\n",
    "data = data.replace('unknown', pd.NA)\n",
    "data = data.fillna(np.nan)\n",
    "data"
   ]
  },
  {
   "cell_type": "code",
   "execution_count": 30,
   "metadata": {},
   "outputs": [
    {
     "data": {
      "text/plain": [
       "Index(['fsid', 'LanguageGroup', 'Gender', 'AoA Group', 'AoA', 'Age',\n",
       "       'YearsEnglishEdu', 'YearsSpanishEdu', 'PercentEngPictureVocabulary',\n",
       "       'PercentEngPassageComprehension', 'PercentSpanPictureVocabulary',\n",
       "       'PercentSpanPassageComprehension', 'Mom_Edu', 'Dad_Edu', 'SES',\n",
       "       'BirthPlace', 'StudyName', 'PercentEngListeningComprehension',\n",
       "       'PercentSpanListeningComprehension', 'BNTEnglish', 'BNTSpanish',\n",
       "       'DailyE', 'DailyS', 'Eprof', 'Sprof'],\n",
       "      dtype='object')"
      ]
     },
     "execution_count": 30,
     "metadata": {},
     "output_type": "execute_result"
    }
   ],
   "source": [
    "data.columns"
   ]
  },
  {
   "cell_type": "code",
   "execution_count": 31,
   "metadata": {},
   "outputs": [
    {
     "data": {
      "text/html": [
       "<div>\n",
       "<style scoped>\n",
       "    .dataframe tbody tr th:only-of-type {\n",
       "        vertical-align: middle;\n",
       "    }\n",
       "\n",
       "    .dataframe tbody tr th {\n",
       "        vertical-align: top;\n",
       "    }\n",
       "\n",
       "    .dataframe thead th {\n",
       "        text-align: right;\n",
       "    }\n",
       "</style>\n",
       "<table border=\"1\" class=\"dataframe\">\n",
       "  <thead>\n",
       "    <tr style=\"text-align: right;\">\n",
       "      <th></th>\n",
       "      <th>Eprof</th>\n",
       "      <th>Sprof</th>\n",
       "      <th>AoA</th>\n",
       "    </tr>\n",
       "  </thead>\n",
       "  <tbody>\n",
       "    <tr>\n",
       "      <th>Eprof</th>\n",
       "      <td>1.000000</td>\n",
       "      <td>0.227533</td>\n",
       "      <td>-0.367547</td>\n",
       "    </tr>\n",
       "    <tr>\n",
       "      <th>Sprof</th>\n",
       "      <td>0.227533</td>\n",
       "      <td>1.000000</td>\n",
       "      <td>0.407527</td>\n",
       "    </tr>\n",
       "    <tr>\n",
       "      <th>AoA</th>\n",
       "      <td>-0.367547</td>\n",
       "      <td>0.407527</td>\n",
       "      <td>1.000000</td>\n",
       "    </tr>\n",
       "  </tbody>\n",
       "</table>\n",
       "</div>"
      ],
      "text/plain": [
       "          Eprof     Sprof       AoA\n",
       "Eprof  1.000000  0.227533 -0.367547\n",
       "Sprof  0.227533  1.000000  0.407527\n",
       "AoA   -0.367547  0.407527  1.000000"
      ]
     },
     "execution_count": 31,
     "metadata": {},
     "output_type": "execute_result"
    }
   ],
   "source": [
    "data[['Eprof', 'Sprof', 'AoA']].corr(method='pearson')"
   ]
  },
  {
   "cell_type": "code",
   "execution_count": 8,
   "metadata": {},
   "outputs": [],
   "source": [
    "#check the subs' information, 1 missing demographic information\n",
    "# brain_subs = np.load(os.path.expanduser('~/Documents/Bilingualism_CVAE/data/array_brains/Anat-Bilingual-64iso-Hernandez-S361.npz'))['subs']\n",
    "# subs = [brain_subs[i][:-4] for i in range(0,len(brain_subs))]\n",
    "# name_overlap = [sub in data.fsid.tolist() for sub in subs]\n",
    "# 'Sub01FS' in data.fsid\n",
    "# n = 0\n",
    "# for i in name_overlap:\n",
    "    \n",
    "#     if not i:\n",
    "#         print(\"The first false value is:\", n)\n",
    "#         break\n",
    "#     n = n+1\n",
    "# name_overlap[121]\n",
    "# subs[121]\n",
    "# data.fsid.tolist()"
   ]
  },
  {
   "cell_type": "code",
   "execution_count": 32,
   "metadata": {},
   "outputs": [],
   "source": [
    "data = data.copy()"
   ]
  },
  {
   "cell_type": "code",
   "execution_count": 33,
   "metadata": {},
   "outputs": [],
   "source": [
    "data.loc[:,'participant_id'] = data.loc[:,('fsid')]\n",
    "data.loc[:,'sex'] = data.loc[:,('Gender')]"
   ]
  },
  {
   "cell_type": "code",
   "execution_count": 34,
   "metadata": {},
   "outputs": [
    {
     "data": {
      "text/plain": [
       "bilingualism\n",
       "1.0    218\n",
       "0.0    145\n",
       "Name: count, dtype: int64"
      ]
     },
     "execution_count": 34,
     "metadata": {},
     "output_type": "execute_result"
    }
   ],
   "source": [
    "data.loc[data['LanguageGroup']=='Bilingual','bilingualism'] = 1\n",
    "data.loc[data['LanguageGroup']=='Monolingual','bilingualism'] = 0\n",
    "data.bilingualism.value_counts()"
   ]
  },
  {
   "cell_type": "code",
   "execution_count": 35,
   "metadata": {},
   "outputs": [
    {
     "data": {
      "text/plain": [
       "<Axes: >"
      ]
     },
     "execution_count": 35,
     "metadata": {},
     "output_type": "execute_result"
    },
    {
     "data": {
      "image/png": "[encoded data removed]",
      "text/plain": [
       "<Figure size 640x480 with 1 Axes>"
      ]
     },
     "metadata": {},
     "output_type": "display_data"
    }
   ],
   "source": [
    "data.loc[:, 'age'] = data.loc[:,'Age']\n",
    "data.age.hist()"
   ]
  },
  {
   "cell_type": "code",
   "execution_count": 36,
   "metadata": {},
   "outputs": [
    {
     "data": {
      "text/plain": [
       "<Axes: >"
      ]
     },
     "execution_count": 36,
     "metadata": {},
     "output_type": "execute_result"
    },
    {
     "data": {
      "image/png": "[encoded data removed]",
      "text/plain": [
       "<Figure size 640x480 with 1 Axes>"
      ]
     },
     "metadata": {},
     "output_type": "display_data"
    }
   ],
   "source": [
    "data.loc[:, 'aoa'] = data.loc[:,'AoA'].astype(float)\n",
    "data.loc[:, 'aoa'].hist()"
   ]
  },
  {
   "cell_type": "code",
   "execution_count": 37,
   "metadata": {},
   "outputs": [
    {
     "data": {
      "text/plain": [
       "AoA Group\n",
       "Mono     145\n",
       "Early    108\n",
       "Late      81\n",
       "Sim       27\n",
       "Name: count, dtype: int64"
      ]
     },
     "execution_count": 37,
     "metadata": {},
     "output_type": "execute_result"
    }
   ],
   "source": [
    "data['AoA Group'].value_counts()"
   ]
  },
  {
   "cell_type": "code",
   "execution_count": 38,
   "metadata": {},
   "outputs": [
    {
     "data": {
      "text/plain": [
       "aoa_group\n",
       "EB    135\n",
       "LB     81\n",
       "Name: count, dtype: int64"
      ]
     },
     "execution_count": 38,
     "metadata": {},
     "output_type": "execute_result"
    }
   ],
   "source": [
    "data.loc[data['AoA Group']=='Late', 'aoa_group'] = 'LB'\n",
    "data.loc[data['AoA Group']=='Early', 'aoa_group'] = 'EB'\n",
    "data.loc[data['AoA Group']=='Sim', 'aoa_group'] = 'EB'\n",
    "data.loc[data['AoA Group']=='Mono', 'aoa_group'] = pd.NA\n",
    "data.aoa_group.value_counts()"
   ]
  },
  {
   "cell_type": "code",
   "execution_count": 39,
   "metadata": {},
   "outputs": [],
   "source": [
    "data.loc[:, 'sec_lan_proficiency'] = data.loc[:, 'Eprof']\n",
    "data.loc[:, 'fst_lan_proficiency'] = data.loc[:, 'Sprof']"
   ]
  },
  {
   "cell_type": "code",
   "execution_count": 40,
   "metadata": {},
   "outputs": [],
   "source": [
    "data.loc[:, 'ds']='Hernandez'"
   ]
  },
  {
   "cell_type": "code",
   "execution_count": 41,
   "metadata": {},
   "outputs": [],
   "source": [
    "data.loc[:, 'scanner']='Hernandez'"
   ]
  },
  {
   "cell_type": "code",
   "execution_count": 42,
   "metadata": {},
   "outputs": [],
   "source": [
    "legend = data.loc[:, ['participant_id', 'bilingualism', 'age', 'sex', \n",
    "              'aoa', 'aoa_group', 'sec_lan_proficiency', 'fst_lan_proficiency',\n",
    "              'ds', 'scanner']]"
   ]
  },
  {
   "cell_type": "code",
   "execution_count": 43,
   "metadata": {},
   "outputs": [
    {
     "data": {
      "text/html": [
       "<div>\n",
       "<style scoped>\n",
       "    .dataframe tbody tr th:only-of-type {\n",
       "        vertical-align: middle;\n",
       "    }\n",
       "\n",
       "    .dataframe tbody tr th {\n",
       "        vertical-align: top;\n",
       "    }\n",
       "\n",
       "    .dataframe thead th {\n",
       "        text-align: right;\n",
       "    }\n",
       "</style>\n",
       "<table border=\"1\" class=\"dataframe\">\n",
       "  <thead>\n",
       "    <tr style=\"text-align: right;\">\n",
       "      <th></th>\n",
       "      <th>aoa</th>\n",
       "      <th>sec_lan_proficiency</th>\n",
       "      <th>fst_lan_proficiency</th>\n",
       "    </tr>\n",
       "  </thead>\n",
       "  <tbody>\n",
       "    <tr>\n",
       "      <th>aoa</th>\n",
       "      <td>1.000000</td>\n",
       "      <td>-0.367547</td>\n",
       "      <td>0.407527</td>\n",
       "    </tr>\n",
       "    <tr>\n",
       "      <th>sec_lan_proficiency</th>\n",
       "      <td>-0.367547</td>\n",
       "      <td>1.000000</td>\n",
       "      <td>0.227533</td>\n",
       "    </tr>\n",
       "    <tr>\n",
       "      <th>fst_lan_proficiency</th>\n",
       "      <td>0.407527</td>\n",
       "      <td>0.227533</td>\n",
       "      <td>1.000000</td>\n",
       "    </tr>\n",
       "  </tbody>\n",
       "</table>\n",
       "</div>"
      ],
      "text/plain": [
       "                          aoa  sec_lan_proficiency  fst_lan_proficiency\n",
       "aoa                  1.000000            -0.367547             0.407527\n",
       "sec_lan_proficiency -0.367547             1.000000             0.227533\n",
       "fst_lan_proficiency  0.407527             0.227533             1.000000"
      ]
     },
     "execution_count": 43,
     "metadata": {},
     "output_type": "execute_result"
    }
   ],
   "source": [
    "legend[['aoa', 'sec_lan_proficiency', 'fst_lan_proficiency']].corr(method='pearson')"
   ]
  },
  {
   "cell_type": "code",
   "execution_count": 44,
   "metadata": {},
   "outputs": [],
   "source": [
    "legend.to_csv('/projects/sccn/weili_A1/liacz/Documents/Bilingualism_CVAE/data/legend/Hernandez.csv',index = False)"
   ]
  }
 ],
 "metadata": {
  "kernelspec": {
   "display_name": "CVAE",
   "language": "python",
   "name": "python3"
  },
  "language_info": {
   "codemirror_mode": {
    "name": "ipython",
    "version": 3
   },
   "file_extension": ".py",
   "mimetype": "text/x-python",
   "name": "python",
   "nbconvert_exporter": "python",
   "pygments_lexer": "ipython3",
   "version": "3.9.23"
  }
 },
 "nbformat": 4,
 "nbformat_minor": 4
}
