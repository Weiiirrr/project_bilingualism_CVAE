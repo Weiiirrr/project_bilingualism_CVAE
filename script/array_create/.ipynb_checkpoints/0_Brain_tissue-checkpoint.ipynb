{
 "cells": [
  {
   "cell_type": "code",
   "execution_count": 3,
   "metadata": {},
   "outputs": [],
   "source": [
    "import numpy as np\n",
    "import os\n",
    "import ants\n",
    "from matplotlib import pyplot as plt\n",
    "import os\n",
    "\n",
    "from tqdm import tqdm"
   ]
  },
  {
   "cell_type": "markdown",
   "metadata": {},
   "source": [
    "# preprocessed fMRIprep\n",
    "ds1747 (n=92, monolinguals = 33, bilinguals = 59)\n",
    "\n",
    "ping (n=750, monolinguals = 561, bilinguals = 189, children)"
   ]
  },
  {
   "cell_type": "code",
   "execution_count": 67,
   "metadata": {},
   "outputs": [
    {
     "name": "stdout",
     "output_type": "stream",
     "text": [
      "92\n"
     ]
    }
   ],
   "source": [
    "fn = 'ds1747'\n",
    "indir = os.path.join('~/Data/Bilingualism_CVAE/output', fn)\n",
    "indir = os.path.expanduser(indir)\n",
    "subs = [sub for sub in os.listdir(indir) if sub.startswith('sub-') and not sub.endswith('.html')]\n",
    "n = len(subs)\n",
    "\n",
    "outdir = os.path.expanduser(f'~/Documents/Bilingualism_CVAE/data/extracted_brains/{fn}-S{n}')\n",
    "os.mkdir(outdir)\n",
    "\n",
    "print(n)"
   ]
  },
  {
   "cell_type": "code",
   "execution_count": 68,
   "metadata": {},
   "outputs": [],
   "source": [
    "def extract_brain(indir,sub,outdir,fn,do_plot=False):    \n",
    "#     anat_fn = '{indir}/{sub}/anat/{sub}_desc-preproc_T1w.nii.gz'.format(indir=indir,sub=sub)\n",
    "#     gm_mask = '{indir}/{sub}/anat/{sub}_label-GM_probseg.nii.gz'.format(indir=indir,sub=sub)\n",
    "#     wm_mask = '{indir}/{sub}/anat/{sub}_label-WM_probseg.nii.gz'.format(indir=indir,sub=sub)\n",
    "    \n",
    "# #if fn == 'ds1747'   \n",
    "    anat_fn = '{indir}/{sub}/anat/{sub}_run-1_desc-preproc_T1w.nii.gz'.format(indir=indir,sub=sub)\n",
    "    gm_mask = '{indir}/{sub}/anat/{sub}_run-1_label-GM_probseg.nii.gz'.format(indir=indir,sub=sub)\n",
    "    wm_mask = '{indir}/{sub}/anat/{sub}_run-1_label-WM_probseg.nii.gz'.format(indir=indir,sub=sub)\n",
    "\n",
    "    t1 = ants.image_read(anat_fn) # filename for raw anatomical \n",
    "    gm = ants.image_read(gm_mask) # gray matter probability map\n",
    "    wm = ants.image_read(wm_mask) # white matter probability map\n",
    "    brain_mask = gm+wm # combine GM and WM \n",
    "\n",
    "\n",
    "    if do_plot:\n",
    "        t1.plot_ortho(brain_mask,flat=True,xyz_lines=False,orient_labels=False,figsize=5.0,overlay_alpha=.5,overlay_cmap='hot')\n",
    "\n",
    "    brain  = t1.copy() # Make a copy to not overwrite the original\n",
    "    \n",
    "    if do_plot:\n",
    "        brain_mask.plot_ortho(flat=True,xyz_lines=False,orient_labels=False,figsize=5.0) # Check if it worked\n",
    "\n",
    "    brain[brain_mask<.9] = 0 # Zero out the non-brain stuff\n",
    "    if do_plot:\n",
    "        brain.plot_ortho(flat=True,xyz_lines=False,orient_labels=False,figsize=5.0) # Check if it worked\n",
    "\n",
    "    if do_plot:\n",
    "        plt.hist(brain.numpy().flatten()); # check values \n",
    "    \n",
    "    ants.image_write(brain, os.path.join(outdir, sub+'_tissue.nii')) # Save extracted brain\n",
    "                      \n",
    "    return brain\n",
    "    "
   ]
  },
  {
   "cell_type": "code",
   "execution_count": 69,
   "metadata": {},
   "outputs": [
    {
     "name": "stderr",
     "output_type": "stream",
     "text": [
      "100%|██████████| 92/92 [01:18<00:00,  1.18it/s]\n"
     ]
    }
   ],
   "source": [
    "for sub in tqdm(subs):\n",
    "    extract_brain(indir,sub,outdir,fn) "
   ]
  },
  {
   "cell_type": "markdown",
   "metadata": {},
   "source": [
    "# preprocessed already\n",
    "HCPaging(n=725, monolinguals = 519, bilinguals = 206)\n",
    "\n",
    "HCPdev (n=652, monolinguals = 386, bilinguals = 185)"
   ]
  },
  {
   "cell_type": "code",
   "execution_count": 92,
   "metadata": {},
   "outputs": [],
   "source": [
    "fn = 'HCPdev'\n",
    "indir = os.path.expanduser('~/'+fn+'/fmriresults01')\n",
    "subs = [sub for sub in os.listdir(indir) if sub.endswith('_MR')]\n",
    "n = len(subs)\n",
    "n\n",
    "outdir = os.path.expanduser(f'~/Documents/Bilingualism_CVAE/data/extracted_brains/{fn}-S{n}')\n",
    "#os.mkdir(outdir)"
   ]
  },
  {
   "cell_type": "code",
   "execution_count": 93,
   "metadata": {},
   "outputs": [],
   "source": [
    "def extract_brain(indir,sub,outdir,do_plot=False):    \n",
    "    brain = ants.image_read(os.path.join(indir, '{sub}/T1w/T1w_acpc_dc_restore_brain.nii.gz'.format(sub=sub)))\n",
    "    \n",
    "    if do_plot:\n",
    "        brain.plot_ortho(flat=True,xyz_lines=False,orient_labels=False,figsize=5.0)\n",
    "    \n",
    "    ants.image_write(brain, os.path.join(outdir, sub+'_tissue.nii')) # Save extracted brain\n",
    "\n",
    "    return brain"
   ]
  },
  {
   "cell_type": "code",
   "execution_count": 94,
   "metadata": {},
   "outputs": [
    {
     "name": "stderr",
     "output_type": "stream",
     "text": [
      "100%|██████████| 571/571 [02:46<00:00,  3.43it/s]\n"
     ]
    }
   ],
   "source": [
    "for sub in tqdm(subs):\n",
    "    extract_brain(indir,sub,outdir) "
   ]
  },
  {
   "cell_type": "code",
   "execution_count": null,
   "metadata": {},
   "outputs": [],
   "source": []
  }
 ],
 "metadata": {
  "kernelspec": {
   "display_name": "Python 3",
   "language": "python",
   "name": "python3"
  },
  "language_info": {
   "codemirror_mode": {
    "name": "ipython",
    "version": 3
   },
   "file_extension": ".py",
   "mimetype": "text/x-python",
   "name": "python",
   "nbconvert_exporter": "python",
   "pygments_lexer": "ipython3",
   "version": "3.8.3"
  }
 },
 "nbformat": 4,
 "nbformat_minor": 4
}
