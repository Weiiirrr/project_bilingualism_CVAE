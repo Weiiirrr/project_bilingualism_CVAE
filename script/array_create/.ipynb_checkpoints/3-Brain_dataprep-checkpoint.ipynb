{
 "cells": [
  {
   "cell_type": "code",
   "execution_count": 1,
   "metadata": {},
   "outputs": [
    {
     "name": "stderr",
     "output_type": "stream",
     "text": [
      "/mmfs1/data/liacz/.local/lib/python3.8/site-packages/pandas/core/computation/expressions.py:21: UserWarning: Pandas requires version '2.7.3' or newer of 'numexpr' (version '2.7.1' currently installed).\n",
      "  from pandas.core.computation.check import NUMEXPR_INSTALLED\n"
     ]
    }
   ],
   "source": [
    "import numpy as np\n",
    "import pandas as pd\n",
    "import os"
   ]
  },
  {
   "cell_type": "markdown",
   "metadata": {},
   "source": [
    "## load brain data"
   ]
  },
  {
   "cell_type": "code",
   "execution_count": 3,
   "metadata": {},
   "outputs": [],
   "source": [
    "indir = '/mmfs1/data/liacz/Documents/Bilingualism_CVAE/data/array_brains'\n",
    "# indir = '/mmfs1/data/liacz/Documents/Bilingualism_CVAE/data/array_brains/unaligned'\n",
    "\n",
    "BRAIN_data = np.empty([0,64,64,64])\n",
    "BRAIN_subs = np.empty([0,])\n",
    "BRAIN_ds = np.empty([0,])\n",
    "for dat in os.listdir(indir): \n",
    "    if dat.startswith('Anat-Bilingual-64iso'):\n",
    "        arr = np.load(os.path.join(indir,dat))\n",
    "        BRAIN_data = np.concatenate((BRAIN_data, arr['data']), axis=0)\n",
    "        BRAIN_subs = np.concatenate((BRAIN_subs, arr['subs']), axis=0)\n",
    "        BRAIN_ds = np.concatenate((BRAIN_ds, [dat.split('.')[0].split('-')[-2]]*len(arr['subs'])), axis=0)"
   ]
  },
  {
   "cell_type": "code",
   "execution_count": 4,
   "metadata": {},
   "outputs": [
    {
     "data": {
      "text/plain": [
       "(2499, 64, 64, 64)"
      ]
     },
     "execution_count": 4,
     "metadata": {},
     "output_type": "execute_result"
    }
   ],
   "source": [
    "BRAIN_data.shape"
   ]
  },
  {
   "cell_type": "markdown",
   "metadata": {},
   "source": [
    "## load demographic information"
   ]
  },
  {
   "cell_type": "code",
   "execution_count": 6,
   "metadata": {},
   "outputs": [
    {
     "name": "stdout",
     "output_type": "stream",
     "text": [
      "92\n",
      "652\n",
      "363\n",
      "724\n",
      "1493\n"
     ]
    },
    {
     "name": "stderr",
     "output_type": "stream",
     "text": [
      "<ipython-input-6-8ccb919b9629>:8: FutureWarning: The frame.append method is deprecated and will be removed from pandas in a future version. Use pandas.concat instead.\n",
      "  legend = legend.append(df_temp, ignore_index=True)\n",
      "<ipython-input-6-8ccb919b9629>:8: FutureWarning: The frame.append method is deprecated and will be removed from pandas in a future version. Use pandas.concat instead.\n",
      "  legend = legend.append(df_temp, ignore_index=True)\n",
      "<ipython-input-6-8ccb919b9629>:8: FutureWarning: The frame.append method is deprecated and will be removed from pandas in a future version. Use pandas.concat instead.\n",
      "  legend = legend.append(df_temp, ignore_index=True)\n",
      "<ipython-input-6-8ccb919b9629>:8: FutureWarning: The frame.append method is deprecated and will be removed from pandas in a future version. Use pandas.concat instead.\n",
      "  legend = legend.append(df_temp, ignore_index=True)\n",
      "<ipython-input-6-8ccb919b9629>:8: FutureWarning: The frame.append method is deprecated and will be removed from pandas in a future version. Use pandas.concat instead.\n",
      "  legend = legend.append(df_temp, ignore_index=True)\n"
     ]
    }
   ],
   "source": [
    "indir = os.path.expanduser('~/Documents/Bilingualism_CVAE/data/legend')\n",
    "outdir = os.path.expanduser('~/Documents/Bilingualism_CVAE/data/legend.csv')\n",
    "fns = [fn for fn in os.listdir(indir) if fn.endswith('.csv')]\n",
    "legend = pd.DataFrame()\n",
    "for fn in fns:\n",
    "    df_temp = pd.read_csv(os.path.join(indir,fn))\n",
    "    print(len(df_temp))\n",
    "    legend = legend.append(df_temp, ignore_index=True)\n",
    "\n",
    "legend.loc[legend['ds']=='HCPaging', 'participant_id'] = legend.loc[legend['ds']=='HCPaging', 'participant_id']+'_V1_MR'\n",
    "legend.loc[legend['ds']=='HCPdev', 'participant_id'] = legend.loc[legend['ds']=='HCPdev', 'participant_id']+'_V1_MR'\n",
    "legend.loc[legend['ds']=='ping', 'ds'] = 'Ping'\n",
    "# legend.loc[legend['ds']=='ping', 'ds'] = 'ping'\n",
    "\n",
    "legend.loc[legend['ds']=='Hernandez', 'participant_id'] = legend.loc[legend['ds']=='Hernandez', 'participant_id']+'.mgz'\n",
    "\n",
    "\n",
    "legend['ds_par_id'] = legend['ds'] +'_'+ legend['participant_id']\n",
    "legend.to_csv(outdir, index=False)"
   ]
  },
  {
   "cell_type": "markdown",
   "metadata": {},
   "source": [
    "## align two datasets"
   ]
  },
  {
   "cell_type": "code",
   "execution_count": 7,
   "metadata": {},
   "outputs": [],
   "source": [
    "BRAIN_ds_subs = [BRAIN_ds[i]+'_'+BRAIN_subs[i] for i in range(0,len(BRAIN_subs))]\n",
    "legend_subs = legend.ds_par_id"
   ]
  },
  {
   "cell_type": "code",
   "execution_count": 8,
   "metadata": {},
   "outputs": [
    {
     "name": "stdout",
     "output_type": "stream",
     "text": [
      "3324\n",
      "Ping_sub-P0358\n",
      "HCPaging_HCA9640889_V1_MR\n",
      "Hernandez_WL_025.mgz\n"
     ]
    }
   ],
   "source": [
    "print(len(legend_subs))\n",
    "print(legend_subs[3300])\n",
    "print(legend_subs[1800])\n",
    "print(legend_subs[900])"
   ]
  },
  {
   "cell_type": "code",
   "execution_count": 9,
   "metadata": {},
   "outputs": [
    {
     "data": {
      "text/plain": [
       "'Ping_sub-P1693'"
      ]
     },
     "execution_count": 9,
     "metadata": {},
     "output_type": "execute_result"
    }
   ],
   "source": [
    "BRAIN_ds_subs[700]"
   ]
  },
  {
   "cell_type": "code",
   "execution_count": 10,
   "metadata": {},
   "outputs": [],
   "source": [
    "# BRAIN_ds_subs"
   ]
  },
  {
   "cell_type": "code",
   "execution_count": 11,
   "metadata": {},
   "outputs": [],
   "source": [
    "subs_legend = [sub in BRAIN_ds_subs for sub in legend_subs]\n",
    "subs_BRAIN = [sub in list(legend_subs) for sub in BRAIN_ds_subs]"
   ]
  },
  {
   "cell_type": "code",
   "execution_count": 12,
   "metadata": {},
   "outputs": [
    {
     "name": "stdout",
     "output_type": "stream",
     "text": [
      "3324\n",
      "2499\n"
     ]
    }
   ],
   "source": [
    "print(len(subs_legend))\n",
    "print(len(subs_BRAIN))"
   ]
  },
  {
   "cell_type": "code",
   "execution_count": 13,
   "metadata": {},
   "outputs": [],
   "source": [
    "BRAIN_data = BRAIN_data[subs_BRAIN]\n",
    "BRAIN_subs = BRAIN_subs[subs_BRAIN]\n",
    "BRAIN_ds = BRAIN_ds[subs_BRAIN]"
   ]
  },
  {
   "cell_type": "code",
   "execution_count": 14,
   "metadata": {},
   "outputs": [],
   "source": [
    "legend = legend[subs_legend]"
   ]
  },
  {
   "cell_type": "code",
   "execution_count": 15,
   "metadata": {},
   "outputs": [
    {
     "name": "stdout",
     "output_type": "stream",
     "text": [
      "2497\n",
      "2497\n"
     ]
    }
   ],
   "source": [
    "print(len(BRAIN_data))\n",
    "print(len(legend))"
   ]
  },
  {
   "cell_type": "markdown",
   "metadata": {},
   "source": [
    "## save data"
   ]
  },
  {
   "cell_type": "code",
   "execution_count": 16,
   "metadata": {},
   "outputs": [],
   "source": [
    "outdir = os.path.expanduser('~/Documents/Bilingualism_CVAE/data/array_brains')\n",
    "np.save(os.path.join(outdir, (\"arr_combine/BRAIN_data\")), BRAIN_data)\n",
    "np.save(os.path.join(outdir, (\"arr_combine/BRAIN_subs\")), BRAIN_subs)\n",
    "np.save(os.path.join(outdir, (\"arr_combine/BRAIN_ds\")), BRAIN_ds)"
   ]
  },
  {
   "cell_type": "code",
   "execution_count": 17,
   "metadata": {},
   "outputs": [
    {
     "data": {
      "text/plain": [
       "2497"
      ]
     },
     "execution_count": 17,
     "metadata": {},
     "output_type": "execute_result"
    }
   ],
   "source": [
    "len(legend)"
   ]
  },
  {
   "cell_type": "code",
   "execution_count": 18,
   "metadata": {},
   "outputs": [],
   "source": [
    "legend.to_csv(\n",
    "    os.path.expanduser('~/Documents/Bilingualism_CVAE/data/legend.csv'),\n",
    "    index = False)"
   ]
  },
  {
   "cell_type": "markdown",
   "metadata": {},
   "source": [
    "## create bilingual and monolingual data"
   ]
  },
  {
   "cell_type": "code",
   "execution_count": 19,
   "metadata": {},
   "outputs": [
    {
     "name": "stdout",
     "output_type": "stream",
     "text": [
      "[(2497,), (2497,), (2497, 64, 64, 64)]\n",
      "2497\n",
      "(0.0, 1.0)\n"
     ]
    }
   ],
   "source": [
    "#BRAIN_data = np.array(BRAIN_data)\n",
    "nsubs = BRAIN_data.shape[0]\n",
    "print([arr.shape for arr in [BRAIN_ds, BRAIN_subs, BRAIN_data]])\n",
    "print(nsubs)\n",
    "print((BRAIN_data.min(),BRAIN_data.max()))"
   ]
  },
  {
   "cell_type": "code",
   "execution_count": 20,
   "metadata": {},
   "outputs": [],
   "source": [
    "df = pd.read_csv('/mmfs1/data/liacz/Documents/Bilingualism_CVAE/data/legend.csv')\n",
    "BI_subs = df.loc[df['bilingualism'].values == 1.0, 'ds_par_id']\n",
    "MO_subs = df.loc[df['bilingualism'].values == 0.0, 'ds_par_id']\n",
    "BRAIN_ds_subs = [BRAIN_ds[i]+'_'+BRAIN_subs[i] for i in range(0,len(BRAIN_subs))]\n",
    "BI_subs = [sub in BI_subs.to_list() for sub in BRAIN_ds_subs]\n",
    "MO_subs = [sub in MO_subs.to_list() for sub in BRAIN_ds_subs]"
   ]
  },
  {
   "cell_type": "code",
   "execution_count": 21,
   "metadata": {},
   "outputs": [
    {
     "name": "stdout",
     "output_type": "stream",
     "text": [
      "853\n",
      "1644\n"
     ]
    }
   ],
   "source": [
    "print(BI_subs.count(True))\n",
    "print(MO_subs.count(True))"
   ]
  },
  {
   "cell_type": "code",
   "execution_count": 22,
   "metadata": {},
   "outputs": [
    {
     "name": "stdout",
     "output_type": "stream",
     "text": [
      "(1644, 64, 64, 64)\n"
     ]
    }
   ],
   "source": [
    "TD_subs = BRAIN_data[MO_subs,:,:,:] # Data of Monolinguals \n",
    "print(TD_subs.shape)"
   ]
  },
  {
   "cell_type": "code",
   "execution_count": 23,
   "metadata": {},
   "outputs": [
    {
     "name": "stdout",
     "output_type": "stream",
     "text": [
      "(853, 64, 64, 64)\n"
     ]
    }
   ],
   "source": [
    "DX_subs = BRAIN_data[BI_subs,:,:,:] # Data of Bilinguals\n",
    "print(DX_subs.shape)"
   ]
  },
  {
   "cell_type": "code",
   "execution_count": 24,
   "metadata": {},
   "outputs": [],
   "source": [
    "outdir = os.path.expanduser('~/Documents/Bilingualism_CVAE/data/array_brains')\n",
    "np.save(os.path.join(outdir, (\"arr_combine/TD_subs\")), TD_subs)\n",
    "np.save(os.path.join(outdir, (\"arr_combine/DX_subs\")), DX_subs)"
   ]
  },
  {
   "cell_type": "code",
   "execution_count": null,
   "metadata": {},
   "outputs": [],
   "source": []
  }
 ],
 "metadata": {
  "kernelspec": {
   "display_name": "Python 3",
   "language": "python",
   "name": "python3"
  },
  "language_info": {
   "codemirror_mode": {
    "name": "ipython",
    "version": 3
   },
   "file_extension": ".py",
   "mimetype": "text/x-python",
   "name": "python",
   "nbconvert_exporter": "python",
   "pygments_lexer": "ipython3",
   "version": "3.8.3"
  }
 },
 "nbformat": 4,
 "nbformat_minor": 4
}
