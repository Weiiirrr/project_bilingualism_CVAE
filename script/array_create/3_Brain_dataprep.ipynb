{
 "cells": [
  {
   "cell_type": "code",
   "execution_count": 1,
   "metadata": {},
   "outputs": [],
   "source": [
    "import numpy as np\n",
    "import pandas as pd\n",
    "import os\n",
    "os.chdir('/projects/sccn/weili_A1/liacz/Documents/Bilingualism_CVAE')"
   ]
  },
  {
   "cell_type": "markdown",
   "metadata": {},
   "source": [
    "## load brain data"
   ]
  },
  {
   "cell_type": "code",
   "execution_count": 3,
   "metadata": {},
   "outputs": [],
   "source": [
    "indir = '/mmfs1/data/liacz/Documents/Bilingualism_CVAE/data/array_brains'\n",
    "# indir = '/mmfs1/data/liacz/Documents/Bilingualism_CVAE/data/array_brains/unaligned'\n",
    "\n",
    "BRAIN_data = np.empty([0,64,64,64])\n",
    "BRAIN_subs = np.empty([0,])\n",
    "BRAIN_ds = np.empty([0,])\n",
    "for dat in os.listdir(indir): \n",
    "    if dat.startswith('Anat-Bilingual-64iso'):\n",
    "#     if dat.startswith('Anat-Bilingual-64iso-H'):\n",
    "        arr = np.load(os.path.join(indir,dat))\n",
    "        BRAIN_data = np.concatenate((BRAIN_data, arr['data']), axis=0)\n",
    "        BRAIN_subs = np.concatenate((BRAIN_subs, arr['subs']), axis=0)\n",
    "        BRAIN_ds = np.concatenate((BRAIN_ds, [dat.split('.')[0].split('-')[-2]]*len(arr['subs'])), axis=0)"
   ]
  },
  {
   "cell_type": "code",
   "execution_count": 4,
   "metadata": {},
   "outputs": [
    {
     "data": {
      "text/plain": [
       "(2499, 64, 64, 64)"
      ]
     },
     "execution_count": 4,
     "metadata": {},
     "output_type": "execute_result"
    }
   ],
   "source": [
    "BRAIN_data.shape"
   ]
  },
  {
   "cell_type": "markdown",
   "metadata": {},
   "source": [
    "## load demographic information"
   ]
  },
  {
   "cell_type": "code",
   "execution_count": 4,
   "metadata": {},
   "outputs": [
    {
     "name": "stdout",
     "output_type": "stream",
     "text": [
      "92\n",
      "363\n"
     ]
    }
   ],
   "source": [
    "indir = 'data/legend'\n",
    "outdir = 'data/legend.csv'\n",
    "fns = [fn for fn in os.listdir(indir) if fn.endswith('.csv')]\n",
    "legend = pd.DataFrame()\n",
    "dataframes = []  # Create a list to store dataframes\n",
    "\n",
    "for fn in fns:\n",
    "    df_temp = pd.read_csv(os.path.join(indir,fn))\n",
    "    print(len(df_temp))\n",
    "    dataframes.append(df_temp)  # Add to list instead of using append\n",
    "\n",
    "# Use pd.concat to combine all dataframes at once\n",
    "legend = pd.concat(dataframes, ignore_index=True)\n",
    "\n",
    "# legend.loc[legend['ds']=='HCPaging', 'participant_id'] = legend.loc[legend['ds']=='HCPaging', 'participant_id']+'_V1_MR'\n",
    "# legend.loc[legend['ds']=='HCPdev', 'participant_id'] = legend.loc[legend['ds']=='HCPdev', 'participant_id']+'_V1_MR'\n",
    "# legend.loc[legend['ds']=='ping', 'ds'] = 'Ping'\n",
    "# legend.loc[legend['ds']=='ping', 'ds'] = 'ping'\n",
    "\n",
    "legend.loc[legend['ds']=='Hernandez', 'participant_id'] = legend.loc[legend['ds']=='Hernandez', 'participant_id']+'.mgz'\n",
    "\n",
    "legend['ds_par_id'] = legend['ds'] +'_'+ legend['participant_id']\n",
    "legend.to_csv(outdir, index=False)"
   ]
  },
  {
   "cell_type": "code",
   "execution_count": 5,
   "metadata": {},
   "outputs": [
    {
     "data": {
      "text/html": [
       "<div>\n",
       "<style scoped>\n",
       "    .dataframe tbody tr th:only-of-type {\n",
       "        vertical-align: middle;\n",
       "    }\n",
       "\n",
       "    .dataframe tbody tr th {\n",
       "        vertical-align: top;\n",
       "    }\n",
       "\n",
       "    .dataframe thead th {\n",
       "        text-align: right;\n",
       "    }\n",
       "</style>\n",
       "<table border=\"1\" class=\"dataframe\">\n",
       "  <thead>\n",
       "    <tr style=\"text-align: right;\">\n",
       "      <th></th>\n",
       "      <th>participant_id</th>\n",
       "      <th>bilingualism</th>\n",
       "      <th>age</th>\n",
       "      <th>sex</th>\n",
       "      <th>aoa_group</th>\n",
       "      <th>num_lan</th>\n",
       "      <th>sec_lan_proficiency</th>\n",
       "      <th>ds</th>\n",
       "      <th>scanner</th>\n",
       "      <th>aoa</th>\n",
       "      <th>fst_lan_proficiency</th>\n",
       "      <th>ds_par_id</th>\n",
       "    </tr>\n",
       "  </thead>\n",
       "  <tbody>\n",
       "    <tr>\n",
       "      <th>0</th>\n",
       "      <td>sub-2975</td>\n",
       "      <td>0.0</td>\n",
       "      <td>21.0</td>\n",
       "      <td>F</td>\n",
       "      <td>NaN</td>\n",
       "      <td>3.0</td>\n",
       "      <td>NaN</td>\n",
       "      <td>ds1747</td>\n",
       "      <td>Erlangen</td>\n",
       "      <td>NaN</td>\n",
       "      <td>NaN</td>\n",
       "      <td>ds1747_sub-2975</td>\n",
       "    </tr>\n",
       "    <tr>\n",
       "      <th>1</th>\n",
       "      <td>sub-3156</td>\n",
       "      <td>1.0</td>\n",
       "      <td>22.0</td>\n",
       "      <td>M</td>\n",
       "      <td>LB</td>\n",
       "      <td>4.0</td>\n",
       "      <td>1.000000</td>\n",
       "      <td>ds1747</td>\n",
       "      <td>Erlangen</td>\n",
       "      <td>NaN</td>\n",
       "      <td>NaN</td>\n",
       "      <td>ds1747_sub-3156</td>\n",
       "    </tr>\n",
       "    <tr>\n",
       "      <th>2</th>\n",
       "      <td>sub-3225</td>\n",
       "      <td>1.0</td>\n",
       "      <td>25.0</td>\n",
       "      <td>M</td>\n",
       "      <td>LB</td>\n",
       "      <td>2.0</td>\n",
       "      <td>0.800000</td>\n",
       "      <td>ds1747</td>\n",
       "      <td>Erlangen</td>\n",
       "      <td>NaN</td>\n",
       "      <td>NaN</td>\n",
       "      <td>ds1747_sub-3225</td>\n",
       "    </tr>\n",
       "    <tr>\n",
       "      <th>3</th>\n",
       "      <td>sub-3788</td>\n",
       "      <td>0.0</td>\n",
       "      <td>21.0</td>\n",
       "      <td>F</td>\n",
       "      <td>NaN</td>\n",
       "      <td>NaN</td>\n",
       "      <td>NaN</td>\n",
       "      <td>ds1747</td>\n",
       "      <td>Erlangen</td>\n",
       "      <td>NaN</td>\n",
       "      <td>NaN</td>\n",
       "      <td>ds1747_sub-3788</td>\n",
       "    </tr>\n",
       "    <tr>\n",
       "      <th>4</th>\n",
       "      <td>sub-3789</td>\n",
       "      <td>0.0</td>\n",
       "      <td>25.0</td>\n",
       "      <td>M</td>\n",
       "      <td>NaN</td>\n",
       "      <td>NaN</td>\n",
       "      <td>NaN</td>\n",
       "      <td>ds1747</td>\n",
       "      <td>Erlangen</td>\n",
       "      <td>NaN</td>\n",
       "      <td>NaN</td>\n",
       "      <td>ds1747_sub-3789</td>\n",
       "    </tr>\n",
       "    <tr>\n",
       "      <th>...</th>\n",
       "      <td>...</td>\n",
       "      <td>...</td>\n",
       "      <td>...</td>\n",
       "      <td>...</td>\n",
       "      <td>...</td>\n",
       "      <td>...</td>\n",
       "      <td>...</td>\n",
       "      <td>...</td>\n",
       "      <td>...</td>\n",
       "      <td>...</td>\n",
       "      <td>...</td>\n",
       "      <td>...</td>\n",
       "    </tr>\n",
       "    <tr>\n",
       "      <th>450</th>\n",
       "      <td>UH_T.mgz</td>\n",
       "      <td>0.0</td>\n",
       "      <td>19.0</td>\n",
       "      <td>F</td>\n",
       "      <td>NaN</td>\n",
       "      <td>NaN</td>\n",
       "      <td>0.790447</td>\n",
       "      <td>Hernandez</td>\n",
       "      <td>Hernandez</td>\n",
       "      <td>NaN</td>\n",
       "      <td>NaN</td>\n",
       "      <td>Hernandez_UH_T.mgz</td>\n",
       "    </tr>\n",
       "    <tr>\n",
       "      <th>451</th>\n",
       "      <td>UH_U.mgz</td>\n",
       "      <td>0.0</td>\n",
       "      <td>21.0</td>\n",
       "      <td>M</td>\n",
       "      <td>NaN</td>\n",
       "      <td>NaN</td>\n",
       "      <td>0.859527</td>\n",
       "      <td>Hernandez</td>\n",
       "      <td>Hernandez</td>\n",
       "      <td>NaN</td>\n",
       "      <td>NaN</td>\n",
       "      <td>Hernandez_UH_U.mgz</td>\n",
       "    </tr>\n",
       "    <tr>\n",
       "      <th>452</th>\n",
       "      <td>UH_V.mgz</td>\n",
       "      <td>1.0</td>\n",
       "      <td>18.0</td>\n",
       "      <td>M</td>\n",
       "      <td>EB</td>\n",
       "      <td>NaN</td>\n",
       "      <td>0.702619</td>\n",
       "      <td>Hernandez</td>\n",
       "      <td>Hernandez</td>\n",
       "      <td>4.0</td>\n",
       "      <td>0.532866</td>\n",
       "      <td>Hernandez_UH_V.mgz</td>\n",
       "    </tr>\n",
       "    <tr>\n",
       "      <th>453</th>\n",
       "      <td>UH_Y.mgz</td>\n",
       "      <td>1.0</td>\n",
       "      <td>22.0</td>\n",
       "      <td>F</td>\n",
       "      <td>LB</td>\n",
       "      <td>NaN</td>\n",
       "      <td>0.717750</td>\n",
       "      <td>Hernandez</td>\n",
       "      <td>Hernandez</td>\n",
       "      <td>10.0</td>\n",
       "      <td>0.752700</td>\n",
       "      <td>Hernandez_UH_Y.mgz</td>\n",
       "    </tr>\n",
       "    <tr>\n",
       "      <th>454</th>\n",
       "      <td>UH_Z.mgz</td>\n",
       "      <td>0.0</td>\n",
       "      <td>22.0</td>\n",
       "      <td>M</td>\n",
       "      <td>NaN</td>\n",
       "      <td>NaN</td>\n",
       "      <td>0.728043</td>\n",
       "      <td>Hernandez</td>\n",
       "      <td>Hernandez</td>\n",
       "      <td>NaN</td>\n",
       "      <td>NaN</td>\n",
       "      <td>Hernandez_UH_Z.mgz</td>\n",
       "    </tr>\n",
       "  </tbody>\n",
       "</table>\n",
       "<p>455 rows × 12 columns</p>\n",
       "</div>"
      ],
      "text/plain": [
       "    participant_id  bilingualism   age sex aoa_group  num_lan  \\\n",
       "0         sub-2975           0.0  21.0   F       NaN      3.0   \n",
       "1         sub-3156           1.0  22.0   M        LB      4.0   \n",
       "2         sub-3225           1.0  25.0   M        LB      2.0   \n",
       "3         sub-3788           0.0  21.0   F       NaN      NaN   \n",
       "4         sub-3789           0.0  25.0   M       NaN      NaN   \n",
       "..             ...           ...   ...  ..       ...      ...   \n",
       "450       UH_T.mgz           0.0  19.0   F       NaN      NaN   \n",
       "451       UH_U.mgz           0.0  21.0   M       NaN      NaN   \n",
       "452       UH_V.mgz           1.0  18.0   M        EB      NaN   \n",
       "453       UH_Y.mgz           1.0  22.0   F        LB      NaN   \n",
       "454       UH_Z.mgz           0.0  22.0   M       NaN      NaN   \n",
       "\n",
       "     sec_lan_proficiency         ds    scanner   aoa  fst_lan_proficiency  \\\n",
       "0                    NaN     ds1747   Erlangen   NaN                  NaN   \n",
       "1               1.000000     ds1747   Erlangen   NaN                  NaN   \n",
       "2               0.800000     ds1747   Erlangen   NaN                  NaN   \n",
       "3                    NaN     ds1747   Erlangen   NaN                  NaN   \n",
       "4                    NaN     ds1747   Erlangen   NaN                  NaN   \n",
       "..                   ...        ...        ...   ...                  ...   \n",
       "450             0.790447  Hernandez  Hernandez   NaN                  NaN   \n",
       "451             0.859527  Hernandez  Hernandez   NaN                  NaN   \n",
       "452             0.702619  Hernandez  Hernandez   4.0             0.532866   \n",
       "453             0.717750  Hernandez  Hernandez  10.0             0.752700   \n",
       "454             0.728043  Hernandez  Hernandez   NaN                  NaN   \n",
       "\n",
       "              ds_par_id  \n",
       "0       ds1747_sub-2975  \n",
       "1       ds1747_sub-3156  \n",
       "2       ds1747_sub-3225  \n",
       "3       ds1747_sub-3788  \n",
       "4       ds1747_sub-3789  \n",
       "..                  ...  \n",
       "450  Hernandez_UH_T.mgz  \n",
       "451  Hernandez_UH_U.mgz  \n",
       "452  Hernandez_UH_V.mgz  \n",
       "453  Hernandez_UH_Y.mgz  \n",
       "454  Hernandez_UH_Z.mgz  \n",
       "\n",
       "[455 rows x 12 columns]"
      ]
     },
     "execution_count": 5,
     "metadata": {},
     "output_type": "execute_result"
    }
   ],
   "source": [
    "legend"
   ]
  },
  {
   "cell_type": "markdown",
   "metadata": {},
   "source": [
    "## align two datasets"
   ]
  },
  {
   "cell_type": "code",
   "execution_count": null,
   "metadata": {},
   "outputs": [],
   "source": [
    "BRAIN_ds_subs = [BRAIN_ds[i]+'_'+BRAIN_subs[i] for i in range(0,len(BRAIN_subs))]\n",
    "legend_subs = legend.ds_par_id"
   ]
  },
  {
   "cell_type": "code",
   "execution_count": 8,
   "metadata": {},
   "outputs": [
    {
     "name": "stdout",
     "output_type": "stream",
     "text": [
      "3324\n",
      "Ping_sub-P0358\n",
      "HCPaging_HCA9640889_V1_MR\n",
      "Hernandez_WL_025.mgz\n"
     ]
    }
   ],
   "source": [
    "print(len(legend_subs))\n",
    "print(legend_subs[3300])\n",
    "print(legend_subs[1800])\n",
    "print(legend_subs[900])"
   ]
  },
  {
   "cell_type": "code",
   "execution_count": 9,
   "metadata": {},
   "outputs": [
    {
     "data": {
      "text/plain": [
       "'Ping_sub-P1693'"
      ]
     },
     "execution_count": 9,
     "metadata": {},
     "output_type": "execute_result"
    }
   ],
   "source": [
    "BRAIN_ds_subs[700]"
   ]
  },
  {
   "cell_type": "code",
   "execution_count": 10,
   "metadata": {},
   "outputs": [],
   "source": [
    "# BRAIN_ds_subs"
   ]
  },
  {
   "cell_type": "code",
   "execution_count": 11,
   "metadata": {},
   "outputs": [],
   "source": [
    "subs_legend = [sub in BRAIN_ds_subs for sub in legend_subs]\n",
    "subs_BRAIN = [sub in list(legend_subs) for sub in BRAIN_ds_subs]"
   ]
  },
  {
   "cell_type": "code",
   "execution_count": 12,
   "metadata": {},
   "outputs": [
    {
     "name": "stdout",
     "output_type": "stream",
     "text": [
      "3324\n",
      "2499\n"
     ]
    }
   ],
   "source": [
    "print(len(subs_legend))\n",
    "print(len(subs_BRAIN))"
   ]
  },
  {
   "cell_type": "code",
   "execution_count": 13,
   "metadata": {},
   "outputs": [],
   "source": [
    "BRAIN_data = BRAIN_data[subs_BRAIN]\n",
    "BRAIN_subs = BRAIN_subs[subs_BRAIN]\n",
    "BRAIN_ds = BRAIN_ds[subs_BRAIN]"
   ]
  },
  {
   "cell_type": "code",
   "execution_count": 14,
   "metadata": {},
   "outputs": [],
   "source": [
    "legend = legend[subs_legend]"
   ]
  },
  {
   "cell_type": "code",
   "execution_count": 15,
   "metadata": {},
   "outputs": [
    {
     "name": "stdout",
     "output_type": "stream",
     "text": [
      "2497\n",
      "2497\n"
     ]
    }
   ],
   "source": [
    "print(len(BRAIN_data))\n",
    "print(len(legend))"
   ]
  },
  {
   "cell_type": "markdown",
   "metadata": {},
   "source": [
    "## save data"
   ]
  },
  {
   "cell_type": "code",
   "execution_count": 16,
   "metadata": {},
   "outputs": [],
   "source": [
    "outdir = os.path.expanduser('~/Documents/Bilingualism_CVAE/data/array_brains')\n",
    "np.save(os.path.join(outdir, (\"arr_combine/BRAIN_data\")), BRAIN_data)\n",
    "np.save(os.path.join(outdir, (\"arr_combine/BRAIN_subs\")), BRAIN_subs)\n",
    "np.save(os.path.join(outdir, (\"arr_combine/BRAIN_ds\")), BRAIN_ds)"
   ]
  },
  {
   "cell_type": "code",
   "execution_count": 17,
   "metadata": {},
   "outputs": [
    {
     "data": {
      "text/plain": [
       "2497"
      ]
     },
     "execution_count": 17,
     "metadata": {},
     "output_type": "execute_result"
    }
   ],
   "source": [
    "len(legend)"
   ]
  },
  {
   "cell_type": "code",
   "execution_count": 18,
   "metadata": {},
   "outputs": [],
   "source": [
    "legend.to_csv(\n",
    "    os.path.expanduser('~/Documents/Bilingualism_CVAE/data/legend.csv'),\n",
    "    index = False)"
   ]
  },
  {
   "cell_type": "markdown",
   "metadata": {},
   "source": [
    "## create bilingual and monolingual data"
   ]
  },
  {
   "cell_type": "code",
   "execution_count": 19,
   "metadata": {},
   "outputs": [
    {
     "name": "stdout",
     "output_type": "stream",
     "text": [
      "[(2497,), (2497,), (2497, 64, 64, 64)]\n",
      "2497\n",
      "(0.0, 1.0)\n"
     ]
    }
   ],
   "source": [
    "#BRAIN_data = np.array(BRAIN_data)\n",
    "nsubs = BRAIN_data.shape[0]\n",
    "print([arr.shape for arr in [BRAIN_ds, BRAIN_subs, BRAIN_data]])\n",
    "print(nsubs)\n",
    "print((BRAIN_data.min(),BRAIN_data.max()))"
   ]
  },
  {
   "cell_type": "code",
   "execution_count": 20,
   "metadata": {},
   "outputs": [],
   "source": [
    "df = pd.read_csv('/mmfs1/data/liacz/Documents/Bilingualism_CVAE/data/legend.csv')\n",
    "BI_subs = df.loc[df['bilingualism'].values == 1.0, 'ds_par_id']\n",
    "MO_subs = df.loc[df['bilingualism'].values == 0.0, 'ds_par_id']\n",
    "BRAIN_ds_subs = [BRAIN_ds[i]+'_'+BRAIN_subs[i] for i in range(0,len(BRAIN_subs))]\n",
    "BI_subs = [sub in BI_subs.to_list() for sub in BRAIN_ds_subs]\n",
    "MO_subs = [sub in MO_subs.to_list() for sub in BRAIN_ds_subs]"
   ]
  },
  {
   "cell_type": "code",
   "execution_count": 21,
   "metadata": {},
   "outputs": [
    {
     "name": "stdout",
     "output_type": "stream",
     "text": [
      "853\n",
      "1644\n"
     ]
    }
   ],
   "source": [
    "print(BI_subs.count(True))\n",
    "print(MO_subs.count(True))"
   ]
  },
  {
   "cell_type": "code",
   "execution_count": 22,
   "metadata": {},
   "outputs": [
    {
     "name": "stdout",
     "output_type": "stream",
     "text": [
      "(1644, 64, 64, 64)\n"
     ]
    }
   ],
   "source": [
    "TD_subs = BRAIN_data[MO_subs,:,:,:] # Data of Monolinguals \n",
    "print(TD_subs.shape)"
   ]
  },
  {
   "cell_type": "code",
   "execution_count": 23,
   "metadata": {},
   "outputs": [
    {
     "name": "stdout",
     "output_type": "stream",
     "text": [
      "(853, 64, 64, 64)\n"
     ]
    }
   ],
   "source": [
    "DX_subs = BRAIN_data[BI_subs,:,:,:] # Data of Bilinguals\n",
    "print(DX_subs.shape)"
   ]
  },
  {
   "cell_type": "code",
   "execution_count": 24,
   "metadata": {},
   "outputs": [],
   "source": [
    "outdir = os.path.expanduser('~/Documents/Bilingualism_CVAE/data/array_brains')\n",
    "np.save(os.path.join(outdir, (\"arr_combine/TD_subs\")), TD_subs)\n",
    "np.save(os.path.join(outdir, (\"arr_combine/DX_subs\")), DX_subs)"
   ]
  },
  {
   "cell_type": "code",
   "execution_count": null,
   "metadata": {},
   "outputs": [],
   "source": []
  }
 ],
 "metadata": {
  "kernelspec": {
   "display_name": "CVAE",
   "language": "python",
   "name": "python3"
  },
  "language_info": {
   "codemirror_mode": {
    "name": "ipython",
    "version": 3
   },
   "file_extension": ".py",
   "mimetype": "text/x-python",
   "name": "python",
   "nbconvert_exporter": "python",
   "pygments_lexer": "ipython3",
   "version": "3.9.23"
  }
 },
 "nbformat": 4,
 "nbformat_minor": 4
}
