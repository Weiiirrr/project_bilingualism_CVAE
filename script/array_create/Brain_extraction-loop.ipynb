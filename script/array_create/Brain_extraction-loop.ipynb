{
 "cells": [
  {
   "cell_type": "code",
   "execution_count": 1,
   "metadata": {},
   "outputs": [],
   "source": [
    "import numpy as np\n",
    "import os\n",
    "import ants\n",
    "from matplotlib import pyplot as plt\n",
    "import os\n",
    "\n",
    "from tqdm import tqdm"
   ]
  },
  {
   "cell_type": "code",
   "execution_count": 12,
   "metadata": {},
   "outputs": [
    {
     "name": "stdout",
     "output_type": "stream",
     "text": [
      "750\n"
     ]
    }
   ],
   "source": [
    "#fn = ds3542, ds3545, ds1747, ds1796, Ping\n",
    "fn = 'Ping'\n",
    "indir = os.path.join('~/Data/Bilingualism_CVAE/output', fn)\n",
    "indir = os.path.expanduser(indir)\n",
    "subs = [sub for sub in os.listdir(indir) if sub.startswith('sub-') and not sub.endswith('.html')]\n",
    "n = len(subs)\n",
    "\n",
    "outdir = os.path.expanduser(f'~/Documents/Bilingualism_CVAE/data/extracted_brains/{fn}-S{n}')\n",
    "os.mkdir(outdir)\n",
    "\n",
    "print(n)"
   ]
  },
  {
   "cell_type": "code",
   "execution_count": 13,
   "metadata": {},
   "outputs": [],
   "source": [
    "def extract_brain(indir,sub,outdir,fn,do_plot=False):    \n",
    "    anat_fn = '{indir}/{sub}/anat/{sub}_desc-preproc_T1w.nii.gz'.format(indir=indir,sub=sub)\n",
    "    gm_mask = '{indir}/{sub}/anat/{sub}_label-GM_probseg.nii.gz'.format(indir=indir,sub=sub)\n",
    "    wm_mask = '{indir}/{sub}/anat/{sub}_label-WM_probseg.nii.gz'.format(indir=indir,sub=sub)\n",
    "    \n",
    "# #if fn == 'ds1747'   \n",
    "#     anat_fn = '{indir}/{sub}/anat/{sub}_run-1_desc-preproc_T1w.nii.gz'.format(indir=indir,sub=sub)\n",
    "#     gm_mask = '{indir}/{sub}/anat/{sub}_run-1_label-GM_probseg.nii.gz'.format(indir=indir,sub=sub)\n",
    "#     wm_mask = '{indir}/{sub}/anat/{sub}_run-1_label-WM_probseg.nii.gz'.format(indir=indir,sub=sub)\n",
    "\n",
    "    t1 = ants.image_read(anat_fn) # filename for raw anatomical \n",
    "    gm = ants.image_read(gm_mask) # gray matter probability map\n",
    "    wm = ants.image_read(wm_mask) # white matter probability map\n",
    "    brain_mask = gm+wm # combine GM and WM \n",
    "\n",
    "\n",
    "    if do_plot:\n",
    "        t1.plot_ortho(brain_mask,flat=True,xyz_lines=False,orient_labels=False,figsize=5.0,overlay_alpha=.5,overlay_cmap='hot')\n",
    "\n",
    "    brain  = t1.copy() # Make a copy to not overwrite the original\n",
    "    \n",
    "    if do_plot:\n",
    "        brain_mask.plot_ortho(flat=True,xyz_lines=False,orient_labels=False,figsize=5.0) # Check if it worked\n",
    "\n",
    "    brain[brain_mask<.9] = 0 # Zero out the non-brain stuff\n",
    "    if do_plot:\n",
    "        brain.plot_ortho(flat=True,xyz_lines=False,orient_labels=False,figsize=5.0) # Check if it worked\n",
    "\n",
    "    if do_plot:\n",
    "        plt.hist(brain.numpy().flatten()); # check values \n",
    "\n",
    "    brain_tiny = brain.resample_image(resample_params=(64,64,64), use_voxels=True, interp_type=4) # Make sure all brains are same size\n",
    "    \n",
    "    if do_plot:\n",
    "        brain_tiny.plot_ortho(flat=True,xyz_lines=False,orient_labels=False,figsize=5.0)\n",
    "\n",
    "    brain_tiny.to_filename(os.path.join(outdir,sub+'_brain_tiny.nii')) # Save extracted brain\n",
    "    \n",
    "    outArr = brain_tiny.numpy()\n",
    "    outArr = (outArr - np.min(outArr)) / (np.max(outArr) - np.min(outArr))\n",
    "    \n",
    "    return outArr"
   ]
  },
  {
   "cell_type": "code",
   "execution_count": 14,
   "metadata": {},
   "outputs": [
    {
     "name": "stderr",
     "output_type": "stream",
     "text": [
      "100%|██████████| 750/750 [18:36<00:00,  1.49s/it] \n"
     ]
    }
   ],
   "source": [
    "brain_arr = [extract_brain(indir,sub,fn,outdir) for sub in tqdm(subs)]\n",
    "brain_arr = np.array(brain_arr)"
   ]
  },
  {
   "cell_type": "code",
   "execution_count": 10,
   "metadata": {},
   "outputs": [
    {
     "data": {
      "text/plain": [
       "'/mmfs1/data/liacz/Documents/Bilingualism_CVAE/data/array_brains/Anat-Bilingual-64iso-ds1796-S63.npz'"
      ]
     },
     "execution_count": 10,
     "metadata": {},
     "output_type": "execute_result"
    }
   ],
   "source": [
    "arr_ofn = os.path.expanduser(f'~/Documents/Bilingualism_CVAE/data/array_brains/Anat-Bilingual-64iso-{fn}-S{n}.npz')\n",
    "arr_ofn"
   ]
  },
  {
   "cell_type": "code",
   "execution_count": 11,
   "metadata": {},
   "outputs": [],
   "source": [
    "np.savez_compressed(arr_ofn,data=brain_arr,subs=subs, ds=fn)"
   ]
  },
  {
   "cell_type": "code",
   "execution_count": 28,
   "metadata": {},
   "outputs": [
    {
     "ename": "ValueError",
     "evalue": "File /mmfs1/data/liacz/Documents/Bilingualism_CVAE/data/extracted_brains/ping/sub-P0035_brain_tiny.nii does not exist!",
     "output_type": "error",
     "traceback": [
      "\u001b[0;31m---------------------------------------------------------------------------\u001b[0m",
      "\u001b[0;31mValueError\u001b[0m                                Traceback (most recent call last)",
      "\u001b[0;32m<ipython-input-28-fd491fc8b4cf>\u001b[0m in \u001b[0;36m<module>\u001b[0;34m\u001b[0m\n\u001b[0;32m----> 1\u001b[0;31m \u001b[0mbrain_tiny\u001b[0m \u001b[0;34m=\u001b[0m \u001b[0mants\u001b[0m\u001b[0;34m.\u001b[0m\u001b[0mimage_read\u001b[0m\u001b[0;34m(\u001b[0m\u001b[0;34m'~/Documents/Bilingualism_CVAE/data/extracted_brains/ping/sub-P0035_brain_tiny.nii'\u001b[0m\u001b[0;34m)\u001b[0m\u001b[0;34m\u001b[0m\u001b[0;34m\u001b[0m\u001b[0m\n\u001b[0m\u001b[1;32m      2\u001b[0m \u001b[0mbrain_tiny\u001b[0m\u001b[0;34m.\u001b[0m\u001b[0mplot_ortho\u001b[0m\u001b[0;34m(\u001b[0m\u001b[0mflat\u001b[0m\u001b[0;34m=\u001b[0m\u001b[0;32mTrue\u001b[0m\u001b[0;34m,\u001b[0m\u001b[0mxyz_lines\u001b[0m\u001b[0;34m=\u001b[0m\u001b[0;32mFalse\u001b[0m\u001b[0;34m,\u001b[0m\u001b[0morient_labels\u001b[0m\u001b[0;34m=\u001b[0m\u001b[0;32mFalse\u001b[0m\u001b[0;34m,\u001b[0m\u001b[0mfigsize\u001b[0m\u001b[0;34m=\u001b[0m\u001b[0;36m5.0\u001b[0m\u001b[0;34m)\u001b[0m\u001b[0;34m\u001b[0m\u001b[0;34m\u001b[0m\u001b[0m\n",
      "\u001b[0;32m~/.local/lib/python3.8/site-packages/ants/core/ants_image_io.py\u001b[0m in \u001b[0;36mimage_read\u001b[0;34m(filename, dimension, pixeltype, reorient)\u001b[0m\n\u001b[1;32m    513\u001b[0m         \u001b[0mfilename\u001b[0m \u001b[0;34m=\u001b[0m \u001b[0mos\u001b[0m\u001b[0;34m.\u001b[0m\u001b[0mpath\u001b[0m\u001b[0;34m.\u001b[0m\u001b[0mexpanduser\u001b[0m\u001b[0;34m(\u001b[0m\u001b[0mfilename\u001b[0m\u001b[0;34m)\u001b[0m\u001b[0;34m\u001b[0m\u001b[0;34m\u001b[0m\u001b[0m\n\u001b[1;32m    514\u001b[0m         \u001b[0;32mif\u001b[0m \u001b[0;32mnot\u001b[0m \u001b[0mos\u001b[0m\u001b[0;34m.\u001b[0m\u001b[0mpath\u001b[0m\u001b[0;34m.\u001b[0m\u001b[0mexists\u001b[0m\u001b[0;34m(\u001b[0m\u001b[0mfilename\u001b[0m\u001b[0;34m)\u001b[0m\u001b[0;34m:\u001b[0m\u001b[0;34m\u001b[0m\u001b[0;34m\u001b[0m\u001b[0m\n\u001b[0;32m--> 515\u001b[0;31m             \u001b[0;32mraise\u001b[0m \u001b[0mValueError\u001b[0m\u001b[0;34m(\u001b[0m\u001b[0;34m\"File %s does not exist!\"\u001b[0m \u001b[0;34m%\u001b[0m \u001b[0mfilename\u001b[0m\u001b[0;34m)\u001b[0m\u001b[0;34m\u001b[0m\u001b[0;34m\u001b[0m\u001b[0m\n\u001b[0m\u001b[1;32m    516\u001b[0m \u001b[0;34m\u001b[0m\u001b[0m\n\u001b[1;32m    517\u001b[0m         \u001b[0mhinfo\u001b[0m \u001b[0;34m=\u001b[0m \u001b[0mimage_header_info\u001b[0m\u001b[0;34m(\u001b[0m\u001b[0mfilename\u001b[0m\u001b[0;34m)\u001b[0m\u001b[0;34m\u001b[0m\u001b[0;34m\u001b[0m\u001b[0m\n",
      "\u001b[0;31mValueError\u001b[0m: File /mmfs1/data/liacz/Documents/Bilingualism_CVAE/data/extracted_brains/ping/sub-P0035_brain_tiny.nii does not exist!"
     ]
    }
   ],
   "source": [
    "# brain_tiny = ants.image_read('~/Documents/Bilingualism_CVAE/data/extracted_brains/ping/sub-P0035_brain_tiny.nii')\n",
    "# brain_tiny.plot_ortho(flat=True,xyz_lines=False,orient_labels=False,figsize=5.0) "
   ]
  },
  {
   "cell_type": "code",
   "execution_count": null,
   "metadata": {},
   "outputs": [],
   "source": []
  }
 ],
 "metadata": {
  "kernelspec": {
   "display_name": "Python 3",
   "language": "python",
   "name": "python3"
  },
  "language_info": {
   "codemirror_mode": {
    "name": "ipython",
    "version": 3
   },
   "file_extension": ".py",
   "mimetype": "text/x-python",
   "name": "python",
   "nbconvert_exporter": "python",
   "pygments_lexer": "ipython3",
   "version": "3.8.3"
  }
 },
 "nbformat": 4,
 "nbformat_minor": 4
}
