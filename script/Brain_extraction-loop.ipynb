{
 "cells": [
  {
   "cell_type": "code",
   "execution_count": 1,
   "metadata": {},
   "outputs": [],
   "source": [
    "import numpy as np\n",
    "import os\n",
    "import ants\n",
    "from matplotlib import pyplot as plt\n",
    "import os\n",
    "\n",
    "from tqdm import tqdm"
   ]
  },
  {
   "cell_type": "code",
   "execution_count": 2,
   "metadata": {},
   "outputs": [
    {
     "name": "stdout",
     "output_type": "stream",
     "text": [
      "92\n"
     ]
    }
   ],
   "source": [
    "indir = '~/Data/Bilingualism_CVAE/output/ds1747'\n",
    "outdir = os.path.expanduser('~/Documents/Bilingualism_CVAE/data/extracted_brains/ds1747')\n",
    "indir = os.path.expanduser(indir)\n",
    "subs = [sub for sub in os.listdir(indir) if sub.startswith('sub-') and not sub.endswith('.html')]\n",
    "n = len(subs)\n",
    "print(n)"
   ]
  },
  {
   "cell_type": "code",
   "execution_count": 5,
   "metadata": {},
   "outputs": [],
   "source": [
    "def extract_brain(indir,sub,outdir,do_plot=False):\n",
    "    \n",
    "    anat_fn = '{indir}/{sub}/anat/{sub}_run-1_desc-preproc_T1w.nii.gz'.format(indir=indir,sub=sub)\n",
    "    gm_mask = '{indir}/{sub}/anat/{sub}_run-1_label-GM_probseg.nii.gz'.format(indir=indir,sub=sub)\n",
    "    wm_mask = '{indir}/{sub}/anat/{sub}_run-1_label-WM_probseg.nii.gz'.format(indir=indir,sub=sub)\n",
    "\n",
    "    t1 = ants.image_read(anat_fn) # filename for raw anatomical \n",
    "    gm = ants.image_read(gm_mask) # gray matter probability map\n",
    "    wm = ants.image_read(wm_mask) # white matter probability map\n",
    "    brain_mask = gm+wm # combine GM and WM \n",
    "\n",
    "\n",
    "    if do_plot:\n",
    "        t1.plot_ortho(brain_mask,flat=True,xyz_lines=False,orient_labels=False,figsize=5.0,overlay_alpha=.5,overlay_cmap='hot')\n",
    "\n",
    "    brain  = t1.copy() # Make a copy to not overwrite the original\n",
    "    brain[brain_mask<.9] = 0 # Zero out the non-brain stuff\n",
    "    if do_plot:\n",
    "        brain.plot_ortho(flat=True,xyz_lines=False,orient_labels=False,figsize=5.0) # Check if it worked\n",
    "\n",
    "    if do_plot:\n",
    "        plt.hist(brain.numpy().flatten()); # check values \n",
    "\n",
    "    brain_tiny = brain.resample_image(resample_params=(64,64,64), use_voxels=True, interp_type=4) # Make sure all brains are same size\n",
    "    \n",
    "    if do_plot:\n",
    "        brain_tiny.plot_ortho(flat=True,xyz_lines=False,orient_labels=False,figsize=5.0)\n",
    "\n",
    "    brain_tiny.to_filename(os.path.join(outdir,sub+'_brain_tiny.nii')) # Save extracted brain\n",
    "    \n",
    "    outArr = brain_tiny.numpy()\n",
    "    outArr = (outArr - np.min(outArr)) / (np.max(outArr) - np.min(outArr))\n",
    "    \n",
    "    return outArr"
   ]
  },
  {
   "cell_type": "code",
   "execution_count": 6,
   "metadata": {},
   "outputs": [
    {
     "name": "stderr",
     "output_type": "stream",
     "text": [
      "\n",
      "  0%|          | 0/92 [00:00<?, ?it/s]\u001b[A\n",
      "  1%|          | 1/92 [00:01<01:58,  1.30s/it]\u001b[A\n",
      "  2%|▏         | 2/92 [00:02<01:56,  1.30s/it]\u001b[A\n",
      "  3%|▎         | 3/92 [00:03<01:55,  1.30s/it]\u001b[A\n",
      "  4%|▍         | 4/92 [00:05<01:51,  1.27s/it]\u001b[A\n",
      "  5%|▌         | 5/92 [00:06<01:49,  1.26s/it]\u001b[A\n",
      "  7%|▋         | 6/92 [00:07<01:48,  1.26s/it]\u001b[A\n",
      "  8%|▊         | 7/92 [00:08<01:46,  1.26s/it]\u001b[A\n",
      "  9%|▊         | 8/92 [00:10<01:45,  1.26s/it]\u001b[A\n",
      " 10%|▉         | 9/92 [00:11<01:44,  1.26s/it]\u001b[A\n",
      " 11%|█         | 10/92 [00:12<01:42,  1.26s/it]\u001b[A\n",
      " 12%|█▏        | 11/92 [00:13<01:41,  1.26s/it]\u001b[A\n",
      " 13%|█▎        | 12/92 [00:15<01:40,  1.26s/it]\u001b[A\n",
      " 14%|█▍        | 13/92 [00:16<01:39,  1.26s/it]\u001b[A\n",
      " 15%|█▌        | 14/92 [00:17<01:37,  1.26s/it]\u001b[A\n",
      " 16%|█▋        | 15/92 [00:18<01:36,  1.26s/it]\u001b[A\n",
      " 17%|█▋        | 16/92 [00:20<01:35,  1.26s/it]\u001b[A\n",
      " 18%|█▊        | 17/92 [00:21<01:34,  1.26s/it]\u001b[A\n",
      " 20%|█▉        | 18/92 [00:22<01:32,  1.25s/it]\u001b[A\n",
      " 21%|██        | 19/92 [00:23<01:32,  1.26s/it]\u001b[A\n",
      " 22%|██▏       | 20/92 [00:25<01:30,  1.26s/it]\u001b[A\n",
      " 23%|██▎       | 21/92 [00:26<01:29,  1.26s/it]\u001b[A\n",
      " 24%|██▍       | 22/92 [00:27<01:28,  1.26s/it]\u001b[A\n",
      " 25%|██▌       | 23/92 [00:28<01:26,  1.26s/it]\u001b[A\n",
      " 26%|██▌       | 24/92 [00:30<01:25,  1.25s/it]\u001b[A\n",
      " 27%|██▋       | 25/92 [00:31<01:23,  1.25s/it]\u001b[A\n",
      " 28%|██▊       | 26/92 [00:32<01:22,  1.25s/it]\u001b[A\n",
      " 29%|██▉       | 27/92 [00:33<01:21,  1.25s/it]\u001b[A\n",
      " 30%|███       | 28/92 [00:35<01:20,  1.25s/it]\u001b[A\n",
      " 32%|███▏      | 29/92 [00:36<01:18,  1.25s/it]\u001b[A\n",
      " 33%|███▎      | 30/92 [00:37<01:17,  1.25s/it]\u001b[A\n",
      " 34%|███▎      | 31/92 [00:38<01:16,  1.25s/it]\u001b[A\n",
      " 35%|███▍      | 32/92 [00:40<01:14,  1.25s/it]\u001b[A\n",
      " 36%|███▌      | 33/92 [00:41<01:13,  1.25s/it]\u001b[A\n",
      " 37%|███▋      | 34/92 [00:42<01:12,  1.25s/it]\u001b[A\n",
      " 38%|███▊      | 35/92 [00:43<01:11,  1.25s/it]\u001b[A\n",
      " 39%|███▉      | 36/92 [00:45<01:10,  1.26s/it]\u001b[A\n",
      " 40%|████      | 37/92 [00:46<01:08,  1.25s/it]\u001b[A\n",
      " 41%|████▏     | 38/92 [00:47<01:07,  1.26s/it]\u001b[A\n",
      " 42%|████▏     | 39/92 [00:48<01:06,  1.26s/it]\u001b[A\n",
      " 43%|████▎     | 40/92 [00:50<01:05,  1.25s/it]\u001b[A\n",
      " 45%|████▍     | 41/92 [00:51<01:04,  1.26s/it]\u001b[A\n",
      " 46%|████▌     | 42/92 [00:52<01:02,  1.25s/it]\u001b[A\n",
      " 47%|████▋     | 43/92 [00:53<01:01,  1.25s/it]\u001b[A\n",
      " 48%|████▊     | 44/92 [00:55<00:59,  1.25s/it]\u001b[A\n",
      " 49%|████▉     | 45/92 [00:56<00:59,  1.26s/it]\u001b[A\n",
      " 50%|█████     | 46/92 [00:57<00:58,  1.26s/it]\u001b[A\n",
      " 51%|█████     | 47/92 [00:59<00:56,  1.26s/it]\u001b[A\n",
      " 52%|█████▏    | 48/92 [01:00<00:55,  1.25s/it]\u001b[A\n",
      " 53%|█████▎    | 49/92 [01:01<00:53,  1.25s/it]\u001b[A\n",
      " 54%|█████▍    | 50/92 [01:02<00:52,  1.25s/it]\u001b[A\n",
      " 55%|█████▌    | 51/92 [01:04<00:51,  1.26s/it]\u001b[A\n",
      " 57%|█████▋    | 52/92 [01:05<00:50,  1.26s/it]\u001b[A\n",
      " 58%|█████▊    | 53/92 [01:06<00:49,  1.26s/it]\u001b[A\n",
      " 59%|█████▊    | 54/92 [01:07<00:47,  1.26s/it]\u001b[A\n",
      " 60%|█████▉    | 55/92 [01:09<00:46,  1.26s/it]\u001b[A\n",
      " 61%|██████    | 56/92 [01:10<00:45,  1.26s/it]\u001b[A\n",
      " 62%|██████▏   | 57/92 [01:11<00:43,  1.26s/it]\u001b[A\n",
      " 63%|██████▎   | 58/92 [01:12<00:42,  1.25s/it]\u001b[A\n",
      " 64%|██████▍   | 59/92 [01:14<00:41,  1.26s/it]\u001b[A\n",
      " 65%|██████▌   | 60/92 [01:15<00:40,  1.26s/it]\u001b[A\n",
      " 66%|██████▋   | 61/92 [01:16<00:39,  1.26s/it]\u001b[A\n",
      " 67%|██████▋   | 62/92 [01:17<00:37,  1.25s/it]\u001b[A\n",
      " 68%|██████▊   | 63/92 [01:19<00:36,  1.25s/it]\u001b[A\n",
      " 70%|██████▉   | 64/92 [01:20<00:35,  1.25s/it]\u001b[A\n",
      " 71%|███████   | 65/92 [01:21<00:33,  1.26s/it]\u001b[A\n",
      " 72%|███████▏  | 66/92 [01:22<00:32,  1.26s/it]\u001b[A\n",
      " 73%|███████▎  | 67/92 [01:24<00:31,  1.26s/it]\u001b[A\n",
      " 74%|███████▍  | 68/92 [01:25<00:30,  1.26s/it]\u001b[A\n",
      " 75%|███████▌  | 69/92 [01:26<00:28,  1.25s/it]\u001b[A\n",
      " 76%|███████▌  | 70/92 [01:27<00:27,  1.25s/it]\u001b[A\n",
      " 77%|███████▋  | 71/92 [01:29<00:26,  1.26s/it]\u001b[A\n",
      " 78%|███████▊  | 72/92 [01:30<00:25,  1.26s/it]\u001b[A\n",
      " 79%|███████▉  | 73/92 [01:31<00:23,  1.26s/it]\u001b[A\n",
      " 80%|████████  | 74/92 [01:32<00:22,  1.26s/it]\u001b[A\n",
      " 82%|████████▏ | 75/92 [01:34<00:21,  1.26s/it]\u001b[A\n",
      " 83%|████████▎ | 76/92 [01:35<00:20,  1.26s/it]\u001b[A\n",
      " 84%|████████▎ | 77/92 [01:36<00:18,  1.26s/it]\u001b[A\n",
      " 85%|████████▍ | 78/92 [01:38<00:17,  1.26s/it]\u001b[A\n",
      " 86%|████████▌ | 79/92 [01:39<00:16,  1.26s/it]\u001b[A\n",
      " 87%|████████▋ | 80/92 [01:40<00:15,  1.26s/it]\u001b[A\n",
      " 88%|████████▊ | 81/92 [01:41<00:13,  1.26s/it]\u001b[A\n",
      " 89%|████████▉ | 82/92 [01:43<00:12,  1.26s/it]\u001b[A\n",
      " 90%|█████████ | 83/92 [01:44<00:11,  1.26s/it]\u001b[A\n",
      " 91%|█████████▏| 84/92 [01:45<00:10,  1.26s/it]\u001b[A\n",
      " 92%|█████████▏| 85/92 [01:46<00:08,  1.26s/it]\u001b[A\n",
      " 93%|█████████▎| 86/92 [01:48<00:07,  1.26s/it]\u001b[A\n",
      " 95%|█████████▍| 87/92 [01:49<00:06,  1.25s/it]\u001b[A\n",
      " 96%|█████████▌| 88/92 [01:50<00:05,  1.26s/it]\u001b[A\n",
      " 97%|█████████▋| 89/92 [01:51<00:03,  1.26s/it]\u001b[A\n",
      " 98%|█████████▊| 90/92 [01:53<00:02,  1.26s/it]\u001b[A\n",
      " 99%|█████████▉| 91/92 [01:54<00:01,  1.25s/it]\u001b[A\n",
      "100%|██████████| 92/92 [01:55<00:00,  1.26s/it]\u001b[A\n"
     ]
    }
   ],
   "source": [
    "brain_arr = [extract_brain(indir,sub,outdir) for sub in tqdm(subs)]\n",
    "brain_arr = np.array(brain_arr)"
   ]
  },
  {
   "cell_type": "code",
   "execution_count": 16,
   "metadata": {},
   "outputs": [
    {
     "data": {
      "text/plain": [
       "'/mmfs1/data/liacz/Documents/Bilingualism_CVAE/data/array_brains/Anat-Bilingual-64iso-ds1747-S92.npz'"
      ]
     },
     "execution_count": 16,
     "metadata": {},
     "output_type": "execute_result"
    }
   ],
   "source": [
    "arr_ofn = os.path.expanduser(f'~/Documents/Bilingualism_CVAE/data/array_brains/Anat-Bilingual-64iso-ds1747-S{n}.npz')\n",
    "arr_ofn"
   ]
  },
  {
   "cell_type": "code",
   "execution_count": 17,
   "metadata": {},
   "outputs": [],
   "source": [
    "np.savez_compressed(arr_ofn,data=brain_arr,subs=subs)"
   ]
  },
  {
   "cell_type": "code",
   "execution_count": 29,
   "metadata": {},
   "outputs": [],
   "source": [
    "# brain_arr1 = brain_arr\n",
    "# brain_arr2 = brain_arr\n",
    "# np.concatenate((brain_arr1,brain_arr2),axis=0).shape"
   ]
  }
 ],
 "metadata": {
  "kernelspec": {
   "display_name": "Python 3",
   "language": "python",
   "name": "python3"
  },
  "language_info": {
   "codemirror_mode": {
    "name": "ipython",
    "version": 3
   },
   "file_extension": ".py",
   "mimetype": "text/x-python",
   "name": "python",
   "nbconvert_exporter": "python",
   "pygments_lexer": "ipython3",
   "version": "3.8.3"
  }
 },
 "nbformat": 4,
 "nbformat_minor": 4
}
