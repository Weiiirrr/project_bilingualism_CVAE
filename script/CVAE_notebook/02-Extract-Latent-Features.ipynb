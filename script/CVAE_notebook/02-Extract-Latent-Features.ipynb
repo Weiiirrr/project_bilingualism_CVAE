{
 "cells": [
  {
   "cell_type": "code",
   "execution_count": 1,
   "metadata": {},
   "outputs": [
    {
     "name": "stderr",
     "output_type": "stream",
     "text": [
      "/mmfs1/data/liacz/.local/lib/python3.8/site-packages/pandas/core/computation/expressions.py:21: UserWarning: Pandas requires version '2.7.3' or newer of 'numexpr' (version '2.7.1' currently installed).\n",
      "  from pandas.core.computation.check import NUMEXPR_INSTALLED\n"
     ]
    }
   ],
   "source": [
    "import pickle\n",
    "\n",
    "import numpy as np\n",
    "import pandas as pd \n",
    "\n",
    "from importlib import reload\n",
    "\n",
    "import helper_funcs;reload(helper_funcs);from helper_funcs import *\n",
    "import make_models2;reload(make_models2);from make_models2 import *\n",
    "\n",
    "from functools import partial\n",
    "from sklearn.decomposition import PCA\n",
    "\n",
    "from matplotlib import pyplot as plt\n",
    "\n",
    "from datetime import datetime\n",
    "\n",
    "import shutil\n",
    "from functools import partial\n",
    "from tqdm import tqdm\n",
    "tqdm = partial(tqdm, position=0, leave=True)"
   ]
  },
  {
   "cell_type": "code",
   "execution_count": 2,
   "metadata": {},
   "outputs": [],
   "source": [
    "BRAIN_data = np.load(os.path.expanduser('~/Documents/Bilingualism_CVAE/data/array_brains/arr_combine/BRAIN_data.npy'))"
   ]
  },
  {
   "cell_type": "code",
   "execution_count": 3,
   "metadata": {},
   "outputs": [
    {
     "data": {
      "text/plain": [
       "<tensorflow.python.checkpoint.checkpoint.CheckpointLoadStatus at 0x1553a803f430>"
      ]
     },
     "execution_count": 3,
     "metadata": {},
     "output_type": "execute_result"
    }
   ],
   "source": [
    "latent_dim=32;batch_size=32;disentangle=False;gamma=100\n",
    "# encoder, decoder, vae = get_MRI_VAE_3D(input_shape=(64, 64, 64, 1), latent_dim=latent_dim, batch_size=batch_size, disentangle=disentangle, gamma=gamma)\n",
    "\n",
    "encoder, decoder, vae = get_MRI_VAE_3D(input_shape=(64,64,64,1), \n",
    "                                            latent_dim=32, \n",
    "                                            batch_size = batch_size, \n",
    "                                            disentangle=True,\n",
    "                                            gamma=100,\n",
    "                                            kernel_size = 3,\n",
    "                                            filters = 48,\n",
    "                                            intermediate_dim = 128,\n",
    "                                            nlayers = 2,\n",
    "                                            bias=True)\n",
    "\n",
    "fn = os.path.expanduser('~/Documents/Bilingualism_CVAE/data/tf_outputs/VAE/VAE_weights')\n",
    "vae.load_weights(fn)"
   ]
  },
  {
   "cell_type": "code",
   "execution_count": 4,
   "metadata": {},
   "outputs": [
    {
     "data": {
      "text/plain": [
       "<tensorflow.python.checkpoint.checkpoint.CheckpointLoadStatus at 0x1553a0e48ee0>"
      ]
     },
     "execution_count": 4,
     "metadata": {},
     "output_type": "execute_result"
    }
   ],
   "source": [
    "# LOAD CVAE\n",
    "latent_dim = 16;batch_size = 32;beta = 1;gamma = 100;disentangle = True\n",
    "cvae, z_encoder, s_encoder, cvae_decoder = get_MRI_CVAE_3D(latent_dim=latent_dim,beta=beta, disentangle=disentangle, gamma=gamma, bias=True, batch_size = batch_size)\n",
    "loss = list()    \n",
    "\n",
    "fn = os.path.expanduser('~/Documents/Bilingualism_CVAE/data/tf_outputs/CVAE/CVAE_weights')\n",
    "cvae.load_weights(fn)"
   ]
  },
  {
   "cell_type": "code",
   "execution_count": 5,
   "metadata": {},
   "outputs": [
    {
     "name": "stdout",
     "output_type": "stream",
     "text": [
      "79/79 [==============================] - 33s 412ms/step\n",
      "79/79 [==============================] - 32s 405ms/step\n",
      "79/79 [==============================] - 33s 413ms/step\n",
      "79/79 [==============================] - 33s 411ms/step\n",
      "79/79 [==============================] - 33s 411ms/step\n",
      "79/79 [==============================] - 33s 412ms/step\n",
      "79/79 [==============================] - 33s 412ms/step\n",
      "79/79 [==============================] - 33s 411ms/step\n",
      "79/79 [==============================] - 33s 413ms/step\n",
      "79/79 [==============================] - 33s 412ms/step\n"
     ]
    }
   ],
   "source": [
    "n_samples = 10\n",
    "fn = os.path.expanduser('~/Documents/Bilingualism_CVAE/data/latent_vecs'+str(n_samples)+'_s.npz')\n",
    "\n",
    "#just include bilingual participants here\n",
    "salient_vec_BRAIN = np.array([s_encoder.predict(BRAIN_data[:,:,:,:])[2] for _ in range(n_samples)])\n",
    "np.savez_compressed(fn, salient_vec_BRAIN=salient_vec_BRAIN)"
   ]
  },
  {
   "cell_type": "code",
   "execution_count": 6,
   "metadata": {},
   "outputs": [
    {
     "name": "stdout",
     "output_type": "stream",
     "text": [
      "79/79 [==============================] - 33s 412ms/step\n",
      "79/79 [==============================] - 33s 412ms/step\n",
      "79/79 [==============================] - 33s 412ms/step\n",
      "79/79 [==============================] - 33s 411ms/step\n",
      "79/79 [==============================] - 33s 412ms/step\n",
      "79/79 [==============================] - 32s 411ms/step\n",
      "79/79 [==============================] - 32s 411ms/step\n",
      "79/79 [==============================] - 32s 411ms/step\n",
      "79/79 [==============================] - 33s 411ms/step\n",
      "79/79 [==============================] - 33s 413ms/step\n",
      "done\n"
     ]
    }
   ],
   "source": [
    "fn = os.path.expanduser('~/Documents/Bilingualism_CVAE/data/latent_vecs'+str(n_samples)+'_z.npz')\n",
    "\n",
    "background_vec_BRAIN = np.array([z_encoder.predict(BRAIN_data[:,:,:,:])[2] for _ in range(n_samples)])\n",
    "np.savez_compressed(fn, background_vec_BRAIN=background_vec_BRAIN)\n",
    "print('done')"
   ]
  },
  {
   "cell_type": "code",
   "execution_count": 7,
   "metadata": {},
   "outputs": [
    {
     "name": "stdout",
     "output_type": "stream",
     "text": [
      "79/79 [==============================] - 89s 1s/step\n",
      "79/79 [==============================] - 89s 1s/step\n",
      "79/79 [==============================] - 89s 1s/step\n",
      "79/79 [==============================] - 89s 1s/step\n",
      "79/79 [==============================] - 89s 1s/step\n",
      "79/79 [==============================] - 89s 1s/step\n",
      "79/79 [==============================] - 89s 1s/step\n",
      "79/79 [==============================] - 89s 1s/step\n",
      "79/79 [==============================] - 89s 1s/step\n",
      "79/79 [==============================] - 89s 1s/step\n",
      "done\n"
     ]
    }
   ],
   "source": [
    "n_samples = 10\n",
    "fn = os.path.expanduser('~/Documents/Bilingualism_CVAE/data/latent_vecs'+str(n_samples)+'_vae.npz')\n",
    "\n",
    "vae_vec_BRAIN = np.array([encoder.predict(BRAIN_data[:,:,:,:])[2] for _ in range(n_samples)])\n",
    "np.savez_compressed(fn, vae_vec_BRAIN=vae_vec_BRAIN)\n",
    "print('done')\n",
    "\n",
    "# salient_vec_sfari = np.array([s_encoder.predict(SFARI_data[:,:,:,:])[2] for _ in range(n_samples)])\n",
    "# background_vec_sfari = np.array([z_encoder.predict(SFARI_data[:,:,:,:])[2] for _ in range(n_samples)])\n",
    "# vae_vec_sfari = np.array([encoder.predict(SFARI_data[:,:,:,:])[2] for _ in range(n_samples)])\n",
    "\n",
    "\n",
    "#                     salient_vec_sfari=salient_vec_sfari,\n",
    "#                     background_vec_sfari=background_vec_sfari,\n",
    "#                     vae_vec_sfari=vae_vec_sfari)"
   ]
  },
  {
   "cell_type": "code",
   "execution_count": null,
   "metadata": {},
   "outputs": [],
   "source": []
  },
  {
   "cell_type": "code",
   "execution_count": null,
   "metadata": {},
   "outputs": [],
   "source": []
  },
  {
   "cell_type": "code",
   "execution_count": null,
   "metadata": {},
   "outputs": [],
   "source": []
  },
  {
   "cell_type": "code",
   "execution_count": null,
   "metadata": {},
   "outputs": [],
   "source": []
  }
 ],
 "metadata": {
  "kernelspec": {
   "display_name": "Python 3",
   "language": "python",
   "name": "python3"
  },
  "language_info": {
   "codemirror_mode": {
    "name": "ipython",
    "version": 3
   },
   "file_extension": ".py",
   "mimetype": "text/x-python",
   "name": "python",
   "nbconvert_exporter": "python",
   "pygments_lexer": "ipython3",
   "version": "3.8.3"
  }
 },
 "nbformat": 4,
 "nbformat_minor": 4
}
