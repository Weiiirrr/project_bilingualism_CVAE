{
 "cells": [
  {
   "cell_type": "code",
   "execution_count": 1,
   "metadata": {},
   "outputs": [
    {
     "name": "stderr",
     "output_type": "stream",
     "text": [
      "/mmfs1/data/liacz/.local/lib/python3.8/site-packages/pandas/core/computation/expressions.py:21: UserWarning: Pandas requires version '2.7.3' or newer of 'numexpr' (version '2.7.1' currently installed).\n",
      "  from pandas.core.computation.check import NUMEXPR_INSTALLED\n"
     ]
    }
   ],
   "source": [
    "%matplotlib inline\n",
    "\n",
    "from importlib import reload\n",
    "from helper_funcs import *\n",
    "from make_models2 import *\n",
    "\n",
    "# Make tqdm work for notebooks\n",
    "from functools import partial\n",
    "from tqdm import tqdm\n",
    "tqdm = partial(tqdm, position=0, leave=True)\n",
    "\n",
    "from matplotlib import pyplot as plt\n",
    "import seaborn as sns\n",
    "\n",
    "import numpy as np\n",
    "import pandas as pd\n",
    "\n",
    "import pickle\n",
    "from sklearn.metrics import silhouette_score\n",
    "from scipy.spatial.distance import pdist\n",
    "from scipy.spatial.distance import squareform"
   ]
  },
  {
   "cell_type": "markdown",
   "metadata": {},
   "source": [
    "# Load data"
   ]
  },
  {
   "cell_type": "code",
   "execution_count": 2,
   "metadata": {},
   "outputs": [],
   "source": [
    "import numpy as np\n",
    "import os\n",
    "indir = '/mmfs1/data/liacz/Documents/Bilingualism_CVAE/data/array_brains'\n",
    "BRAIN_data = np.load(os.path.join(indir, \"arr_combine/BRAIN_data.npy\"))\n",
    "DX_subs = np.load(os.path.join(indir, \"arr_combine/DX_subs.npy\"))\n",
    "TD_subs = np.load(os.path.join(indir, \"arr_combine/TD_subs.npy\"))"
   ]
  },
  {
   "cell_type": "code",
   "execution_count": 3,
   "metadata": {},
   "outputs": [],
   "source": [
    "# #BRAIN_data = np.array(BRAIN_data)\n",
    "# nsubs = BRAIN_data.shape[0]\n",
    "# print([arr.shape for arr in [BRAIN_ds, BRAIN_subs, BRAIN_data]])\n",
    "# print(nsubs)\n",
    "# print((BRAIN_data.min(),BRAIN_data.max()))"
   ]
  },
  {
   "cell_type": "code",
   "execution_count": 4,
   "metadata": {},
   "outputs": [],
   "source": [
    "# df = pd.read_csv('/mmfs1/data/liacz/Documents/Bilingualism_CVAE/data/legend.csv')\n",
    "# BI_subs = df.loc[df['bilingualism'].values == 1.0, 'ds_par_id']\n",
    "# MO_subs = df.loc[df['bilingualism'].values == 0.0, 'ds_par_id']\n",
    "# BRAIN_ds_subs = [BRAIN_ds[i]+'_'+BRAIN_subs[i] for i in range(0,len(BRAIN_subs))]\n",
    "# BI_subs = [sub in BI_subs.to_list() for sub in BRAIN_ds_subs]\n",
    "# MO_subs = [sub in MO_subs.to_list() for sub in BRAIN_ds_subs]"
   ]
  },
  {
   "cell_type": "code",
   "execution_count": 5,
   "metadata": {},
   "outputs": [],
   "source": [
    "# print(BI_subs.count(True))\n",
    "# print(MO_subs.count(True))"
   ]
  },
  {
   "cell_type": "code",
   "execution_count": 6,
   "metadata": {},
   "outputs": [
    {
     "name": "stdout",
     "output_type": "stream",
     "text": [
      "(1644, 64, 64, 64)\n",
      "(853, 64, 64, 64)\n"
     ]
    }
   ],
   "source": [
    "# TD_subs = BRAIN_data[MO_subs,:,:,:] # Data of Monolinguals \n",
    "# DX_subs = BRAIN_data[BI_subs,:,:,:] # Data of Bilinguals\n",
    "print(TD_subs.shape)\n",
    "print(DX_subs.shape)"
   ]
  },
  {
   "cell_type": "markdown",
   "metadata": {},
   "source": [
    "## VAE"
   ]
  },
  {
   "cell_type": "code",
   "execution_count": 7,
   "metadata": {},
   "outputs": [
    {
     "name": "stdout",
     "output_type": "stream",
     "text": [
      "/mmfs1/data/liacz/Documents/Bilingualism_CVAE/data/tf_outputs/VAE/VAE_weights\n"
     ]
    }
   ],
   "source": [
    "train_vae = True\n",
    "if train_vae:\n",
    "    \n",
    "    latent_dim = 32\n",
    "    batch_size = 16\n",
    "    disentangle = False\n",
    "    gamma = 100\n",
    "\n",
    "    encoder, decoder, vae = get_MRI_VAE_3D(input_shape=(64,64,64,1), \n",
    "                                            latent_dim=32, \n",
    "                                            batch_size = batch_size, \n",
    "                                            disentangle=True,\n",
    "                                            gamma=gamma,\n",
    "                                            kernel_size = 3,\n",
    "                                            filters = 48,\n",
    "                                            intermediate_dim = 128,\n",
    "                                            nlayers = 2,\n",
    "                                            bias=True)\n",
    "\n",
    "\n",
    "    loss = list()\n",
    "    fn = '/mmfs1/data/liacz/Documents/Bilingualism_CVAE/data/tf_outputs/VAE/VAE_weights'\n",
    "        \n",
    "    print(fn)"
   ]
  },
  {
   "cell_type": "code",
   "execution_count": 8,
   "metadata": {},
   "outputs": [],
   "source": [
    "# encoder.summary(line_length=100)"
   ]
  },
  {
   "cell_type": "code",
   "execution_count": 9,
   "metadata": {},
   "outputs": [],
   "source": [
    "# decoder.summary(line_length=100)"
   ]
  },
  {
   "cell_type": "code",
   "execution_count": 10,
   "metadata": {},
   "outputs": [
    {
     "data": {
      "text/plain": [
       "<Figure size 432x288 with 0 Axes>"
      ]
     },
     "metadata": {},
     "output_type": "display_data"
    },
    {
     "data": {
      "text/plain": [
       "<Figure size 432x288 with 0 Axes>"
      ]
     },
     "metadata": {},
     "output_type": "display_data"
    },
    {
     "data": {
      "image/png": "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\n",
      "text/plain": [
       "<Figure size 504x360 with 4 Axes>"
      ]
     },
     "metadata": {
      "needs_background": "light"
     },
     "output_type": "display_data"
    },
    {
     "name": "stderr",
     "output_type": "stream",
     "text": [
      " 98%|███████████████████████████████████████▎| 4915/4999 [42:09<00:40,  2.09it/s]"
     ]
    },
    {
     "name": "stdout",
     "output_type": "stream",
     "text": [
      "1/1 [==============================] - 0s 19ms/step\n"
     ]
    },
    {
     "name": "stderr",
     "output_type": "stream",
     "text": [
      " 98%|███████████████████████████████████████▎| 4916/4999 [42:09<00:35,  2.36it/s]"
     ]
    },
    {
     "name": "stdout",
     "output_type": "stream",
     "text": [
      "1/1 [==============================] - 0s 19ms/step\n"
     ]
    }
   ],
   "source": [
    "nbatches = 5000\n",
    "if train_vae:\n",
    "    for i in tqdm(range(1,nbatches)):    \n",
    "        \n",
    "        batch_idx = np.random.randint(low=0,high=BRAIN_data.shape[0],size=batch_size)\n",
    "        data_batch = BRAIN_data[batch_idx,:,:,:]\n",
    "        \n",
    "        history = vae.train_on_batch(data_batch);\n",
    "        mse = ((data_batch-vae.predict(data_batch)[:,:,:,:,0])**2).mean()\n",
    "        loss.append(history);\n",
    "        \n",
    "        if np.mod(i,5)==0: # Plot training progress\n",
    "            im1 = data_batch[0,32,:,:];\n",
    "            im = vae.predict(data_batch)[0,32,:,:,0];\n",
    "            plot_trainProgress(loss,im,im1);\n",
    "\n",
    "        if np.mod(i,10)==0: # Save every 10 batches\n",
    "            pickle.dump(loss,open(fn+'_loss.pickle','wb'))\n",
    "            print(i)\n",
    "            vae.save_weights(fn)    \n",
    "        \n",
    "        if mse < .0001:\n",
    "            break"
   ]
  },
  {
   "cell_type": "markdown",
   "metadata": {},
   "source": [
    "## CVAE"
   ]
  },
  {
   "cell_type": "code",
   "execution_count": 11,
   "metadata": {},
   "outputs": [],
   "source": [
    "# train_cvae = True\n",
    "# if train_cvae:\n",
    "    \n",
    "#     latent_dim = 16\n",
    "#     batch_size = 16\n",
    "#     beta = 1;gamma = 100\n",
    "#     disentangle = True\n",
    "#     cvae, z_encoder, s_encoder, cvae_decoder = get_MRI_CVAE_3D(latent_dim=latent_dim,beta=beta, disentangle=disentangle, gamma=gamma, bias=True, batch_size = batch_size)\n",
    "#     loss = list()    \n",
    "    \n",
    "#     fdir = '/mmfs1/data/liacz/Documents/Bilingualism_CVAE/data/tf_outputs/CVAE/'\n",
    "#     fn = 'CVAE_weights'\n",
    "    \n",
    "#     fn = os.path.join(fdir,fn)\n",
    "#     loss = []"
   ]
  },
  {
   "cell_type": "code",
   "execution_count": 12,
   "metadata": {},
   "outputs": [],
   "source": [
    "# print(fn)"
   ]
  },
  {
   "cell_type": "code",
   "execution_count": 13,
   "metadata": {},
   "outputs": [],
   "source": [
    "# z_encoder.summary(line_length=100)"
   ]
  },
  {
   "cell_type": "code",
   "execution_count": 14,
   "metadata": {},
   "outputs": [],
   "source": [
    "# cvae_decoder.summary(line_length=100)"
   ]
  },
  {
   "cell_type": "code",
   "execution_count": 15,
   "metadata": {},
   "outputs": [],
   "source": [
    "# DX_batch = DX_subs[np.random.randint(low=0,high=DX_subs.shape[0],size=batch_size),:,:,:];\n",
    "# TD_batch = TD_subs[np.random.randint(low=0,high=TD_subs.shape[0],size=batch_size),:,:,:];\n",
    "\n",
    "# if len(loss)==0:\n",
    "#     loss.append(np.nan)\n",
    "#     im,im1,ss = cvae_query(BRAIN_data,s_encoder,z_encoder,cvae_decoder);\n",
    "#     plot_trainProgress(loss,im,im1);\n",
    "#     loss = list()\n",
    "# else:\n",
    "#     im,im1,ss = cvae_query(BRAIN_data,s_encoder,z_encoder,cvae_decoder);\n",
    "#     plot_trainProgress(loss,im,im1);"
   ]
  },
  {
   "cell_type": "code",
   "execution_count": 16,
   "metadata": {},
   "outputs": [],
   "source": [
    "# nbatches = 5000\n",
    "# if train_cvae:\n",
    "#     for i in tqdm(range(1,nbatches)):\n",
    "        \n",
    "#         DX_batch = DX_subs[np.random.randint(low=0,high=DX_subs.shape[0],size=batch_size),:,:,:];\n",
    "#         TD_batch = TD_subs[np.random.randint(low=0,high=TD_subs.shape[0],size=batch_size),:,:,:];\n",
    "        \n",
    "#         hist = cvae.train_on_batch([DX_batch,TD_batch]);\n",
    "#         loss.append(hist);\n",
    "        \n",
    "#         mse = ((np.array([DX_batch,TD_batch])-np.array(cvae.predict([DX_batch,TD_batch]))[:,:,:,:,:,0])**2).mean()\n",
    "\n",
    "#         assert not np.isnan(hist),'loss is NaN - somethings wrong'\n",
    "\n",
    "#         im,im1,ss = cvae_query(BRAIN_data, s_encoder, z_encoder, cvae_decoder); \n",
    "\n",
    "        \n",
    "\n",
    "#         if np.mod(i,5)==0: # Plot training progress\n",
    "#             plot_trainProgress(loss,im,im1);\n",
    "#             pickle.dump(loss,open(fn+'_loss.pickle','wb'))\n",
    "#             plot_four(DX_batch, TD_batch, z_encoder, s_encoder,cvae_decoder,cvae,idx=0)\n",
    "#             plot_four(DX_batch, TD_batch, z_encoder, s_encoder,cvae_decoder,cvae,idx=1)\n",
    "\n",
    "#         if np.mod(i,10)==0: # Save every 10 batches\n",
    "#             cvae.save_weights(fn)\n",
    "            \n",
    "#         if mse < .0001:\n",
    "#             break"
   ]
  }
 ],
 "metadata": {
  "kernelspec": {
   "display_name": "Python 3",
   "language": "python",
   "name": "python3"
  },
  "language_info": {
   "codemirror_mode": {
    "name": "ipython",
    "version": 3
   },
   "file_extension": ".py",
   "mimetype": "text/x-python",
   "name": "python",
   "nbconvert_exporter": "python",
   "pygments_lexer": "ipython3",
   "version": "3.8.3"
  }
 },
 "nbformat": 4,
 "nbformat_minor": 4
}
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\n",
      "text/plain": [
       "<Figure size 504x360 with 4 Axes>"
      ]
     },
     "metadata": {
      "needs_background": "light"
     },
     "output_type": "display_data"
    },
    {
     "name": "stderr",
     "output_type": "stream",
     "text": [
      " 98%|████████████████████████████▌| 1965/1999 [16:17<00:17,  1.99it/s]"
     ]
    },
    {
     "name": "stdout",
     "output_type": "stream",
     "text": [
      "1/1 [==============================] - 0s 20ms/step\n"
     ]
    },
    {
     "name": "stderr",
     "output_type": "stream",
     "text": [
      " 98%|████████████████████████████▌| 1966/1999 [16:18<00:14,  2.27it/s]"
     ]
    },
    {
     "name": "stdout",
     "output_type": "stream",
     "text": [
      "1/1 [==============================] - 0s 20ms/step\n"
     ]
    },
    {
     "name": "stderr",
     "output_type": "stream",
     "text": [
      " 98%|████████████████████████████▌| 1967/1999 [16:18<00:12,  2.51it/s]"
     ]
    },
    {
     "name": "stdout",
     "output_type": "stream",
     "text": [
      "1/1 [==============================] - 0s 19ms/step\n"
     ]
    },
    {
     "name": "stderr",
     "output_type": "stream",
     "text": [
      " 98%|████████████████████████████▌| 1968/1999 [16:18<00:11,  2.72it/s]"
     ]
    }
   ],
   "source": [
    "nbatches = 5000\n",
    "if train_vae:\n",
    "    for i in tqdm(range(1,nbatches)):    \n",
    "        \n",
    "        batch_idx = np.random.randint(low=0,high=BRAIN_data.shape[0],size=batch_size)\n",
    "        data_batch = BRAIN_data[batch_idx,:,:,:]\n",
    "        \n",
    "        history = vae.train_on_batch(data_batch);\n",
    "        mse = ((data_batch-vae.predict(data_batch)[:,:,:,:,0])**2).mean()\n",
    "        loss.append(history);\n",
    "        \n",
    "        if np.mod(i,5)==0: # Plot training progress\n",
    "            im1 = data_batch[0,32,:,:];\n",
    "            im = vae.predict(data_batch)[0,32,:,:,0];\n",
    "            plot_trainProgress(loss,im,im1);\n",
    "\n",
    "        if np.mod(i,10)==0: # Save every 10 batches\n",
    "            pickle.dump(loss,open(fn+'_loss.pickle','wb'))\n",
    "            print(i)\n",
    "            vae.save_weights(fn)    \n",
    "        \n",
    "        if mse < .0001:\n",
    "            break"
   ]
  }
 ],
 "metadata": {
  "kernelspec": {
   "display_name": "Python 3",
   "language": "python",
   "name": "python3"
  },
  "language_info": {
   "codemirror_mode": {
    "name": "ipython",
    "version": 3
   },
   "file_extension": ".py",
   "mimetype": "text/x-python",
   "name": "python",
   "nbconvert_exporter": "python",
   "pygments_lexer": "ipython3",
   "version": "3.8.3"
  }
 },
 "nbformat": 4,
 "nbformat_minor": 4
}
