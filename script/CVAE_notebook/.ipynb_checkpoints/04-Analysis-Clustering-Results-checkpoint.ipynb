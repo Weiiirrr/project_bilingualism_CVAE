{
 "cells": [
  {
   "cell_type": "code",
   "execution_count": 29,
   "metadata": {},
   "outputs": [],
   "source": [
    "import pandas as pd\n",
    "import numpy as np\n",
    "from tqdm import tqdm\n",
    "from sklearn.mixture import GaussianMixture as gmm\n",
    "import scipy\n",
    "from matplotlib import pyplot as plt\n",
    "import os\n",
    "\n",
    "get_bic = lambda data_in : np.array([gmm(n_components=i+2).fit(data_in).bic(data_in) for i in range(n)])"
   ]
  },
  {
   "cell_type": "code",
   "execution_count": 30,
   "metadata": {},
   "outputs": [],
   "source": [
    "df = pd.read_csv(os.path.expanduser('~/Documents/Bilingualism_CVAE/data/ABIDE_legend.csv')) # ABIDE data legend\n",
    "patients = df['bilingualism'].values==1 # language participant indices\n",
    "\n",
    "data = np.load(os.path.expanduser('~/Documents/Bilingualism_CVAE/data/latent_vecs10.npz')) # Latent feature data"
   ]
  },
  {
   "cell_type": "code",
   "execution_count": 33,
   "metadata": {},
   "outputs": [
    {
     "name": "stderr",
     "output_type": "stream",
     "text": [
      "100%|██████████| 5/5 [00:00<00:00, 35.68it/s]\n",
      "100%|██████████| 5/5 [00:00<00:00, 36.25it/s]\n",
      "100%|██████████| 5/5 [00:00<00:00, 41.98it/s]\n"
     ]
    }
   ],
   "source": [
    "n = 5 # How many clusters to test\n",
    "i = 5 # How many samples\n",
    "rep = 1\n",
    "\n",
    "# BIC for language-Specific features\n",
    "arr_sl = np.zeros((i,n,rep))\n",
    "for ii in tqdm(range(i)):\n",
    "    for jj in range(rep):\n",
    "#         mat = np.vstack((data['salient_vec_sfari'][ii,:,:][cnvs,:],data['salient_vec_abide'][ii,:,:][patients,:]))\n",
    "        mat = data['salient_vec_abide'][ii,:,:][patients,:]\n",
    "        arr_sl[ii,:,jj] = get_bic(mat)\n",
    "        \n",
    "# BIC for shared features\n",
    "arr_bg = np.zeros((i,n,rep))\n",
    "for ii in tqdm(range(i)):\n",
    "    for jj in range(rep):\n",
    "#         mat = np.vstack((data['background_vec_sfari'][ii,:,:][cnvs,:],data['background_vec_abide'][ii,:,:][patients,:]))\n",
    "        mat = data['background_vec_abide'][ii,:,:][patients,:]\n",
    "        arr_bg[ii,:,jj] = get_bic(mat)\n",
    "\n",
    "# BIC for VAE features\n",
    "arr_vae = np.zeros((i,n,rep))\n",
    "for ii in tqdm(range(i)):\n",
    "    for jj in range(rep):\n",
    "#         mat = np.vstack((data['vae_vec_sfari'][ii,:,:][cnvs,:],data['vae_vec_abide'][ii,:,:][patients,:]))\n",
    "        mat = data['vae_vec_abide'][ii,:,:][patients,:]\n",
    "        arr_vae[ii,:,jj] = get_bic(mat)"
   ]
  },
  {
   "cell_type": "code",
   "execution_count": null,
   "metadata": {},
   "outputs": [],
   "source": []
  }
 ],
 "metadata": {
  "kernelspec": {
   "display_name": "Python 3",
   "language": "python",
   "name": "python3"
  },
  "language_info": {
   "codemirror_mode": {
    "name": "ipython",
    "version": 3
   },
   "file_extension": ".py",
   "mimetype": "text/x-python",
   "name": "python",
   "nbconvert_exporter": "python",
   "pygments_lexer": "ipython3",
   "version": "3.8.3"
  }
 },
 "nbformat": 4,
 "nbformat_minor": 4
}
