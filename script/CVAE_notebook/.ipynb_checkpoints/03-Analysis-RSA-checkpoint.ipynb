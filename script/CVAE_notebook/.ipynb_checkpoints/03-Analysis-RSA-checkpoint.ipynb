{
 "cells": [
  {
   "cell_type": "code",
   "execution_count": 1,
   "metadata": {},
   "outputs": [],
   "source": [
    "import numpy as np\n",
    "import pandas as pd\n",
    "from matplotlib import pyplot as plt\n",
    "import scipy\n",
    "from sklearn.decomposition import PCA\n",
    "from helper_funcs import *"
   ]
  },
  {
   "cell_type": "code",
   "execution_count": 2,
   "metadata": {},
   "outputs": [],
   "source": [
    "data_latent_vec = np.load(os.path.expanduser('~/Documents/Bilingualism_CVAE/data/latent_vecs10.npz')) # Load latent representations"
   ]
  },
  {
   "cell_type": "code",
   "execution_count": 3,
   "metadata": {},
   "outputs": [
    {
     "data": {
      "text/plain": [
       "['salient_vec_abide', 'background_vec_abide', 'vae_vec_abide']"
      ]
     },
     "execution_count": 3,
     "metadata": {},
     "output_type": "execute_result"
    }
   ],
   "source": [
    "list(data_latent_vec.keys())"
   ]
  },
  {
   "cell_type": "code",
   "execution_count": 4,
   "metadata": {},
   "outputs": [],
   "source": [
    "# Split dictionary into separate variables\n",
    "salient_vec_abide = data_latent_vec['salient_vec_abide']\n",
    "background_vec_abide = data_latent_vec['background_vec_abide']\n",
    "vae_vec_abide = data_latent_vec['vae_vec_abide']"
   ]
  },
  {
   "cell_type": "code",
   "execution_count": 5,
   "metadata": {},
   "outputs": [],
   "source": [
    "def data2cmat(data):\n",
    "    return np.array([squareform(pdist(data[s,:,:],metric='euclidean')) for s in range(data.shape[0])])"
   ]
  },
  {
   "cell_type": "code",
   "execution_count": 6,
   "metadata": {},
   "outputs": [],
   "source": [
    "# Bar plot function\n",
    "def plot_nice_bar(key,rsa,ax=None,figsize=None,dpi=None,fontsize=None,fontsize_star=None,fontweight=None,line_width=None,marker_size=None,title=None,report_t=False,do_pairwise_stars=False,do_one_sample_stars=True):\n",
    "    \n",
    "    import seaborn as sns\n",
    "    from scipy.stats import ttest_1samp\n",
    "    from scipy.stats import ttest_ind as ttest\n",
    "    \n",
    "    pallete = sns.color_palette()\n",
    "    pallete_new = sns.color_palette()\n",
    "    \n",
    "    if not figsize:\n",
    "        figsize = (5,2)\n",
    "    if not dpi:\n",
    "        dpi = 300\n",
    "        \n",
    "    if not ax:\n",
    "        fig, ax = plt.subplots(1,1,figsize=figsize,dpi=dpi)\n",
    "\n",
    "    pallete_new[1]=pallete[0]\n",
    "    pallete_new[0]=pallete[1]\n",
    "    pallete_new[0] = tuple(np.array((.5,.5,.5)))\n",
    "\n",
    "    data=rsa[key]\n",
    "    n = data.shape[0]\n",
    "    c = data.shape[1]\n",
    "    x = np.arange(c)\n",
    "    \n",
    "    if not fontsize:\n",
    "        fontsize = 16\n",
    "        \n",
    "    if not fontsize_star:\n",
    "        fontsize_star = 25\n",
    "    if not fontweight:        \n",
    "        fontweight = 'bold'\n",
    "    if not line_width:    \n",
    "        line_width = 2.5\n",
    "    if not marker_size:            \n",
    "        marker_size = .1\n",
    "    \n",
    "\n",
    "\n",
    "    for i in range(c):\n",
    "        plot_data = np.zeros(data.shape)\n",
    "        plot_data[:,i] = data[:,i]\n",
    "\n",
    "        xs = np.repeat(i,n)+(np.random.rand(n)-.5)*.25\n",
    "        sc = plt.scatter(xs,data[:,i],c='k',s = marker_size)\n",
    "        b = sns.barplot(data=plot_data,errcolor='r',linewidth=line_width,errwidth=line_width,facecolor=np.hstack((np.array(pallete_new[i]),.3)),edgecolor=np.hstack((np.array(pallete_new[i]),1)))\n",
    "\n",
    "    locs, labels = plt.yticks()  \n",
    "    new_y = locs\n",
    "    new_y = np.linspace(locs[0],locs[-1],6)\n",
    "    plt.yticks(new_y,labels=[f'{yy:.2f}' for yy in new_y],fontsize=fontsize,fontweight=fontweight)\n",
    "    plt.ylabel('model fit (r)',fontsize=fontsize,fontweight=fontweight)\n",
    "\n",
    "    ax.spines['top'].set_visible(False)\n",
    "    ax.spines['right'].set_visible(False)\n",
    "    ax.spines['bottom'].set_visible(False)\n",
    "\n",
    "    for axis in ['top','bottom','left','right']:\n",
    "            ax.spines[axis].set_linewidth(line_width)\n",
    "\n",
    "    xlbls = ['VAE','BG','SL']\n",
    "    plt.xticks(np.arange(3),labels=xlbls,fontsize=fontsize,fontweight=fontweight)\n",
    "    \n",
    "    if do_one_sample_stars:\n",
    "        one_sample = np.array([ttest_1samp(data[:,i],0) for i in range(3)])\n",
    "        one_sample_thresh = np.array((1,.05,.001,.0001))\n",
    "        one_sample_stars = np.array(('n.s.','*','**','***'))\n",
    "        xlbls = ['VAE','BG','SL']\n",
    "        for i in range(c):\n",
    "            these_stars = one_sample_stars[max(np.nonzero(one_sample[i,1]<one_sample_thresh)[0])]\n",
    "            xlbls[i] = f'{xlbls[i]}\\n({these_stars})'\n",
    "        plt.xticks(np.arange(3),labels=xlbls,fontsize=fontsize,fontweight=fontweight,horizontalalignment='center',multialignment='center')\n",
    "\n",
    "    pairwise_t = np.zeros((3,3))\n",
    "    pairwise_p = np.zeros((3,3))\n",
    "\n",
    "    pairwise_sample_thresh = np.array((1,.05,.001,.0001))\n",
    "    pairwise_sample_stars = np.array(('n.s.','*','**','***'))\n",
    "\n",
    "    if report_t:\n",
    "        for i in range(c):\n",
    "            for j in range(c):\n",
    "                t,p = ttest(data[:,i],data[:,j])\n",
    "                mnames = ['VAE','BG','SL']\n",
    "\n",
    "                if p > .001:\n",
    "                    print(f'{key} {mnames[i]} >  {mnames[j]} | t({data.shape[0]-1}) = {t:.2f} p = {p:.2f}')\n",
    "                else:\n",
    "                    print(f'{key} {mnames[i]} >  {mnames[j]} | t({data.shape[0]-1}) = {t:.2f} p $<$ .001')\n",
    "                pairwise_t[i,j] = t\n",
    "                pairwise_p[i,j] = p\n",
    "\n",
    "    comps = [[1,2]]\n",
    "    if do_pairwise_stars:\n",
    "        for comp_idx in range(len(comps)):\n",
    "            this_comp = comps[comp_idx]\n",
    "            sig_idx = max(np.nonzero(pairwise_p[this_comp[0],this_comp[1]]<pairwise_sample_thresh)[0])\n",
    "            max_y = new_y[-1] + comp_idx*.05\n",
    "            xs = np.array(this_comp)\n",
    "            stars = pairwise_sample_stars[sig_idx]\n",
    "            plt.plot(xs,[max_y,max_y],'k',linewidth=line_width)\n",
    "            plt.text(xs.mean(),max_y,stars,fontsize=fontsize_star,horizontalalignment='center',fontweight=fontweight)\n",
    "        \n",
    "    ylim = plt.ylim()\n",
    "    plt.ylim(np.array(ylim)*(1,1.1))\n",
    "    \n",
    "    if not title:\n",
    "        plt.title(key,fontsize=fontsize*1.5,pad=2,fontweight=fontweight)    \n",
    "    else:\n",
    "        plt.title(title,fontsize=fontsize*1.5,pad=2,fontweight=fontweight)"
   ]
  },
  {
   "cell_type": "code",
   "execution_count": 7,
   "metadata": {},
   "outputs": [],
   "source": [
    "# Make (dis)similarity matrices\n",
    "cmat_salient_vec_abide = data2cmat(salient_vec_abide)\n",
    "cmat_background_vec_abide = data2cmat(background_vec_abide)\n",
    "cmat_vae_vec_abide = data2cmat(vae_vec_abide)"
   ]
  },
  {
   "cell_type": "code",
   "execution_count": 8,
   "metadata": {},
   "outputs": [],
   "source": [
    "df = pd.read_csv(os.path.expanduser('~/Documents/Bilingualism_CVAE/data/ABIDE_legend.csv'))\n",
    "patients = df['bilingualism'].values==1\n",
    "controls = df['bilingualism'].values==0"
   ]
  },
  {
   "cell_type": "code",
   "execution_count": 9,
   "metadata": {},
   "outputs": [
    {
     "data": {
      "text/plain": [
       "<Figure size 1080x1080 with 0 Axes>"
      ]
     },
     "metadata": {},
     "output_type": "display_data"
    }
   ],
   "source": [
    "# ABIDE MAKE MODELS \n",
    "plt.figure(figsize=(15,15))\n",
    "default_keys = ['sec_lan_proficiency','age','sex','ds']\n",
    "scales_ = ['ratio','ratio','ordinal','ordinal']\n",
    "\n",
    "model_rdms = dict()\n",
    "model_idxs = dict()\n",
    "for i in range(len(default_keys)):\n",
    "    inVec = df[default_keys[i]].values[patients];\n",
    "    idx = ~np.isnan(inVec)\n",
    "    inVec = inVec[idx];\n",
    "    this_rdm = make_RDM(inVec,data_scale=scales_[i])\n",
    "    \n",
    "    model_rdms.update({default_keys[i] : this_rdm})\n",
    "    model_idxs.update({default_keys[i] : idx})\n",
    "    \n"
   ]
  },
  {
   "cell_type": "code",
   "execution_count": 10,
   "metadata": {},
   "outputs": [],
   "source": [
    "def slice_cmat(data,idx):\n",
    "    mat = data[patients,:][:,patients]\n",
    "    mat = mat[idx,:][:,idx]\n",
    "    return mat"
   ]
  },
  {
   "cell_type": "code",
   "execution_count": 11,
   "metadata": {},
   "outputs": [],
   "source": [
    "def fit_rsa(data,key):\n",
    "    corr = scipy.stats.stats.kendalltau\n",
    "    r = np.array([corr(get_triu(slice_cmat(data[i,:,:],model_idxs[key])),get_triu(model_rdms[key]))[0] for i in range(10)])\n",
    "    r = np.arctan(r)\n",
    "    return r"
   ]
  },
  {
   "cell_type": "code",
   "execution_count": 12,
   "metadata": {},
   "outputs": [],
   "source": [
    "data = [cmat_vae_vec_abide,cmat_background_vec_abide,cmat_salient_vec_abide]\n",
    "\n",
    "rsa_results = dict()\n",
    "for key in default_keys:\n",
    "    res = np.array([fit_rsa(datum,key) for datum in data]).transpose()\n",
    "    rsa_results.update({key : res})"
   ]
  },
  {
   "cell_type": "code",
   "execution_count": 18,
   "metadata": {},
   "outputs": [
    {
     "data": {
      "image/png": "[encoded data removed]",
      "text/plain": [
       "<Figure size 864x576 with 4 Axes>"
      ]
     },
     "metadata": {
      "needs_background": "light"
     },
     "output_type": "display_data"
    }
   ],
   "source": [
    "keys = default_keys\n",
    "titles = ['sec_lan_proficiency','age','sex','dataset']\n",
    "\n",
    "ncols = 3\n",
    "nrows = int(np.ceil(len(keys)/3))\n",
    "\n",
    "plt.figure(figsize=np.array((ncols,nrows))*4)\n",
    "\n",
    "for i,key in enumerate(keys):\n",
    "    ax = plt.subplot(nrows,ncols,i+1)\n",
    "    plot_nice_bar(key,rsa_results,\n",
    "                  ax=ax,figsize=None,\n",
    "                  dpi=300,fontsize=12,\n",
    "                  fontsize_star=12,\n",
    "                  fontweight='bold',\n",
    "                  line_width=2.5,\n",
    "                  marker_size=12,title=titles[i])\n",
    "    \n",
    "plt.subplots_adjust(\n",
    "    left=None,\n",
    "    bottom=None,\n",
    "    right=None,\n",
    "    top=None,\n",
    "    wspace=.5,\n",
    "    hspace=.5)\n",
    "\n",
    "plt.suptitle('ABIDE RSA RESULTS',fontsize=20,y=.95);"
   ]
  },
  {
   "cell_type": "code",
   "execution_count": null,
   "metadata": {},
   "outputs": [],
   "source": []
  }
 ],
 "metadata": {
  "kernelspec": {
   "display_name": "Python 3",
   "language": "python",
   "name": "python3"
  },
  "language_info": {
   "codemirror_mode": {
    "name": "ipython",
    "version": 3
   },
   "file_extension": ".py",
   "mimetype": "text/x-python",
   "name": "python",
   "nbconvert_exporter": "python",
   "pygments_lexer": "ipython3",
   "version": "3.8.3"
  }
 },
 "nbformat": 4,
 "nbformat_minor": 4
}
