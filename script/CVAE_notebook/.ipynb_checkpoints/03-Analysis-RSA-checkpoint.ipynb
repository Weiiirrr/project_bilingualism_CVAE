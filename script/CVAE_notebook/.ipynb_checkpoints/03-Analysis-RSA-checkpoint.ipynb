{
 "cells": [
  {
   "cell_type": "code",
   "execution_count": 1,
   "metadata": {},
   "outputs": [
    {
     "name": "stderr",
     "output_type": "stream",
     "text": [
      "/mmfs1/data/liacz/.local/lib/python3.8/site-packages/pandas/core/computation/expressions.py:21: UserWarning: Pandas requires version '2.7.3' or newer of 'numexpr' (version '2.7.1' currently installed).\n",
      "  from pandas.core.computation.check import NUMEXPR_INSTALLED\n"
     ]
    }
   ],
   "source": [
    "import numpy as np\n",
    "import pandas as pd\n",
    "from matplotlib import pyplot as plt\n",
    "import scipy\n",
    "from sklearn.decomposition import PCA\n",
    "from helper_funcs import *"
   ]
  },
  {
   "cell_type": "code",
   "execution_count": 2,
   "metadata": {},
   "outputs": [],
   "source": [
    "# data_latent_vec = np.load(os.path.expanduser('~/Documents/Bilingualism_CVAE/data/latent_vecs10.npz')) # Load latent representations\n",
    "# list(data_latent_vec.keys())# Split dictionary into separate variables\n",
    "# salient_vec_BRAIN = data_latent_vec['salient_vec_BRAIN']\n",
    "# background_vec_BRAIN = data_latent_vec['background_vec_BRAIN']\n",
    "# vae_vec_BRAIN = data_latent_vec['vae_vec_BRAIN']"
   ]
  },
  {
   "cell_type": "code",
   "execution_count": 3,
   "metadata": {},
   "outputs": [
    {
     "name": "stdout",
     "output_type": "stream",
     "text": [
      "10\n",
      "10\n",
      "10\n"
     ]
    }
   ],
   "source": [
    "salient_vec_BRAIN = np.load(os.path.expanduser('~/Documents/Bilingualism_CVAE/data/latent_vecs10_s.npz'))['salient_vec_BRAIN']\n",
    "background_vec_BRAIN = np.load(os.path.expanduser('~/Documents/Bilingualism_CVAE/data/latent_vecs10_z.npz'))['background_vec_BRAIN']\n",
    "vae_vec_BRAIN = np.load(os.path.expanduser('~/Documents/Bilingualism_CVAE/data/latent_vecs10_vae.npz'))['vae_vec_BRAIN']\n",
    "print(len(salient_vec_BRAIN))\n",
    "print(len(background_vec_BRAIN))\n",
    "print(len(vae_vec_BRAIN))"
   ]
  },
  {
   "cell_type": "code",
   "execution_count": 4,
   "metadata": {},
   "outputs": [
    {
     "name": "stdout",
     "output_type": "stream",
     "text": [
      "(10, 1655, 16)\n",
      "(10, 1655, 16)\n",
      "(10, 1655, 32)\n"
     ]
    }
   ],
   "source": [
    "print(salient_vec_BRAIN.shape)\n",
    "print(background_vec_BRAIN.shape)\n",
    "print(vae_vec_BRAIN.shape)"
   ]
  },
  {
   "cell_type": "code",
   "execution_count": 5,
   "metadata": {},
   "outputs": [],
   "source": [
    "def data2cmat(data):\n",
    "    return np.array([squareform(pdist(data[s,:,:],metric='euclidean')) for s in range(data.shape[0])])"
   ]
  },
  {
   "cell_type": "code",
   "execution_count": 6,
   "metadata": {},
   "outputs": [],
   "source": [
    "# Bar plot function\n",
    "def plot_nice_bar(key,rsa,ax=None,figsize=None,dpi=None,fontsize=None,fontsize_star=None,fontweight=None,line_width=None,marker_size=None,title=None,report_t=False,do_pairwise_stars=False,do_one_sample_stars=True):\n",
    "    \n",
    "    import seaborn as sns\n",
    "    from scipy.stats import ttest_1samp\n",
    "    from scipy.stats import ttest_ind as ttest\n",
    "    \n",
    "    pallete = sns.color_palette()\n",
    "    pallete_new = sns.color_palette()\n",
    "    \n",
    "    if not figsize:\n",
    "        figsize = (5,2)\n",
    "    if not dpi:\n",
    "        dpi = 300\n",
    "        \n",
    "    if not ax:\n",
    "        fig, ax = plt.subplots(1,1,figsize=figsize,dpi=dpi)\n",
    "\n",
    "    pallete_new[1]=pallete[0]\n",
    "    pallete_new[0]=pallete[1]\n",
    "    pallete_new[0] = tuple(np.array((.5,.5,.5)))\n",
    "\n",
    "    data=rsa[key]\n",
    "    n = data.shape[0]\n",
    "    c = data.shape[1]\n",
    "    x = np.arange(c)\n",
    "    \n",
    "    if not fontsize:\n",
    "        fontsize = 16\n",
    "        \n",
    "    if not fontsize_star:\n",
    "        fontsize_star = 25\n",
    "    if not fontweight:        \n",
    "        fontweight = 'bold'\n",
    "    if not line_width:    \n",
    "        line_width = 2.5\n",
    "    if not marker_size:            \n",
    "        marker_size = .1\n",
    "    \n",
    "\n",
    "\n",
    "    for i in range(c):\n",
    "        plot_data = np.zeros(data.shape)\n",
    "        plot_data[:,i] = data[:,i]\n",
    "\n",
    "        xs = np.repeat(i,n)+(np.random.rand(n)-.5)*.25\n",
    "        sc = plt.scatter(xs,data[:,i],c='k',s = marker_size)\n",
    "        b = sns.barplot(data=plot_data,errcolor='r',linewidth=line_width,errwidth=line_width,facecolor=np.hstack((np.array(pallete_new[i]),.3)),edgecolor=np.hstack((np.array(pallete_new[i]),1)))\n",
    "\n",
    "    locs, labels = plt.yticks()  \n",
    "    new_y = locs\n",
    "    new_y = np.linspace(locs[0],locs[-1],6)\n",
    "    plt.yticks(new_y,labels=[f'{yy:.2f}' for yy in new_y],fontsize=fontsize,fontweight=fontweight)\n",
    "    plt.ylabel('model fit (r)',fontsize=fontsize,fontweight=fontweight)\n",
    "\n",
    "    ax.spines['top'].set_visible(False)\n",
    "    ax.spines['right'].set_visible(False)\n",
    "    ax.spines['bottom'].set_visible(False)\n",
    "\n",
    "    for axis in ['top','bottom','left','right']:\n",
    "            ax.spines[axis].set_linewidth(line_width)\n",
    "\n",
    "    xlbls = ['VAE','BG','SL']\n",
    "    plt.xticks(np.arange(3),labels=xlbls,fontsize=fontsize,fontweight=fontweight)\n",
    "    \n",
    "    if do_one_sample_stars:\n",
    "        one_sample = np.array([ttest_1samp(data[:,i],0) for i in range(3)])\n",
    "        one_sample_thresh = np.array((1,.05,.001,.0001))\n",
    "        one_sample_stars = np.array(('n.s.','*','**','***'))\n",
    "        xlbls = ['VAE','BG','SL']\n",
    "        for i in range(c):\n",
    "            these_stars = one_sample_stars[max(np.nonzero(one_sample[i,1]<one_sample_thresh)[0])]\n",
    "            xlbls[i] = f'{xlbls[i]}\\n({these_stars})'\n",
    "        plt.xticks(np.arange(3),labels=xlbls,fontsize=fontsize,fontweight=fontweight,horizontalalignment='center',multialignment='center')\n",
    "\n",
    "    pairwise_t = np.zeros((3,3))\n",
    "    pairwise_p = np.zeros((3,3))\n",
    "\n",
    "    pairwise_sample_thresh = np.array((1,.05,.001,.0001))\n",
    "    pairwise_sample_stars = np.array(('n.s.','*','**','***'))\n",
    "\n",
    "    if report_t:\n",
    "        for i in range(c):\n",
    "            for j in range(c):\n",
    "                t,p = ttest(data[:,i],data[:,j])\n",
    "                mnames = ['VAE','BG','SL']\n",
    "\n",
    "                if p > .001:\n",
    "                    print(f'{key} {mnames[i]} >  {mnames[j]} | t({data.shape[0]-1}) = {t:.2f} p = {p:.2f}')\n",
    "                else:\n",
    "                    print(f'{key} {mnames[i]} >  {mnames[j]} | t({data.shape[0]-1}) = {t:.2f} p $<$ .001')\n",
    "                pairwise_t[i,j] = t\n",
    "                pairwise_p[i,j] = p\n",
    "\n",
    "    comps = [[1,2]]\n",
    "    if do_pairwise_stars:\n",
    "        for comp_idx in range(len(comps)):\n",
    "            this_comp = comps[comp_idx]\n",
    "            sig_idx = max(np.nonzero(pairwise_p[this_comp[0],this_comp[1]]<pairwise_sample_thresh)[0])\n",
    "            max_y = new_y[-1] + comp_idx*.05\n",
    "            xs = np.array(this_comp)\n",
    "            stars = pairwise_sample_stars[sig_idx]\n",
    "            plt.plot(xs,[max_y,max_y],'k',linewidth=line_width)\n",
    "            plt.text(xs.mean(),max_y,stars,fontsize=fontsize_star,horizontalalignment='center',fontweight=fontweight)\n",
    "        \n",
    "#     ylim = plt.ylim()\n",
    "#     plt.ylim(np.array(ylim)*(1,1.1))\n",
    "    plt.ylim(-0.1, 0.16)\n",
    "    plt.yticks([-0.1,-0.05, 0, 0.05, 0.1, 0.15], ['-0.1','-0.05', '0', '0.05', '0.1', '0.15'])\n",
    "    \n",
    "    if not title:\n",
    "        plt.title(key,fontsize=fontsize*1.5,pad=2,fontweight=fontweight)    \n",
    "    else:\n",
    "        plt.title(title,fontsize=fontsize*1.5,pad=2,fontweight=fontweight)"
   ]
  },
  {
   "cell_type": "code",
   "execution_count": 7,
   "metadata": {},
   "outputs": [],
   "source": [
    "# Make (dis)similarity matrices\n",
    "cmat_salient_vec_BRAIN = data2cmat(salient_vec_BRAIN)\n",
    "cmat_background_vec_BRAIN = data2cmat(background_vec_BRAIN)\n",
    "cmat_vae_vec_BRAIN = data2cmat(vae_vec_BRAIN)"
   ]
  },
  {
   "cell_type": "code",
   "execution_count": 8,
   "metadata": {},
   "outputs": [
    {
     "data": {
      "text/plain": [
       "(10, 1655, 1655)"
      ]
     },
     "execution_count": 8,
     "metadata": {},
     "output_type": "execute_result"
    }
   ],
   "source": [
    "cmat_salient_vec_BRAIN.shape"
   ]
  },
  {
   "cell_type": "code",
   "execution_count": 9,
   "metadata": {},
   "outputs": [
    {
     "data": {
      "text/plain": [
       "1655"
      ]
     },
     "execution_count": 9,
     "metadata": {},
     "output_type": "execute_result"
    }
   ],
   "source": [
    "df = pd.read_csv(os.path.expanduser('~/Documents/Bilingualism_CVAE/data/legend.csv'))\n",
    "len(df)"
   ]
  },
  {
   "cell_type": "code",
   "execution_count": 10,
   "metadata": {},
   "outputs": [],
   "source": [
    "# df = df[(df.ds=='Hernandez')]"
   ]
  },
  {
   "cell_type": "code",
   "execution_count": 11,
   "metadata": {},
   "outputs": [],
   "source": [
    "# df = df[(df.ds=='ds1747')]"
   ]
  },
  {
   "cell_type": "code",
   "execution_count": 12,
   "metadata": {},
   "outputs": [
    {
     "data": {
      "text/plain": [
       "Siemens Prisma        724\n",
       "Siemens Prisma dev    571\n",
       "Hernandez             360\n",
       "Name: scanner, dtype: int64"
      ]
     },
     "execution_count": 12,
     "metadata": {},
     "output_type": "execute_result"
    }
   ],
   "source": [
    "df['scanner'].value_counts()"
   ]
  },
  {
   "cell_type": "code",
   "execution_count": 13,
   "metadata": {},
   "outputs": [
    {
     "data": {
      "text/plain": [
       "(1655,)"
      ]
     },
     "execution_count": 13,
     "metadata": {},
     "output_type": "execute_result"
    }
   ],
   "source": [
    "indir = '/mmfs1/data/liacz/Documents/Bilingualism_CVAE/data/array_brains'\n",
    "BRAIN_data = np.load(os.path.join(indir, \"arr_combine/8b2aa1f/BRAIN_data.npy\"))\n",
    "BRAIN_subs = np.load(os.path.join(indir, \"arr_combine/8b2aa1f/BRAIN_subs.npy\"))\n",
    "BRAIN_ds = np.load(os.path.join(indir, \"arr_combine/8b2aa1f/BRAIN_ds.npy\"))\n",
    "legend_subs= df['ds_par_id']\n",
    "BRAIN_ds_subs = [BRAIN_ds[i]+'_'+BRAIN_subs[i] for i in range(0,len(BRAIN_subs))]\n",
    "\n",
    "BRAIN_subs.shape"
   ]
  },
  {
   "cell_type": "code",
   "execution_count": 14,
   "metadata": {},
   "outputs": [
    {
     "data": {
      "text/html": [
       "<div>\n",
       "<style scoped>\n",
       "    .dataframe tbody tr th:only-of-type {\n",
       "        vertical-align: middle;\n",
       "    }\n",
       "\n",
       "    .dataframe tbody tr th {\n",
       "        vertical-align: top;\n",
       "    }\n",
       "\n",
       "    .dataframe thead th {\n",
       "        text-align: right;\n",
       "    }\n",
       "</style>\n",
       "<table border=\"1\" class=\"dataframe\">\n",
       "  <thead>\n",
       "    <tr style=\"text-align: right;\">\n",
       "      <th></th>\n",
       "      <th>ds_par_id</th>\n",
       "      <th>index</th>\n",
       "    </tr>\n",
       "  </thead>\n",
       "  <tbody>\n",
       "    <tr>\n",
       "      <th>0</th>\n",
       "      <td>Hernandez_WL_052.mgz</td>\n",
       "      <td>0</td>\n",
       "    </tr>\n",
       "    <tr>\n",
       "      <th>1</th>\n",
       "      <td>Hernandez_271ES.mgz</td>\n",
       "      <td>1</td>\n",
       "    </tr>\n",
       "    <tr>\n",
       "      <th>2</th>\n",
       "      <td>Hernandez_PI_028.mgz</td>\n",
       "      <td>2</td>\n",
       "    </tr>\n",
       "    <tr>\n",
       "      <th>3</th>\n",
       "      <td>Hernandez_71_E.mgz</td>\n",
       "      <td>3</td>\n",
       "    </tr>\n",
       "    <tr>\n",
       "      <th>4</th>\n",
       "      <td>Hernandez_WL_002.mgz</td>\n",
       "      <td>4</td>\n",
       "    </tr>\n",
       "    <tr>\n",
       "      <th>...</th>\n",
       "      <td>...</td>\n",
       "      <td>...</td>\n",
       "    </tr>\n",
       "    <tr>\n",
       "      <th>1650</th>\n",
       "      <td>HCPdev_HCD2055237_V1_MR</td>\n",
       "      <td>1650</td>\n",
       "    </tr>\n",
       "    <tr>\n",
       "      <th>1651</th>\n",
       "      <td>HCPdev_HCD0232223_V1_MR</td>\n",
       "      <td>1651</td>\n",
       "    </tr>\n",
       "    <tr>\n",
       "      <th>1652</th>\n",
       "      <td>HCPdev_HCD0392649_V1_MR</td>\n",
       "      <td>1652</td>\n",
       "    </tr>\n",
       "    <tr>\n",
       "      <th>1653</th>\n",
       "      <td>HCPdev_HCD0197348_V1_MR</td>\n",
       "      <td>1653</td>\n",
       "    </tr>\n",
       "    <tr>\n",
       "      <th>1654</th>\n",
       "      <td>HCPdev_HCD1756262_V1_MR</td>\n",
       "      <td>1654</td>\n",
       "    </tr>\n",
       "  </tbody>\n",
       "</table>\n",
       "<p>1655 rows × 2 columns</p>\n",
       "</div>"
      ],
      "text/plain": [
       "                    ds_par_id  index\n",
       "0        Hernandez_WL_052.mgz      0\n",
       "1         Hernandez_271ES.mgz      1\n",
       "2        Hernandez_PI_028.mgz      2\n",
       "3          Hernandez_71_E.mgz      3\n",
       "4        Hernandez_WL_002.mgz      4\n",
       "...                       ...    ...\n",
       "1650  HCPdev_HCD2055237_V1_MR   1650\n",
       "1651  HCPdev_HCD0232223_V1_MR   1651\n",
       "1652  HCPdev_HCD0392649_V1_MR   1652\n",
       "1653  HCPdev_HCD0197348_V1_MR   1653\n",
       "1654  HCPdev_HCD1756262_V1_MR   1654\n",
       "\n",
       "[1655 rows x 2 columns]"
      ]
     },
     "execution_count": 14,
     "metadata": {},
     "output_type": "execute_result"
    }
   ],
   "source": [
    "BRAIN_ds_subs_pd = pd.DataFrame(BRAIN_ds_subs, columns = ['ds_par_id'])\n",
    "BRAIN_ds_subs_pd['index'] = range(len(BRAIN_ds_subs_pd.iloc[:,0]))\n",
    "BRAIN_ds_subs_pd"
   ]
  },
  {
   "cell_type": "code",
   "execution_count": 15,
   "metadata": {},
   "outputs": [],
   "source": [
    "df_sort = pd.merge(df, BRAIN_ds_subs_pd, how = 'right', on ='ds_par_id').sort_values(by=['index'])\n",
    "df_sort.drop_duplicates(inplace=True)"
   ]
  },
  {
   "cell_type": "code",
   "execution_count": 16,
   "metadata": {},
   "outputs": [
    {
     "data": {
      "text/html": [
       "<div>\n",
       "<style scoped>\n",
       "    .dataframe tbody tr th:only-of-type {\n",
       "        vertical-align: middle;\n",
       "    }\n",
       "\n",
       "    .dataframe tbody tr th {\n",
       "        vertical-align: top;\n",
       "    }\n",
       "\n",
       "    .dataframe thead th {\n",
       "        text-align: right;\n",
       "    }\n",
       "</style>\n",
       "<table border=\"1\" class=\"dataframe\">\n",
       "  <thead>\n",
       "    <tr style=\"text-align: right;\">\n",
       "      <th></th>\n",
       "      <th>participant_id</th>\n",
       "      <th>bilingualism</th>\n",
       "      <th>age</th>\n",
       "      <th>sex</th>\n",
       "      <th>aoa_group</th>\n",
       "      <th>num_lan</th>\n",
       "      <th>sec_lan_proficiency</th>\n",
       "      <th>ds</th>\n",
       "      <th>scanner</th>\n",
       "      <th>aoa</th>\n",
       "      <th>sec_lan_exposure</th>\n",
       "      <th>ds_par_id</th>\n",
       "      <th>index</th>\n",
       "    </tr>\n",
       "  </thead>\n",
       "  <tbody>\n",
       "    <tr>\n",
       "      <th>0</th>\n",
       "      <td>WL_052.mgz</td>\n",
       "      <td>0.0</td>\n",
       "      <td>24.000000</td>\n",
       "      <td>F</td>\n",
       "      <td>NaN</td>\n",
       "      <td>NaN</td>\n",
       "      <td>NaN</td>\n",
       "      <td>Hernandez</td>\n",
       "      <td>Hernandez</td>\n",
       "      <td>NaN</td>\n",
       "      <td>NaN</td>\n",
       "      <td>Hernandez_WL_052.mgz</td>\n",
       "      <td>0</td>\n",
       "    </tr>\n",
       "    <tr>\n",
       "      <th>1</th>\n",
       "      <td>271ES.mgz</td>\n",
       "      <td>1.0</td>\n",
       "      <td>20.000000</td>\n",
       "      <td>M</td>\n",
       "      <td>EB</td>\n",
       "      <td>NaN</td>\n",
       "      <td>0.650000</td>\n",
       "      <td>Hernandez</td>\n",
       "      <td>Hernandez</td>\n",
       "      <td>5.0</td>\n",
       "      <td>NaN</td>\n",
       "      <td>Hernandez_271ES.mgz</td>\n",
       "      <td>1</td>\n",
       "    </tr>\n",
       "    <tr>\n",
       "      <th>2</th>\n",
       "      <td>PI_028.mgz</td>\n",
       "      <td>1.0</td>\n",
       "      <td>22.000000</td>\n",
       "      <td>F</td>\n",
       "      <td>LB</td>\n",
       "      <td>NaN</td>\n",
       "      <td>0.746276</td>\n",
       "      <td>Hernandez</td>\n",
       "      <td>Hernandez</td>\n",
       "      <td>8.0</td>\n",
       "      <td>NaN</td>\n",
       "      <td>Hernandez_PI_028.mgz</td>\n",
       "      <td>2</td>\n",
       "    </tr>\n",
       "    <tr>\n",
       "      <th>3</th>\n",
       "      <td>71_E.mgz</td>\n",
       "      <td>1.0</td>\n",
       "      <td>22.000000</td>\n",
       "      <td>F</td>\n",
       "      <td>EB</td>\n",
       "      <td>NaN</td>\n",
       "      <td>0.500000</td>\n",
       "      <td>Hernandez</td>\n",
       "      <td>Hernandez</td>\n",
       "      <td>4.0</td>\n",
       "      <td>NaN</td>\n",
       "      <td>Hernandez_71_E.mgz</td>\n",
       "      <td>3</td>\n",
       "    </tr>\n",
       "    <tr>\n",
       "      <th>4</th>\n",
       "      <td>WL_002.mgz</td>\n",
       "      <td>0.0</td>\n",
       "      <td>20.000000</td>\n",
       "      <td>F</td>\n",
       "      <td>NaN</td>\n",
       "      <td>NaN</td>\n",
       "      <td>NaN</td>\n",
       "      <td>Hernandez</td>\n",
       "      <td>Hernandez</td>\n",
       "      <td>NaN</td>\n",
       "      <td>NaN</td>\n",
       "      <td>Hernandez_WL_002.mgz</td>\n",
       "      <td>4</td>\n",
       "    </tr>\n",
       "    <tr>\n",
       "      <th>...</th>\n",
       "      <td>...</td>\n",
       "      <td>...</td>\n",
       "      <td>...</td>\n",
       "      <td>...</td>\n",
       "      <td>...</td>\n",
       "      <td>...</td>\n",
       "      <td>...</td>\n",
       "      <td>...</td>\n",
       "      <td>...</td>\n",
       "      <td>...</td>\n",
       "      <td>...</td>\n",
       "      <td>...</td>\n",
       "      <td>...</td>\n",
       "    </tr>\n",
       "    <tr>\n",
       "      <th>1650</th>\n",
       "      <td>HCD2055237_V1_MR</td>\n",
       "      <td>1.0</td>\n",
       "      <td>8.916667</td>\n",
       "      <td>F</td>\n",
       "      <td>EB</td>\n",
       "      <td>2.0</td>\n",
       "      <td>0.733333</td>\n",
       "      <td>HCPdev</td>\n",
       "      <td>Siemens Prisma dev</td>\n",
       "      <td>5.0</td>\n",
       "      <td>30.0</td>\n",
       "      <td>HCPdev_HCD2055237_V1_MR</td>\n",
       "      <td>1650</td>\n",
       "    </tr>\n",
       "    <tr>\n",
       "      <th>1651</th>\n",
       "      <td>HCD0232223_V1_MR</td>\n",
       "      <td>0.0</td>\n",
       "      <td>13.750000</td>\n",
       "      <td>F</td>\n",
       "      <td>NaN</td>\n",
       "      <td>1.0</td>\n",
       "      <td>NaN</td>\n",
       "      <td>HCPdev</td>\n",
       "      <td>Siemens Prisma dev</td>\n",
       "      <td>NaN</td>\n",
       "      <td>NaN</td>\n",
       "      <td>HCPdev_HCD0232223_V1_MR</td>\n",
       "      <td>1651</td>\n",
       "    </tr>\n",
       "    <tr>\n",
       "      <th>1652</th>\n",
       "      <td>HCD0392649_V1_MR</td>\n",
       "      <td>1.0</td>\n",
       "      <td>16.750000</td>\n",
       "      <td>M</td>\n",
       "      <td>EB</td>\n",
       "      <td>2.0</td>\n",
       "      <td>1.000000</td>\n",
       "      <td>HCPdev</td>\n",
       "      <td>Siemens Prisma dev</td>\n",
       "      <td>2.0</td>\n",
       "      <td>60.0</td>\n",
       "      <td>HCPdev_HCD0392649_V1_MR</td>\n",
       "      <td>1652</td>\n",
       "    </tr>\n",
       "    <tr>\n",
       "      <th>1653</th>\n",
       "      <td>HCD0197348_V1_MR</td>\n",
       "      <td>0.0</td>\n",
       "      <td>11.666667</td>\n",
       "      <td>M</td>\n",
       "      <td>NaN</td>\n",
       "      <td>1.0</td>\n",
       "      <td>NaN</td>\n",
       "      <td>HCPdev</td>\n",
       "      <td>Siemens Prisma dev</td>\n",
       "      <td>NaN</td>\n",
       "      <td>NaN</td>\n",
       "      <td>HCPdev_HCD0197348_V1_MR</td>\n",
       "      <td>1653</td>\n",
       "    </tr>\n",
       "    <tr>\n",
       "      <th>1654</th>\n",
       "      <td>HCD1756262_V1_MR</td>\n",
       "      <td>1.0</td>\n",
       "      <td>19.416667</td>\n",
       "      <td>M</td>\n",
       "      <td>EB</td>\n",
       "      <td>2.0</td>\n",
       "      <td>0.900000</td>\n",
       "      <td>HCPdev</td>\n",
       "      <td>Siemens Prisma dev</td>\n",
       "      <td>2.0</td>\n",
       "      <td>10.0</td>\n",
       "      <td>HCPdev_HCD1756262_V1_MR</td>\n",
       "      <td>1654</td>\n",
       "    </tr>\n",
       "  </tbody>\n",
       "</table>\n",
       "<p>1655 rows × 13 columns</p>\n",
       "</div>"
      ],
      "text/plain": [
       "        participant_id  bilingualism        age sex aoa_group  num_lan  \\\n",
       "0           WL_052.mgz           0.0  24.000000   F       NaN      NaN   \n",
       "1            271ES.mgz           1.0  20.000000   M        EB      NaN   \n",
       "2           PI_028.mgz           1.0  22.000000   F        LB      NaN   \n",
       "3             71_E.mgz           1.0  22.000000   F        EB      NaN   \n",
       "4           WL_002.mgz           0.0  20.000000   F       NaN      NaN   \n",
       "...                ...           ...        ...  ..       ...      ...   \n",
       "1650  HCD2055237_V1_MR           1.0   8.916667   F        EB      2.0   \n",
       "1651  HCD0232223_V1_MR           0.0  13.750000   F       NaN      1.0   \n",
       "1652  HCD0392649_V1_MR           1.0  16.750000   M        EB      2.0   \n",
       "1653  HCD0197348_V1_MR           0.0  11.666667   M       NaN      1.0   \n",
       "1654  HCD1756262_V1_MR           1.0  19.416667   M        EB      2.0   \n",
       "\n",
       "      sec_lan_proficiency         ds             scanner  aoa  \\\n",
       "0                     NaN  Hernandez           Hernandez  NaN   \n",
       "1                0.650000  Hernandez           Hernandez  5.0   \n",
       "2                0.746276  Hernandez           Hernandez  8.0   \n",
       "3                0.500000  Hernandez           Hernandez  4.0   \n",
       "4                     NaN  Hernandez           Hernandez  NaN   \n",
       "...                   ...        ...                 ...  ...   \n",
       "1650             0.733333     HCPdev  Siemens Prisma dev  5.0   \n",
       "1651                  NaN     HCPdev  Siemens Prisma dev  NaN   \n",
       "1652             1.000000     HCPdev  Siemens Prisma dev  2.0   \n",
       "1653                  NaN     HCPdev  Siemens Prisma dev  NaN   \n",
       "1654             0.900000     HCPdev  Siemens Prisma dev  2.0   \n",
       "\n",
       "      sec_lan_exposure                ds_par_id  index  \n",
       "0                  NaN     Hernandez_WL_052.mgz      0  \n",
       "1                  NaN      Hernandez_271ES.mgz      1  \n",
       "2                  NaN     Hernandez_PI_028.mgz      2  \n",
       "3                  NaN       Hernandez_71_E.mgz      3  \n",
       "4                  NaN     Hernandez_WL_002.mgz      4  \n",
       "...                ...                      ...    ...  \n",
       "1650              30.0  HCPdev_HCD2055237_V1_MR   1650  \n",
       "1651               NaN  HCPdev_HCD0232223_V1_MR   1651  \n",
       "1652              60.0  HCPdev_HCD0392649_V1_MR   1652  \n",
       "1653               NaN  HCPdev_HCD0197348_V1_MR   1653  \n",
       "1654              10.0  HCPdev_HCD1756262_V1_MR   1654  \n",
       "\n",
       "[1655 rows x 13 columns]"
      ]
     },
     "execution_count": 16,
     "metadata": {},
     "output_type": "execute_result"
    }
   ],
   "source": [
    "df_sort"
   ]
  },
  {
   "cell_type": "code",
   "execution_count": 17,
   "metadata": {},
   "outputs": [],
   "source": [
    "df_sort['bilingualism']=pd.to_numeric(df_sort.bilingualism)\n",
    "df_sort['num_lan']=pd.to_numeric(df_sort.num_lan)\n",
    "df_sort['age']=pd.to_numeric(df_sort.age)\n",
    "df_sort['aoa']=pd.to_numeric(df_sort.aoa)\n",
    "df_sort['sec_lan_proficiency']=pd.to_numeric(df_sort.sec_lan_proficiency)\n",
    "df_sort['sec_lan_exposure']=pd.to_numeric(df_sort.sec_lan_exposure)\n",
    "\n",
    "# df_sort = df_sort[df_sort.ds == 'Hernandez']"
   ]
  },
  {
   "cell_type": "code",
   "execution_count": 18,
   "metadata": {},
   "outputs": [
    {
     "data": {
      "text/html": [
       "<div>\n",
       "<style scoped>\n",
       "    .dataframe tbody tr th:only-of-type {\n",
       "        vertical-align: middle;\n",
       "    }\n",
       "\n",
       "    .dataframe tbody tr th {\n",
       "        vertical-align: top;\n",
       "    }\n",
       "\n",
       "    .dataframe thead th {\n",
       "        text-align: right;\n",
       "    }\n",
       "</style>\n",
       "<table border=\"1\" class=\"dataframe\">\n",
       "  <thead>\n",
       "    <tr style=\"text-align: right;\">\n",
       "      <th></th>\n",
       "      <th>participant_id</th>\n",
       "      <th>bilingualism</th>\n",
       "      <th>age</th>\n",
       "      <th>sex</th>\n",
       "      <th>aoa_group</th>\n",
       "      <th>num_lan</th>\n",
       "      <th>sec_lan_proficiency</th>\n",
       "      <th>ds</th>\n",
       "      <th>scanner</th>\n",
       "      <th>aoa</th>\n",
       "      <th>sec_lan_exposure</th>\n",
       "      <th>ds_par_id</th>\n",
       "      <th>index</th>\n",
       "    </tr>\n",
       "  </thead>\n",
       "  <tbody>\n",
       "    <tr>\n",
       "      <th>0</th>\n",
       "      <td>WL_052.mgz</td>\n",
       "      <td>0.0</td>\n",
       "      <td>24.0</td>\n",
       "      <td>F</td>\n",
       "      <td>NaN</td>\n",
       "      <td>NaN</td>\n",
       "      <td>NaN</td>\n",
       "      <td>Hernandez</td>\n",
       "      <td>Hernandez</td>\n",
       "      <td>NaN</td>\n",
       "      <td>NaN</td>\n",
       "      <td>Hernandez_WL_052.mgz</td>\n",
       "      <td>0</td>\n",
       "    </tr>\n",
       "    <tr>\n",
       "      <th>1</th>\n",
       "      <td>271ES.mgz</td>\n",
       "      <td>1.0</td>\n",
       "      <td>20.0</td>\n",
       "      <td>M</td>\n",
       "      <td>EB</td>\n",
       "      <td>NaN</td>\n",
       "      <td>0.650000</td>\n",
       "      <td>Hernandez</td>\n",
       "      <td>Hernandez</td>\n",
       "      <td>5.0</td>\n",
       "      <td>NaN</td>\n",
       "      <td>Hernandez_271ES.mgz</td>\n",
       "      <td>1</td>\n",
       "    </tr>\n",
       "    <tr>\n",
       "      <th>2</th>\n",
       "      <td>PI_028.mgz</td>\n",
       "      <td>1.0</td>\n",
       "      <td>22.0</td>\n",
       "      <td>F</td>\n",
       "      <td>LB</td>\n",
       "      <td>NaN</td>\n",
       "      <td>0.746276</td>\n",
       "      <td>Hernandez</td>\n",
       "      <td>Hernandez</td>\n",
       "      <td>8.0</td>\n",
       "      <td>NaN</td>\n",
       "      <td>Hernandez_PI_028.mgz</td>\n",
       "      <td>2</td>\n",
       "    </tr>\n",
       "    <tr>\n",
       "      <th>3</th>\n",
       "      <td>71_E.mgz</td>\n",
       "      <td>1.0</td>\n",
       "      <td>22.0</td>\n",
       "      <td>F</td>\n",
       "      <td>EB</td>\n",
       "      <td>NaN</td>\n",
       "      <td>0.500000</td>\n",
       "      <td>Hernandez</td>\n",
       "      <td>Hernandez</td>\n",
       "      <td>4.0</td>\n",
       "      <td>NaN</td>\n",
       "      <td>Hernandez_71_E.mgz</td>\n",
       "      <td>3</td>\n",
       "    </tr>\n",
       "    <tr>\n",
       "      <th>4</th>\n",
       "      <td>WL_002.mgz</td>\n",
       "      <td>0.0</td>\n",
       "      <td>20.0</td>\n",
       "      <td>F</td>\n",
       "      <td>NaN</td>\n",
       "      <td>NaN</td>\n",
       "      <td>NaN</td>\n",
       "      <td>Hernandez</td>\n",
       "      <td>Hernandez</td>\n",
       "      <td>NaN</td>\n",
       "      <td>NaN</td>\n",
       "      <td>Hernandez_WL_002.mgz</td>\n",
       "      <td>4</td>\n",
       "    </tr>\n",
       "    <tr>\n",
       "      <th>...</th>\n",
       "      <td>...</td>\n",
       "      <td>...</td>\n",
       "      <td>...</td>\n",
       "      <td>...</td>\n",
       "      <td>...</td>\n",
       "      <td>...</td>\n",
       "      <td>...</td>\n",
       "      <td>...</td>\n",
       "      <td>...</td>\n",
       "      <td>...</td>\n",
       "      <td>...</td>\n",
       "      <td>...</td>\n",
       "      <td>...</td>\n",
       "    </tr>\n",
       "    <tr>\n",
       "      <th>355</th>\n",
       "      <td>JV.mgz</td>\n",
       "      <td>1.0</td>\n",
       "      <td>39.0</td>\n",
       "      <td>M</td>\n",
       "      <td>LB</td>\n",
       "      <td>NaN</td>\n",
       "      <td>0.670599</td>\n",
       "      <td>Hernandez</td>\n",
       "      <td>Hernandez</td>\n",
       "      <td>22.0</td>\n",
       "      <td>NaN</td>\n",
       "      <td>Hernandez_JV.mgz</td>\n",
       "      <td>355</td>\n",
       "    </tr>\n",
       "    <tr>\n",
       "      <th>356</th>\n",
       "      <td>Sub38FS.mgz</td>\n",
       "      <td>1.0</td>\n",
       "      <td>25.0</td>\n",
       "      <td>F</td>\n",
       "      <td>EB</td>\n",
       "      <td>NaN</td>\n",
       "      <td>0.796440</td>\n",
       "      <td>Hernandez</td>\n",
       "      <td>Hernandez</td>\n",
       "      <td>6.0</td>\n",
       "      <td>NaN</td>\n",
       "      <td>Hernandez_Sub38FS.mgz</td>\n",
       "      <td>356</td>\n",
       "    </tr>\n",
       "    <tr>\n",
       "      <th>357</th>\n",
       "      <td>PI_071.mgz</td>\n",
       "      <td>1.0</td>\n",
       "      <td>23.0</td>\n",
       "      <td>M</td>\n",
       "      <td>EB</td>\n",
       "      <td>NaN</td>\n",
       "      <td>0.768319</td>\n",
       "      <td>Hernandez</td>\n",
       "      <td>Hernandez</td>\n",
       "      <td>1.0</td>\n",
       "      <td>NaN</td>\n",
       "      <td>Hernandez_PI_071.mgz</td>\n",
       "      <td>357</td>\n",
       "    </tr>\n",
       "    <tr>\n",
       "      <th>358</th>\n",
       "      <td>271DT.mgz</td>\n",
       "      <td>1.0</td>\n",
       "      <td>20.0</td>\n",
       "      <td>M</td>\n",
       "      <td>EB</td>\n",
       "      <td>NaN</td>\n",
       "      <td>0.561330</td>\n",
       "      <td>Hernandez</td>\n",
       "      <td>Hernandez</td>\n",
       "      <td>3.5</td>\n",
       "      <td>NaN</td>\n",
       "      <td>Hernandez_271DT.mgz</td>\n",
       "      <td>358</td>\n",
       "    </tr>\n",
       "    <tr>\n",
       "      <th>359</th>\n",
       "      <td>AS.mgz</td>\n",
       "      <td>1.0</td>\n",
       "      <td>23.0</td>\n",
       "      <td>M</td>\n",
       "      <td>LB</td>\n",
       "      <td>NaN</td>\n",
       "      <td>0.552709</td>\n",
       "      <td>Hernandez</td>\n",
       "      <td>Hernandez</td>\n",
       "      <td>9.0</td>\n",
       "      <td>NaN</td>\n",
       "      <td>Hernandez_AS.mgz</td>\n",
       "      <td>359</td>\n",
       "    </tr>\n",
       "  </tbody>\n",
       "</table>\n",
       "<p>360 rows × 13 columns</p>\n",
       "</div>"
      ],
      "text/plain": [
       "    participant_id  bilingualism   age sex aoa_group  num_lan  \\\n",
       "0       WL_052.mgz           0.0  24.0   F       NaN      NaN   \n",
       "1        271ES.mgz           1.0  20.0   M        EB      NaN   \n",
       "2       PI_028.mgz           1.0  22.0   F        LB      NaN   \n",
       "3         71_E.mgz           1.0  22.0   F        EB      NaN   \n",
       "4       WL_002.mgz           0.0  20.0   F       NaN      NaN   \n",
       "..             ...           ...   ...  ..       ...      ...   \n",
       "355         JV.mgz           1.0  39.0   M        LB      NaN   \n",
       "356    Sub38FS.mgz           1.0  25.0   F        EB      NaN   \n",
       "357     PI_071.mgz           1.0  23.0   M        EB      NaN   \n",
       "358      271DT.mgz           1.0  20.0   M        EB      NaN   \n",
       "359         AS.mgz           1.0  23.0   M        LB      NaN   \n",
       "\n",
       "     sec_lan_proficiency         ds    scanner   aoa  sec_lan_exposure  \\\n",
       "0                    NaN  Hernandez  Hernandez   NaN               NaN   \n",
       "1               0.650000  Hernandez  Hernandez   5.0               NaN   \n",
       "2               0.746276  Hernandez  Hernandez   8.0               NaN   \n",
       "3               0.500000  Hernandez  Hernandez   4.0               NaN   \n",
       "4                    NaN  Hernandez  Hernandez   NaN               NaN   \n",
       "..                   ...        ...        ...   ...               ...   \n",
       "355             0.670599  Hernandez  Hernandez  22.0               NaN   \n",
       "356             0.796440  Hernandez  Hernandez   6.0               NaN   \n",
       "357             0.768319  Hernandez  Hernandez   1.0               NaN   \n",
       "358             0.561330  Hernandez  Hernandez   3.5               NaN   \n",
       "359             0.552709  Hernandez  Hernandez   9.0               NaN   \n",
       "\n",
       "                 ds_par_id  index  \n",
       "0     Hernandez_WL_052.mgz      0  \n",
       "1      Hernandez_271ES.mgz      1  \n",
       "2     Hernandez_PI_028.mgz      2  \n",
       "3       Hernandez_71_E.mgz      3  \n",
       "4     Hernandez_WL_002.mgz      4  \n",
       "..                     ...    ...  \n",
       "355       Hernandez_JV.mgz    355  \n",
       "356  Hernandez_Sub38FS.mgz    356  \n",
       "357   Hernandez_PI_071.mgz    357  \n",
       "358    Hernandez_271DT.mgz    358  \n",
       "359       Hernandez_AS.mgz    359  \n",
       "\n",
       "[360 rows x 13 columns]"
      ]
     },
     "execution_count": 18,
     "metadata": {},
     "output_type": "execute_result"
    }
   ],
   "source": [
    "df_sort"
   ]
  },
  {
   "cell_type": "code",
   "execution_count": 19,
   "metadata": {},
   "outputs": [],
   "source": [
    "patients = df_sort['bilingualism'].values==1.0\n",
    "controls = df_sort['bilingualism'].values==0.0"
   ]
  },
  {
   "cell_type": "code",
   "execution_count": 20,
   "metadata": {},
   "outputs": [],
   "source": [
    "def make_RDM(inVec, data_scale='ratio', metric='euclidean'):\n",
    "    vec = inVec\n",
    "    def fun(u,v):\n",
    "        const = 0 if u[0] == v[0] else 1\n",
    "        return np.sqrt(const**2)\n",
    "    if data_scale=='ratio':\n",
    "        vec = (vec - min(vec.flatten())) / (max(vec.flatten())-min(vec.flatten()))\n",
    "    \n",
    "    if np.ndim(inVec)==1: # must be at least 2D\n",
    "        vec = np.vstack((vec,np.zeros(vec.shape))).transpose()\n",
    "    if data_scale=='ordinal':\n",
    "        mat = squareform(pdist(vec, fun).transpose())\n",
    "#         mat[mat!=0]=1 # Make into zeros and ones\n",
    "    if data_scale=='ratio':\n",
    "        mat = squareform(pdist(vec,metric=metric).transpose())\n",
    "    return mat"
   ]
  },
  {
   "cell_type": "code",
   "execution_count": 21,
   "metadata": {},
   "outputs": [
    {
     "name": "stdout",
     "output_type": "stream",
     "text": [
      "sec_lan_proficiency\n",
      "aoa\n",
      "age\n",
      "sex\n",
      "scanner\n"
     ]
    }
   ],
   "source": [
    "# BRAIN MAKE MODELS \n",
    "# plt.figure(figsize=(15,15))\n",
    "# default_keys = ['sec_lan_proficiency','sec_lan_exposure', 'aoa', 'aoa_group',  'age','sex', 'scanner']\n",
    "default_keys = ['sec_lan_proficiency', 'aoa', 'age',  'sex', 'scanner']\n",
    "# default_keys = ['sec_lan_proficiency','aoa', 'aoa_group', 'age',  'sex']\n",
    "scales_ = ['ratio','ratio', 'ratio','ordinal', 'ordinal']\n",
    "\n",
    "\n",
    "# default_keys = ['age', 'sex', 'scanner']\n",
    "\n",
    "# scales_ = ['ratio', 'ordinal','ordinal']\n",
    "# scales_ = ['ratio','ratio','ratio', 'ordinal','ratio','ordinal','ordinal']\n",
    "# scales_ = ['ratio', 'ratio','ratio', 'ordinal','ordinal']\n",
    "\n",
    "\n",
    "\n",
    "model_rdms = dict()\n",
    "model_idxs = dict()\n",
    "for i in range(len(default_keys)):\n",
    "    print(default_keys[i])\n",
    "    inVec = df_sort[default_keys[i]].values[patients]\n",
    "    idx_all = df_sort['index'].values[patients]\n",
    "#     inVec = df_sort[default_keys[i]].to_numpy() \n",
    "#     idx_all = df_sort['index'].to_numpy() \n",
    "    idx = idx_all[~pd.isna(inVec)]\n",
    "    inVec = inVec[~pd.isna(inVec)]\n",
    "    this_rdm = make_RDM(inVec, data_scale=scales_[i])\n",
    "#     print(len(idx))\n",
    "    model_rdms.update({default_keys[i] : this_rdm})\n",
    "    model_idxs.update({default_keys[i] : idx})"
   ]
  },
  {
   "cell_type": "code",
   "execution_count": 22,
   "metadata": {},
   "outputs": [
    {
     "data": {
      "text/plain": [
       "(215, 215)"
      ]
     },
     "execution_count": 22,
     "metadata": {},
     "output_type": "execute_result"
    }
   ],
   "source": [
    "model_rdms['sec_lan_proficiency'].shape"
   ]
  },
  {
   "cell_type": "code",
   "execution_count": 23,
   "metadata": {},
   "outputs": [],
   "source": [
    "def slice_cmat(data,idx):\n",
    "#     mat = data[patients,:][:,patients]\n",
    "    mat = data[idx,:][:,idx]\n",
    "    return mat"
   ]
  },
  {
   "cell_type": "code",
   "execution_count": 24,
   "metadata": {},
   "outputs": [],
   "source": [
    "def fit_rsa(data,key):\n",
    "    corr = scipy.stats.stats.kendalltau\n",
    "    r = np.array([corr(get_triu(slice_cmat(data[i,:,:],model_idxs[key])),get_triu(model_rdms[key]))[0] for i in range(10)])\n",
    "    r = np.arctan(r)\n",
    "    return r"
   ]
  },
  {
   "cell_type": "code",
   "execution_count": 25,
   "metadata": {},
   "outputs": [
    {
     "name": "stdout",
     "output_type": "stream",
     "text": [
      "sec_lan_proficiency\n",
      "aoa\n",
      "age\n",
      "sex\n",
      "scanner\n"
     ]
    }
   ],
   "source": [
    "data = [cmat_vae_vec_BRAIN, cmat_background_vec_BRAIN, cmat_salient_vec_BRAIN]\n",
    "\n",
    "rsa_results = dict()\n",
    "for key in default_keys:\n",
    "    print(key)\n",
    "    res = np.array([fit_rsa(datum,key) for datum in data]).transpose()\n",
    "    rsa_results.update({key : res})"
   ]
  },
  {
   "cell_type": "code",
   "execution_count": 26,
   "metadata": {},
   "outputs": [
    {
     "name": "stdout",
     "output_type": "stream",
     "text": [
      "[0.         7.98692797 8.86130251 ... 7.93652664 8.40112364 9.03125699]\n",
      "[0.         3.05261291 4.63280962 ... 5.89747982 4.67408958 5.3922337 ]\n",
      "[0.         3.44248258 4.02458407 ... 5.80601999 4.0822383  6.31395864]\n"
     ]
    }
   ],
   "source": [
    "for datum in data:\n",
    "    print(datum[0][0])"
   ]
  },
  {
   "cell_type": "code",
   "execution_count": 27,
   "metadata": {},
   "outputs": [],
   "source": [
    "# corr = scipy.stats.stats.kendalltau\n",
    "# corr(df_sort['aoa'], df_sort['aoa_group'], nan_policy='omit')"
   ]
  },
  {
   "cell_type": "code",
   "execution_count": 28,
   "metadata": {},
   "outputs": [
    {
     "data": {
      "image/png": "[encoded data removed]",
      "text/plain": [
       "<Figure size 720x720 with 4 Axes>"
      ]
     },
     "metadata": {
      "needs_background": "light"
     },
     "output_type": "display_data"
    }
   ],
   "source": [
    "# keys = ['sec_lan_proficiency', 'sec_lan_exposure', 'aoa','aoa_group', 'age','sex','scanner']\n",
    "# titles = ['sec_lan_proficiency', 'sec_lan_exposure', 'aoa','aoa_group', 'age','sex','dataset']\n",
    "\n",
    "# keys = ['age','sex', 'scanner']\n",
    "# titles = ['age','sex', 'scanner']\n",
    "\n",
    "keys = ['sec_lan_proficiency','aoa', 'age','sex']\n",
    "titles = ['sec_lan_proficiency','aoa',  'age','sex']\n",
    "\n",
    "\n",
    "ncols = 2\n",
    "nrows = int(np.ceil(len(keys)/2))\n",
    "\n",
    "plt.figure(figsize=np.array((ncols,nrows))*5)\n",
    "\n",
    "for i,key in enumerate(keys):\n",
    "    ax = plt.subplot(nrows,ncols,i+1)\n",
    "    plot_nice_bar(key,rsa_results,\n",
    "                  ax=ax,figsize=None,\n",
    "                  dpi=300,fontsize=12,\n",
    "                  fontsize_star=12,\n",
    "                  fontweight='bold',\n",
    "                  line_width=2.5,\n",
    "                  marker_size=12,title=titles[i])\n",
    "    \n",
    "plt.subplots_adjust(\n",
    "    left=None,\n",
    "    bottom=None,\n",
    "    right=None,\n",
    "    top=None,\n",
    "    wspace=.5,\n",
    "    hspace=.5)\n",
    "\n",
    "plt.suptitle('BRAIN RSA RESULTS',fontsize=20,y=.95);"
   ]
  },
  {
   "cell_type": "code",
   "execution_count": null,
   "metadata": {},
   "outputs": [],
   "source": [
    "rsa_results['sec_lan_proficiency'][:,2].mean()"
   ]
  },
  {
   "cell_type": "code",
   "execution_count": null,
   "metadata": {},
   "outputs": [],
   "source": [
    "from scipy.stats import ttest_1samp\n",
    "ttest_1samp(rsa_results['sec_lan_proficiency'][:,2],0)"
   ]
  },
  {
   "cell_type": "code",
   "execution_count": null,
   "metadata": {},
   "outputs": [],
   "source": [
    "cmat_vae_vec_BRAIN.shape"
   ]
  },
  {
   "cell_type": "code",
   "execution_count": null,
   "metadata": {},
   "outputs": [],
   "source": [
    "default_keys"
   ]
  },
  {
   "cell_type": "code",
   "execution_count": 91,
   "metadata": {},
   "outputs": [],
   "source": [
    "#only 10 samples, more samples we use, more sensitive -- 10 is the optimal \n",
    "# https://www.jstor.org/stable/24700283"
   ]
  },
  {
   "cell_type": "markdown",
   "metadata": {},
   "source": [
    "## analysis"
   ]
  },
  {
   "cell_type": "code",
   "execution_count": 18,
   "metadata": {},
   "outputs": [
    {
     "data": {
      "text/html": [
       "<div>\n",
       "<style scoped>\n",
       "    .dataframe tbody tr th:only-of-type {\n",
       "        vertical-align: middle;\n",
       "    }\n",
       "\n",
       "    .dataframe tbody tr th {\n",
       "        vertical-align: top;\n",
       "    }\n",
       "\n",
       "    .dataframe thead th {\n",
       "        text-align: right;\n",
       "    }\n",
       "</style>\n",
       "<table border=\"1\" class=\"dataframe\">\n",
       "  <thead>\n",
       "    <tr style=\"text-align: right;\">\n",
       "      <th></th>\n",
       "      <th>participant_id</th>\n",
       "      <th>bilingualism</th>\n",
       "      <th>age</th>\n",
       "      <th>sex</th>\n",
       "      <th>aoa_group</th>\n",
       "      <th>num_lan</th>\n",
       "      <th>sec_lan_proficiency</th>\n",
       "      <th>ds</th>\n",
       "      <th>scanner</th>\n",
       "      <th>aoa</th>\n",
       "      <th>sec_lan_exposure</th>\n",
       "      <th>ds_par_id</th>\n",
       "      <th>index</th>\n",
       "    </tr>\n",
       "  </thead>\n",
       "  <tbody>\n",
       "    <tr>\n",
       "      <th>0</th>\n",
       "      <td>WL_052.mgz</td>\n",
       "      <td>0.0</td>\n",
       "      <td>24.000000</td>\n",
       "      <td>F</td>\n",
       "      <td>NaN</td>\n",
       "      <td>NaN</td>\n",
       "      <td>NaN</td>\n",
       "      <td>Hernandez</td>\n",
       "      <td>Hernandez</td>\n",
       "      <td>NaN</td>\n",
       "      <td>NaN</td>\n",
       "      <td>Hernandez_WL_052.mgz</td>\n",
       "      <td>0</td>\n",
       "    </tr>\n",
       "    <tr>\n",
       "      <th>1</th>\n",
       "      <td>271ES.mgz</td>\n",
       "      <td>1.0</td>\n",
       "      <td>20.000000</td>\n",
       "      <td>M</td>\n",
       "      <td>EB</td>\n",
       "      <td>NaN</td>\n",
       "      <td>0.650000</td>\n",
       "      <td>Hernandez</td>\n",
       "      <td>Hernandez</td>\n",
       "      <td>5.0</td>\n",
       "      <td>NaN</td>\n",
       "      <td>Hernandez_271ES.mgz</td>\n",
       "      <td>1</td>\n",
       "    </tr>\n",
       "    <tr>\n",
       "      <th>2</th>\n",
       "      <td>PI_028.mgz</td>\n",
       "      <td>1.0</td>\n",
       "      <td>22.000000</td>\n",
       "      <td>F</td>\n",
       "      <td>LB</td>\n",
       "      <td>NaN</td>\n",
       "      <td>0.746276</td>\n",
       "      <td>Hernandez</td>\n",
       "      <td>Hernandez</td>\n",
       "      <td>8.0</td>\n",
       "      <td>NaN</td>\n",
       "      <td>Hernandez_PI_028.mgz</td>\n",
       "      <td>2</td>\n",
       "    </tr>\n",
       "    <tr>\n",
       "      <th>3</th>\n",
       "      <td>71_E.mgz</td>\n",
       "      <td>1.0</td>\n",
       "      <td>22.000000</td>\n",
       "      <td>F</td>\n",
       "      <td>EB</td>\n",
       "      <td>NaN</td>\n",
       "      <td>0.500000</td>\n",
       "      <td>Hernandez</td>\n",
       "      <td>Hernandez</td>\n",
       "      <td>4.0</td>\n",
       "      <td>NaN</td>\n",
       "      <td>Hernandez_71_E.mgz</td>\n",
       "      <td>3</td>\n",
       "    </tr>\n",
       "    <tr>\n",
       "      <th>4</th>\n",
       "      <td>WL_002.mgz</td>\n",
       "      <td>0.0</td>\n",
       "      <td>20.000000</td>\n",
       "      <td>F</td>\n",
       "      <td>NaN</td>\n",
       "      <td>NaN</td>\n",
       "      <td>NaN</td>\n",
       "      <td>Hernandez</td>\n",
       "      <td>Hernandez</td>\n",
       "      <td>NaN</td>\n",
       "      <td>NaN</td>\n",
       "      <td>Hernandez_WL_002.mgz</td>\n",
       "      <td>4</td>\n",
       "    </tr>\n",
       "    <tr>\n",
       "      <th>...</th>\n",
       "      <td>...</td>\n",
       "      <td>...</td>\n",
       "      <td>...</td>\n",
       "      <td>...</td>\n",
       "      <td>...</td>\n",
       "      <td>...</td>\n",
       "      <td>...</td>\n",
       "      <td>...</td>\n",
       "      <td>...</td>\n",
       "      <td>...</td>\n",
       "      <td>...</td>\n",
       "      <td>...</td>\n",
       "      <td>...</td>\n",
       "    </tr>\n",
       "    <tr>\n",
       "      <th>1650</th>\n",
       "      <td>HCD2055237_V1_MR</td>\n",
       "      <td>1.0</td>\n",
       "      <td>8.916667</td>\n",
       "      <td>F</td>\n",
       "      <td>EB</td>\n",
       "      <td>2.0</td>\n",
       "      <td>0.733333</td>\n",
       "      <td>HCPdev</td>\n",
       "      <td>Siemens Prisma dev</td>\n",
       "      <td>5.0</td>\n",
       "      <td>30.0</td>\n",
       "      <td>HCPdev_HCD2055237_V1_MR</td>\n",
       "      <td>1650</td>\n",
       "    </tr>\n",
       "    <tr>\n",
       "      <th>1651</th>\n",
       "      <td>HCD0232223_V1_MR</td>\n",
       "      <td>0.0</td>\n",
       "      <td>13.750000</td>\n",
       "      <td>F</td>\n",
       "      <td>NaN</td>\n",
       "      <td>1.0</td>\n",
       "      <td>NaN</td>\n",
       "      <td>HCPdev</td>\n",
       "      <td>Siemens Prisma dev</td>\n",
       "      <td>NaN</td>\n",
       "      <td>NaN</td>\n",
       "      <td>HCPdev_HCD0232223_V1_MR</td>\n",
       "      <td>1651</td>\n",
       "    </tr>\n",
       "    <tr>\n",
       "      <th>1652</th>\n",
       "      <td>HCD0392649_V1_MR</td>\n",
       "      <td>1.0</td>\n",
       "      <td>16.750000</td>\n",
       "      <td>M</td>\n",
       "      <td>EB</td>\n",
       "      <td>2.0</td>\n",
       "      <td>1.000000</td>\n",
       "      <td>HCPdev</td>\n",
       "      <td>Siemens Prisma dev</td>\n",
       "      <td>2.0</td>\n",
       "      <td>60.0</td>\n",
       "      <td>HCPdev_HCD0392649_V1_MR</td>\n",
       "      <td>1652</td>\n",
       "    </tr>\n",
       "    <tr>\n",
       "      <th>1653</th>\n",
       "      <td>HCD0197348_V1_MR</td>\n",
       "      <td>0.0</td>\n",
       "      <td>11.666667</td>\n",
       "      <td>M</td>\n",
       "      <td>NaN</td>\n",
       "      <td>1.0</td>\n",
       "      <td>NaN</td>\n",
       "      <td>HCPdev</td>\n",
       "      <td>Siemens Prisma dev</td>\n",
       "      <td>NaN</td>\n",
       "      <td>NaN</td>\n",
       "      <td>HCPdev_HCD0197348_V1_MR</td>\n",
       "      <td>1653</td>\n",
       "    </tr>\n",
       "    <tr>\n",
       "      <th>1654</th>\n",
       "      <td>HCD1756262_V1_MR</td>\n",
       "      <td>1.0</td>\n",
       "      <td>19.416667</td>\n",
       "      <td>M</td>\n",
       "      <td>EB</td>\n",
       "      <td>2.0</td>\n",
       "      <td>0.900000</td>\n",
       "      <td>HCPdev</td>\n",
       "      <td>Siemens Prisma dev</td>\n",
       "      <td>2.0</td>\n",
       "      <td>10.0</td>\n",
       "      <td>HCPdev_HCD1756262_V1_MR</td>\n",
       "      <td>1654</td>\n",
       "    </tr>\n",
       "  </tbody>\n",
       "</table>\n",
       "<p>1655 rows × 13 columns</p>\n",
       "</div>"
      ],
      "text/plain": [
       "        participant_id  bilingualism        age sex aoa_group  num_lan  \\\n",
       "0           WL_052.mgz           0.0  24.000000   F       NaN      NaN   \n",
       "1            271ES.mgz           1.0  20.000000   M        EB      NaN   \n",
       "2           PI_028.mgz           1.0  22.000000   F        LB      NaN   \n",
       "3             71_E.mgz           1.0  22.000000   F        EB      NaN   \n",
       "4           WL_002.mgz           0.0  20.000000   F       NaN      NaN   \n",
       "...                ...           ...        ...  ..       ...      ...   \n",
       "1650  HCD2055237_V1_MR           1.0   8.916667   F        EB      2.0   \n",
       "1651  HCD0232223_V1_MR           0.0  13.750000   F       NaN      1.0   \n",
       "1652  HCD0392649_V1_MR           1.0  16.750000   M        EB      2.0   \n",
       "1653  HCD0197348_V1_MR           0.0  11.666667   M       NaN      1.0   \n",
       "1654  HCD1756262_V1_MR           1.0  19.416667   M        EB      2.0   \n",
       "\n",
       "      sec_lan_proficiency         ds             scanner  aoa  \\\n",
       "0                     NaN  Hernandez           Hernandez  NaN   \n",
       "1                0.650000  Hernandez           Hernandez  5.0   \n",
       "2                0.746276  Hernandez           Hernandez  8.0   \n",
       "3                0.500000  Hernandez           Hernandez  4.0   \n",
       "4                     NaN  Hernandez           Hernandez  NaN   \n",
       "...                   ...        ...                 ...  ...   \n",
       "1650             0.733333     HCPdev  Siemens Prisma dev  5.0   \n",
       "1651                  NaN     HCPdev  Siemens Prisma dev  NaN   \n",
       "1652             1.000000     HCPdev  Siemens Prisma dev  2.0   \n",
       "1653                  NaN     HCPdev  Siemens Prisma dev  NaN   \n",
       "1654             0.900000     HCPdev  Siemens Prisma dev  2.0   \n",
       "\n",
       "      sec_lan_exposure                ds_par_id  index  \n",
       "0                  NaN     Hernandez_WL_052.mgz      0  \n",
       "1                  NaN      Hernandez_271ES.mgz      1  \n",
       "2                  NaN     Hernandez_PI_028.mgz      2  \n",
       "3                  NaN       Hernandez_71_E.mgz      3  \n",
       "4                  NaN     Hernandez_WL_002.mgz      4  \n",
       "...                ...                      ...    ...  \n",
       "1650              30.0  HCPdev_HCD2055237_V1_MR   1650  \n",
       "1651               NaN  HCPdev_HCD0232223_V1_MR   1651  \n",
       "1652              60.0  HCPdev_HCD0392649_V1_MR   1652  \n",
       "1653               NaN  HCPdev_HCD0197348_V1_MR   1653  \n",
       "1654              10.0  HCPdev_HCD1756262_V1_MR   1654  \n",
       "\n",
       "[1655 rows x 13 columns]"
      ]
     },
     "execution_count": 18,
     "metadata": {},
     "output_type": "execute_result"
    }
   ],
   "source": [
    "df_sort"
   ]
  },
  {
   "cell_type": "code",
   "execution_count": 19,
   "metadata": {},
   "outputs": [
    {
     "data": {
      "text/plain": [
       "0.0    1050\n",
       "1.0     605\n",
       "Name: bilingualism, dtype: int64"
      ]
     },
     "execution_count": 19,
     "metadata": {},
     "output_type": "execute_result"
    }
   ],
   "source": [
    "df_sort.bilingualism.value_counts()"
   ]
  },
  {
   "cell_type": "code",
   "execution_count": 46,
   "metadata": {},
   "outputs": [
    {
     "data": {
      "text/plain": [
       "0.0    386\n",
       "1.0    185\n",
       "Name: bilingualism, dtype: int64"
      ]
     },
     "execution_count": 46,
     "metadata": {},
     "output_type": "execute_result"
    }
   ],
   "source": [
    "df_sort[df_sort['scanner'] == 'Siemens Prisma dev'].bilingualism.value_counts()"
   ]
  },
  {
   "cell_type": "code",
   "execution_count": 43,
   "metadata": {},
   "outputs": [
    {
     "data": {
      "text/html": [
       "<div>\n",
       "<style scoped>\n",
       "    .dataframe tbody tr th:only-of-type {\n",
       "        vertical-align: middle;\n",
       "    }\n",
       "\n",
       "    .dataframe tbody tr th {\n",
       "        vertical-align: top;\n",
       "    }\n",
       "\n",
       "    .dataframe thead th {\n",
       "        text-align: right;\n",
       "    }\n",
       "</style>\n",
       "<table border=\"1\" class=\"dataframe\">\n",
       "  <thead>\n",
       "    <tr style=\"text-align: right;\">\n",
       "      <th></th>\n",
       "      <th>age</th>\n",
       "    </tr>\n",
       "    <tr>\n",
       "      <th>scanner</th>\n",
       "      <th></th>\n",
       "    </tr>\n",
       "  </thead>\n",
       "  <tbody>\n",
       "    <tr>\n",
       "      <th>Hernandez</th>\n",
       "      <td>4.717554</td>\n",
       "    </tr>\n",
       "    <tr>\n",
       "      <th>Siemens Prisma</th>\n",
       "      <td>15.735863</td>\n",
       "    </tr>\n",
       "    <tr>\n",
       "      <th>Siemens Prisma dev</th>\n",
       "      <td>4.049006</td>\n",
       "    </tr>\n",
       "  </tbody>\n",
       "</table>\n",
       "</div>"
      ],
      "text/plain": [
       "                          age\n",
       "scanner                      \n",
       "Hernandez            4.717554\n",
       "Siemens Prisma      15.735863\n",
       "Siemens Prisma dev   4.049006"
      ]
     },
     "execution_count": 43,
     "metadata": {},
     "output_type": "execute_result"
    }
   ],
   "source": [
    "df_sort[['scanner', 'age']].groupby(['scanner']).std()"
   ]
  },
  {
   "cell_type": "code",
   "execution_count": 37,
   "metadata": {},
   "outputs": [
    {
     "data": {
      "text/plain": [
       "age    24.023504\n",
       "dtype: float64"
      ]
     },
     "execution_count": 37,
     "metadata": {},
     "output_type": "execute_result"
    }
   ],
   "source": [
    "df_sort[['age']].std()"
   ]
  },
  {
   "cell_type": "markdown",
   "metadata": {},
   "source": [
    "### How does scanner correlate with age, sex, num_lan, and aoa?"
   ]
  },
  {
   "cell_type": "code",
   "execution_count": 23,
   "metadata": {},
   "outputs": [
    {
     "data": {
      "image/png": "[encoded data removed]",
      "text/plain": [
       "<Figure size 432x288 with 1 Axes>"
      ]
     },
     "metadata": {
      "needs_background": "light"
     },
     "output_type": "display_data"
    }
   ],
   "source": [
    "import matplotlib.pyplot as plt\n",
    "import seaborn as sns\n",
    "\n",
    "sns.violinplot(x=\"scanner\", y=\"age\", hue='bilingualism', data=df_sort)\n",
    "plt.xticks(rotation=45)\n",
    "# plt.bar(df_sort['scanner'], df_sort['age'])\n",
    "plt.show()"
   ]
  },
  {
   "cell_type": "code",
   "execution_count": 24,
   "metadata": {},
   "outputs": [
    {
     "data": {
      "image/png": "[encoded data removed]",
      "text/plain": [
       "<Figure size 432x288 with 1 Axes>"
      ]
     },
     "metadata": {
      "needs_background": "light"
     },
     "output_type": "display_data"
    }
   ],
   "source": [
    "sns.violinplot(x=\"scanner\", y=\"sec_lan_proficiency\", hue='bilingualism', data=df_sort)\n",
    "plt.xticks(rotation=45)\n",
    "# plt.bar(df_sort['scanner'], df_sort['age'])\n",
    "plt.show()"
   ]
  },
  {
   "cell_type": "code",
   "execution_count": 25,
   "metadata": {},
   "outputs": [
    {
     "data": {
      "image/png": "[encoded data removed]",
      "text/plain": [
       "<Figure size 432x288 with 1 Axes>"
      ]
     },
     "metadata": {
      "needs_background": "light"
     },
     "output_type": "display_data"
    }
   ],
   "source": [
    "sns.violinplot(x=\"scanner\", y=\"sec_lan_exposure\", hue='bilingualism', data=df_sort)\n",
    "plt.xticks(rotation=45)\n",
    "# plt.bar(df_sort['scanner'], df_sort['age'])\n",
    "plt.show()"
   ]
  },
  {
   "cell_type": "code",
   "execution_count": 26,
   "metadata": {},
   "outputs": [
    {
     "data": {
      "image/png": "[encoded data removed]",
      "text/plain": [
       "<Figure size 432x288 with 1 Axes>"
      ]
     },
     "metadata": {
      "needs_background": "light"
     },
     "output_type": "display_data"
    }
   ],
   "source": [
    "sns.violinplot(x=\"scanner\", y=\"aoa\", hue='bilingualism', data=df_sort)\n",
    "plt.xticks(rotation=45)\n",
    "# plt.bar(df_sort['scanner'], df_sort['age'])\n",
    "plt.show()"
   ]
  },
  {
   "cell_type": "code",
   "execution_count": 27,
   "metadata": {},
   "outputs": [
    {
     "data": {
      "image/png": "[encoded data removed]",
      "text/plain": [
       "<Figure size 432x288 with 1 Axes>"
      ]
     },
     "metadata": {
      "needs_background": "light"
     },
     "output_type": "display_data"
    }
   ],
   "source": [
    "sns.violinplot(x=\"scanner\", y=\"num_lan\", data=df_sort)\n",
    "plt.xticks(rotation=45)\n",
    "# plt.bar(df_sort['scanner'], df_sort['age'])\n",
    "plt.show()"
   ]
  },
  {
   "cell_type": "code",
   "execution_count": 28,
   "metadata": {},
   "outputs": [
    {
     "data": {
      "text/html": [
       "<div>\n",
       "<style scoped>\n",
       "    .dataframe tbody tr th:only-of-type {\n",
       "        vertical-align: middle;\n",
       "    }\n",
       "\n",
       "    .dataframe tbody tr th {\n",
       "        vertical-align: top;\n",
       "    }\n",
       "\n",
       "    .dataframe thead th {\n",
       "        text-align: right;\n",
       "    }\n",
       "</style>\n",
       "<table border=\"1\" class=\"dataframe\">\n",
       "  <thead>\n",
       "    <tr style=\"text-align: right;\">\n",
       "      <th>sex</th>\n",
       "      <th>F</th>\n",
       "      <th>M</th>\n",
       "    </tr>\n",
       "    <tr>\n",
       "      <th>scanner</th>\n",
       "      <th></th>\n",
       "      <th></th>\n",
       "    </tr>\n",
       "  </thead>\n",
       "  <tbody>\n",
       "    <tr>\n",
       "      <th>Hernandez</th>\n",
       "      <td>233</td>\n",
       "      <td>94</td>\n",
       "    </tr>\n",
       "    <tr>\n",
       "      <th>Siemens Prisma</th>\n",
       "      <td>406</td>\n",
       "      <td>318</td>\n",
       "    </tr>\n",
       "    <tr>\n",
       "      <th>Siemens Prisma dev</th>\n",
       "      <td>309</td>\n",
       "      <td>262</td>\n",
       "    </tr>\n",
       "  </tbody>\n",
       "</table>\n",
       "</div>"
      ],
      "text/plain": [
       "sex                   F    M\n",
       "scanner                     \n",
       "Hernandez           233   94\n",
       "Siemens Prisma      406  318\n",
       "Siemens Prisma dev  309  262"
      ]
     },
     "execution_count": 28,
     "metadata": {},
     "output_type": "execute_result"
    }
   ],
   "source": [
    "pd.crosstab(df_sort['scanner'], df_sort['sex'])"
   ]
  },
  {
   "cell_type": "code",
   "execution_count": 29,
   "metadata": {},
   "outputs": [
    {
     "data": {
      "text/html": [
       "<div>\n",
       "<style scoped>\n",
       "    .dataframe tbody tr th:only-of-type {\n",
       "        vertical-align: middle;\n",
       "    }\n",
       "\n",
       "    .dataframe tbody tr th {\n",
       "        vertical-align: top;\n",
       "    }\n",
       "\n",
       "    .dataframe thead th {\n",
       "        text-align: right;\n",
       "    }\n",
       "</style>\n",
       "<table border=\"1\" class=\"dataframe\">\n",
       "  <thead>\n",
       "    <tr style=\"text-align: right;\">\n",
       "      <th>aoa_group</th>\n",
       "      <th>EB</th>\n",
       "      <th>LB</th>\n",
       "    </tr>\n",
       "    <tr>\n",
       "      <th>scanner</th>\n",
       "      <th></th>\n",
       "      <th></th>\n",
       "    </tr>\n",
       "  </thead>\n",
       "  <tbody>\n",
       "    <tr>\n",
       "      <th>Hernandez</th>\n",
       "      <td>134</td>\n",
       "      <td>81</td>\n",
       "    </tr>\n",
       "    <tr>\n",
       "      <th>Siemens Prisma</th>\n",
       "      <td>126</td>\n",
       "      <td>75</td>\n",
       "    </tr>\n",
       "    <tr>\n",
       "      <th>Siemens Prisma dev</th>\n",
       "      <td>173</td>\n",
       "      <td>12</td>\n",
       "    </tr>\n",
       "  </tbody>\n",
       "</table>\n",
       "</div>"
      ],
      "text/plain": [
       "aoa_group            EB  LB\n",
       "scanner                    \n",
       "Hernandez           134  81\n",
       "Siemens Prisma      126  75\n",
       "Siemens Prisma dev  173  12"
      ]
     },
     "execution_count": 29,
     "metadata": {},
     "output_type": "execute_result"
    }
   ],
   "source": [
    "pd.crosstab(df_sort['scanner'], df_sort['aoa_group'])"
   ]
  },
  {
   "cell_type": "markdown",
   "metadata": {},
   "source": [
    "### aoa and aoa_group"
   ]
  },
  {
   "cell_type": "code",
   "execution_count": 30,
   "metadata": {},
   "outputs": [
    {
     "ename": "NameError",
     "evalue": "name 'model_rdms' is not defined",
     "output_type": "error",
     "traceback": [
      "\u001b[0;31m---------------------------------------------------------------------------\u001b[0m",
      "\u001b[0;31mNameError\u001b[0m                                 Traceback (most recent call last)",
      "\u001b[0;32m<ipython-input-30-c638545b20cd>\u001b[0m in \u001b[0;36m<module>\u001b[0;34m\u001b[0m\n\u001b[0;32m----> 1\u001b[0;31m \u001b[0maoa_rdm\u001b[0m \u001b[0;34m=\u001b[0m \u001b[0mmodel_rdms\u001b[0m\u001b[0;34m[\u001b[0m\u001b[0;34m'aoa'\u001b[0m\u001b[0;34m]\u001b[0m\u001b[0;34m\u001b[0m\u001b[0;34m\u001b[0m\u001b[0m\n\u001b[0m\u001b[1;32m      2\u001b[0m \u001b[0maoagroup_rdm\u001b[0m \u001b[0;34m=\u001b[0m \u001b[0mmodel_rdms\u001b[0m\u001b[0;34m[\u001b[0m\u001b[0;34m'aoa_group'\u001b[0m\u001b[0;34m]\u001b[0m\u001b[0;34m\u001b[0m\u001b[0;34m\u001b[0m\u001b[0m\n",
      "\u001b[0;31mNameError\u001b[0m: name 'model_rdms' is not defined"
     ]
    }
   ],
   "source": [
    "aoa_rdm = model_rdms['aoa']\n",
    "aoagroup_rdm = model_rdms['aoa_group']"
   ]
  },
  {
   "cell_type": "code",
   "execution_count": 31,
   "metadata": {},
   "outputs": [
    {
     "ename": "NameError",
     "evalue": "name 'model_idxs' is not defined",
     "output_type": "error",
     "traceback": [
      "\u001b[0;31m---------------------------------------------------------------------------\u001b[0m",
      "\u001b[0;31mNameError\u001b[0m                                 Traceback (most recent call last)",
      "\u001b[0;32m<ipython-input-31-4ea3ae0a0a2d>\u001b[0m in \u001b[0;36m<module>\u001b[0;34m\u001b[0m\n\u001b[0;32m----> 1\u001b[0;31m \u001b[0mcommon_idx\u001b[0m \u001b[0;34m=\u001b[0m \u001b[0mnp\u001b[0m\u001b[0;34m.\u001b[0m\u001b[0mintersect1d\u001b[0m\u001b[0;34m(\u001b[0m\u001b[0mmodel_idxs\u001b[0m\u001b[0;34m[\u001b[0m\u001b[0;34m'aoa'\u001b[0m\u001b[0;34m]\u001b[0m\u001b[0;34m,\u001b[0m \u001b[0mmodel_idxs\u001b[0m\u001b[0;34m[\u001b[0m\u001b[0;34m'aoa_group'\u001b[0m\u001b[0;34m]\u001b[0m\u001b[0;34m)\u001b[0m\u001b[0;34m\u001b[0m\u001b[0;34m\u001b[0m\u001b[0m\n\u001b[0m",
      "\u001b[0;31mNameError\u001b[0m: name 'model_idxs' is not defined"
     ]
    }
   ],
   "source": [
    "common_idx = np.intersect1d(model_idxs['aoa'], model_idxs['aoa_group'])"
   ]
  },
  {
   "cell_type": "code",
   "execution_count": 38,
   "metadata": {},
   "outputs": [],
   "source": [
    "indexes = np.where(np.in1d(model_idxs['aoa_group'], common_idx))[0]"
   ]
  },
  {
   "cell_type": "code",
   "execution_count": 39,
   "metadata": {},
   "outputs": [
    {
     "data": {
      "text/plain": [
       "KendalltauResult(correlation=0.5408876585791225, pvalue=0.0)"
      ]
     },
     "execution_count": 39,
     "metadata": {},
     "output_type": "execute_result"
    }
   ],
   "source": [
    "corr = scipy.stats.stats.kendalltau\n",
    "corr(get_triu(model_rdms['aoa']),get_triu(slice_cmat(model_rdms['aoa_group'], indexes))) "
   ]
  },
  {
   "cell_type": "markdown",
   "metadata": {},
   "source": [
    "### all the predictors correlation"
   ]
  },
  {
   "cell_type": "code",
   "execution_count": 73,
   "metadata": {},
   "outputs": [],
   "source": [
    "pred = df_sort[['sec_lan_proficiency','sec_lan_exposure','aoa','num_lan','age']]"
   ]
  },
  {
   "cell_type": "code",
   "execution_count": 74,
   "metadata": {},
   "outputs": [
    {
     "name": "stderr",
     "output_type": "stream",
     "text": [
      "<ipython-input-74-4f3cd44fb178>:1: SettingWithCopyWarning: \n",
      "A value is trying to be set on a copy of a slice from a DataFrame.\n",
      "Try using .loc[row_indexer,col_indexer] = value instead\n",
      "\n",
      "See the caveats in the documentation: https://pandas.pydata.org/pandas-docs/stable/user_guide/indexing.html#returning-a-view-versus-a-copy\n",
      "  pred['aoa_group'] = df_sort['aoa_group'].astype('category').cat.codes\n",
      "<ipython-input-74-4f3cd44fb178>:2: SettingWithCopyWarning: \n",
      "A value is trying to be set on a copy of a slice from a DataFrame.\n",
      "Try using .loc[row_indexer,col_indexer] = value instead\n",
      "\n",
      "See the caveats in the documentation: https://pandas.pydata.org/pandas-docs/stable/user_guide/indexing.html#returning-a-view-versus-a-copy\n",
      "  pred['sex'] = df_sort['sex'].astype('category').cat.codes\n"
     ]
    }
   ],
   "source": [
    "pred['aoa_group'] = df_sort['aoa_group'].astype('category').cat.codes\n",
    "pred['sex'] = df_sort['sex'].astype('category').cat.codes"
   ]
  },
  {
   "cell_type": "code",
   "execution_count": 75,
   "metadata": {},
   "outputs": [],
   "source": [
    "pred_matrix = pred.corr()"
   ]
  },
  {
   "cell_type": "code",
   "execution_count": 76,
   "metadata": {},
   "outputs": [
    {
     "data": {
      "text/plain": [
       "<matplotlib.axes._subplots.AxesSubplot at 0x15549a5d7b80>"
      ]
     },
     "execution_count": 76,
     "metadata": {},
     "output_type": "execute_result"
    },
    {
     "data": {
      "image/png": "[encoded data removed]",
      "text/plain": [
       "<Figure size 432x288 with 2 Axes>"
      ]
     },
     "metadata": {
      "needs_background": "light"
     },
     "output_type": "display_data"
    }
   ],
   "source": [
    "sns.heatmap(pred_matrix, annot=True)"
   ]
  },
  {
   "cell_type": "code",
   "execution_count": 77,
   "metadata": {},
   "outputs": [
    {
     "data": {
      "text/html": [
       "<div>\n",
       "<style scoped>\n",
       "    .dataframe tbody tr th:only-of-type {\n",
       "        vertical-align: middle;\n",
       "    }\n",
       "\n",
       "    .dataframe tbody tr th {\n",
       "        vertical-align: top;\n",
       "    }\n",
       "\n",
       "    .dataframe thead th {\n",
       "        text-align: right;\n",
       "    }\n",
       "</style>\n",
       "<table border=\"1\" class=\"dataframe\">\n",
       "  <thead>\n",
       "    <tr style=\"text-align: right;\">\n",
       "      <th></th>\n",
       "      <th>sec_lan_proficiency</th>\n",
       "      <th>sec_lan_exposure</th>\n",
       "      <th>aoa</th>\n",
       "      <th>num_lan</th>\n",
       "      <th>age</th>\n",
       "      <th>aoa_group</th>\n",
       "      <th>sex</th>\n",
       "    </tr>\n",
       "  </thead>\n",
       "  <tbody>\n",
       "    <tr>\n",
       "      <th>sec_lan_proficiency</th>\n",
       "      <td>1.0***</td>\n",
       "      <td>0.39***</td>\n",
       "      <td>0.04</td>\n",
       "      <td>0.29*</td>\n",
       "      <td>0.07</td>\n",
       "      <td>-0.03</td>\n",
       "      <td>0.02</td>\n",
       "    </tr>\n",
       "    <tr>\n",
       "      <th>sec_lan_exposure</th>\n",
       "      <td>0.39***</td>\n",
       "      <td>1.0***</td>\n",
       "      <td>-0.01</td>\n",
       "      <td>nan</td>\n",
       "      <td>0.0</td>\n",
       "      <td>-0.04</td>\n",
       "      <td>-0.03</td>\n",
       "    </tr>\n",
       "    <tr>\n",
       "      <th>aoa</th>\n",
       "      <td>0.04</td>\n",
       "      <td>-0.01</td>\n",
       "      <td>1.0***</td>\n",
       "      <td>nan</td>\n",
       "      <td>0.17***</td>\n",
       "      <td>0.24***</td>\n",
       "      <td>0.01</td>\n",
       "    </tr>\n",
       "    <tr>\n",
       "      <th>num_lan</th>\n",
       "      <td>0.29*</td>\n",
       "      <td>nan</td>\n",
       "      <td>nan</td>\n",
       "      <td>1.0***</td>\n",
       "      <td>0.13</td>\n",
       "      <td>0.13</td>\n",
       "      <td>0.02</td>\n",
       "    </tr>\n",
       "    <tr>\n",
       "      <th>age</th>\n",
       "      <td>0.07</td>\n",
       "      <td>0.0</td>\n",
       "      <td>0.17***</td>\n",
       "      <td>0.13</td>\n",
       "      <td>1.0***</td>\n",
       "      <td>0.15***</td>\n",
       "      <td>-0.04</td>\n",
       "    </tr>\n",
       "    <tr>\n",
       "      <th>aoa_group</th>\n",
       "      <td>-0.03</td>\n",
       "      <td>-0.04</td>\n",
       "      <td>0.24***</td>\n",
       "      <td>0.13</td>\n",
       "      <td>0.15***</td>\n",
       "      <td>1.0***</td>\n",
       "      <td>-0.01</td>\n",
       "    </tr>\n",
       "    <tr>\n",
       "      <th>sex</th>\n",
       "      <td>0.02</td>\n",
       "      <td>-0.03</td>\n",
       "      <td>0.01</td>\n",
       "      <td>0.02</td>\n",
       "      <td>-0.04</td>\n",
       "      <td>-0.01</td>\n",
       "      <td>1.0***</td>\n",
       "    </tr>\n",
       "  </tbody>\n",
       "</table>\n",
       "</div>"
      ],
      "text/plain": [
       "                    sec_lan_proficiency sec_lan_exposure      aoa num_lan  \\\n",
       "sec_lan_proficiency              1.0***          0.39***     0.04   0.29*   \n",
       "sec_lan_exposure                0.39***           1.0***    -0.01     nan   \n",
       "aoa                                0.04            -0.01   1.0***     nan   \n",
       "num_lan                           0.29*              nan      nan  1.0***   \n",
       "age                                0.07              0.0  0.17***    0.13   \n",
       "aoa_group                         -0.03            -0.04  0.24***    0.13   \n",
       "sex                                0.02            -0.03     0.01    0.02   \n",
       "\n",
       "                         age aoa_group     sex  \n",
       "sec_lan_proficiency     0.07     -0.03    0.02  \n",
       "sec_lan_exposure         0.0     -0.04   -0.03  \n",
       "aoa                  0.17***   0.24***    0.01  \n",
       "num_lan                 0.13      0.13    0.02  \n",
       "age                   1.0***   0.15***   -0.04  \n",
       "aoa_group            0.15***    1.0***   -0.01  \n",
       "sex                    -0.04     -0.01  1.0***  "
      ]
     },
     "execution_count": 77,
     "metadata": {},
     "output_type": "execute_result"
    }
   ],
   "source": [
    "from scipy.stats import pearsonr\n",
    "import numpy as np\n",
    "rho = pred.corr()\n",
    "pval = pred.corr(method=lambda x, y: pearsonr(x, y)[1]) - np.eye(*rho.shape)\n",
    "p = pval.applymap(lambda x: ''.join(['*' for t in [.05, .01, .001] if x<=t]))\n",
    "rho.round(2).astype(str) + p"
   ]
  },
  {
   "cell_type": "markdown",
   "metadata": {},
   "source": [
    "### PCA analysis"
   ]
  },
  {
   "cell_type": "code",
   "execution_count": 88,
   "metadata": {},
   "outputs": [],
   "source": [
    "len(pred.dropna(subset=['num_lan']))\n",
    "len(pred.dropna(subset=['sec_lan_exposure']))\n",
    "len(pred.dropna(subset=['aoa']))\n",
    "len(pred.dropna(subset=['sec_lan_proficiency']))\n",
    "\n",
    "pred_drop = pred[['sec_lan_proficiency', 'sec_lan_exposure', 'aoa', 'aoa_group', 'age']].dropna()"
   ]
  },
  {
   "cell_type": "code",
   "execution_count": 89,
   "metadata": {},
   "outputs": [],
   "source": [
    "from sklearn.decomposition import PCA\n",
    "pca = PCA()\n",
    "principalComponents = pca.fit_transform(pred_drop)"
   ]
  },
  {
   "cell_type": "code",
   "execution_count": 90,
   "metadata": {},
   "outputs": [
    {
     "data": {
      "text/plain": [
       "array([9.03554094e-01, 5.09028636e-02, 4.55264778e-02, 1.26835061e-05,\n",
       "       3.88081633e-06])"
      ]
     },
     "execution_count": 90,
     "metadata": {},
     "output_type": "execute_result"
    }
   ],
   "source": [
    "pca.explained_variance_ratio_"
   ]
  },
  {
   "cell_type": "code",
   "execution_count": 91,
   "metadata": {},
   "outputs": [
    {
     "data": {
      "image/png": "[encoded data removed]",
      "text/plain": [
       "<Figure size 432x288 with 1 Axes>"
      ]
     },
     "metadata": {
      "needs_background": "light"
     },
     "output_type": "display_data"
    }
   ],
   "source": [
    "plt.scatter(principalComponents[:, 0], principalComponents[:, 1])\n",
    "plt.xlabel('Principal Component 1')\n",
    "plt.ylabel('Principal Component 2')\n",
    "plt.show()"
   ]
  },
  {
   "cell_type": "code",
   "execution_count": 94,
   "metadata": {},
   "outputs": [
    {
     "name": "stdout",
     "output_type": "stream",
     "text": [
      "[pca] >Processing dataframe..\n",
      "[pca] >The PCA reduction is performed on the [5] columns of the input dataframe.\n",
      "[pca] >Fit using PCA.\n",
      "[pca] >Compute loadings and PCs.\n",
      "[pca] >Compute explained variance.\n",
      "[pca] >Outlier detection using Hotelling T2 test with alpha=[0.05] and n_components=[2]\n",
      "[pca] >Multiple test correction applied for Hotelling T2 test: [fdr_bh]\n",
      "[pca] >Outlier detection using SPE/DmodX with n_std=[3]\n"
     ]
    },
    {
     "data": {
      "image/png": "[encoded data removed]",
      "text/plain": [
       "<Figure size 1080x720 with 1 Axes>"
      ]
     },
     "metadata": {
      "needs_background": "light"
     },
     "output_type": "display_data"
    },
    {
     "data": {
      "text/plain": [
       "<Figure size 432x288 with 0 Axes>"
      ]
     },
     "metadata": {},
     "output_type": "display_data"
    }
   ],
   "source": [
    "from pca import pca\n",
    "\n",
    "# Or reduce the data towards 2 PCs\n",
    "model = pca(n_components=2)\n",
    "\n",
    "# Fit transform\n",
    "results = model.fit_transform(pred_drop)\n",
    "\n",
    "# Plot explained variance\n",
    "fig, ax = model.plot()"
   ]
  },
  {
   "cell_type": "code",
   "execution_count": 102,
   "metadata": {},
   "outputs": [
    {
     "name": "stderr",
     "output_type": "stream",
     "text": [
      "[pca] >Plotting: 90it [00:00, 894.98it/s]"
     ]
    },
    {
     "name": "stdout",
     "output_type": "stream",
     "text": [
      "[pca] >Plot PC1 vs PC2 with loadings.\n"
     ]
    },
    {
     "name": "stderr",
     "output_type": "stream",
     "text": [
      "                                          \r"
     ]
    },
    {
     "data": {
      "image/png": "[encoded data removed]",
      "text/plain": [
       "<Figure size 1080x720 with 1 Axes>"
      ]
     },
     "metadata": {
      "needs_background": "light"
     },
     "output_type": "display_data"
    }
   ],
   "source": [
    "# Make biplot with the number of features\n",
    "fig, ax = model.biplot(cmap=None, label=False, legend=False, n_feat=5)"
   ]
  },
  {
   "cell_type": "code",
   "execution_count": 103,
   "metadata": {},
   "outputs": [
    {
     "data": {
      "text/plain": [
       "<function matplotlib.pyplot.show(*args, **kw)>"
      ]
     },
     "execution_count": 103,
     "metadata": {},
     "output_type": "execute_result"
    },
    {
     "data": {
      "image/png": "[encoded data removed]",
      "text/plain": [
       "<Figure size 432x288 with 1 Axes>"
      ]
     },
     "metadata": {
      "needs_background": "light"
     },
     "output_type": "display_data"
    }
   ],
   "source": [
    "plt.hist(pred.aoa)\n",
    "plt.show"
   ]
  },
  {
   "cell_type": "code",
   "execution_count": 106,
   "metadata": {},
   "outputs": [],
   "source": [
    "pred_drop = pred_drop[pred_drop.aoa.values < 200]"
   ]
  },
  {
   "cell_type": "code",
   "execution_count": 107,
   "metadata": {},
   "outputs": [
    {
     "data": {
      "text/plain": [
       "<function matplotlib.pyplot.show(*args, **kw)>"
      ]
     },
     "execution_count": 107,
     "metadata": {},
     "output_type": "execute_result"
    },
    {
     "data": {
      "image/png": "[encoded data removed]",
      "text/plain": [
       "<Figure size 432x288 with 1 Axes>"
      ]
     },
     "metadata": {
      "needs_background": "light"
     },
     "output_type": "display_data"
    }
   ],
   "source": [
    "plt.hist(pred_drop.aoa)\n",
    "plt.show"
   ]
  },
  {
   "cell_type": "code",
   "execution_count": null,
   "metadata": {},
   "outputs": [],
   "source": []
  }
 ],
 "metadata": {
  "kernelspec": {
   "display_name": "Python 3",
   "language": "python",
   "name": "python3"
  },
  "language_info": {
   "codemirror_mode": {
    "name": "ipython",
    "version": 3
   },
   "file_extension": ".py",
   "mimetype": "text/x-python",
   "name": "python",
   "nbconvert_exporter": "python",
   "pygments_lexer": "ipython3",
   "version": "3.8.3"
  }
 },
 "nbformat": 4,
 "nbformat_minor": 4
}
