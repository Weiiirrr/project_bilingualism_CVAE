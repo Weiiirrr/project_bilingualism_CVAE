{
 "cells": [
  {
   "cell_type": "code",
   "execution_count": 1,
   "metadata": {},
   "outputs": [],
   "source": [
    "import pickle\n",
    "\n",
    "import numpy as np\n",
    "import pandas as pd \n",
    "\n",
    "from importlib import reload\n",
    "\n",
    "import helper_funcs;reload(helper_funcs);from helper_funcs import *\n",
    "import make_models2;reload(make_models2);from make_models2 import *\n",
    "\n",
    "from functools import partial\n",
    "from sklearn.decomposition import PCA\n",
    "\n",
    "from matplotlib import pyplot as plt\n",
    "\n",
    "from datetime import datetime\n",
    "\n",
    "import shutil\n",
    "from functools import partial\n",
    "from tqdm import tqdm\n",
    "tqdm = partial(tqdm, position=0, leave=True)"
   ]
  },
  {
   "cell_type": "code",
   "execution_count": 2,
   "metadata": {},
   "outputs": [
    {
     "data": {
      "text/plain": [
       "'/device:GPU:0'"
      ]
     },
     "execution_count": 2,
     "metadata": {},
     "output_type": "execute_result"
    }
   ],
   "source": [
    "# GPU checks\n",
    "import tensorflow as tf\n",
    "tf.test.gpu_device_name()"
   ]
  },
  {
   "cell_type": "code",
   "execution_count": 3,
   "metadata": {},
   "outputs": [
    {
     "name": "stdout",
     "output_type": "stream",
     "text": [
      "Tue Oct  4 10:06:21 2022       \n",
      "+-----------------------------------------------------------------------------+\n",
      "| NVIDIA-SMI 470.57.02    Driver Version: 470.57.02    CUDA Version: 11.4     |\n",
      "|-------------------------------+----------------------+----------------------+\n",
      "| GPU  Name        Persistence-M| Bus-Id        Disp.A | Volatile Uncorr. ECC |\n",
      "| Fan  Temp  Perf  Pwr:Usage/Cap|         Memory-Usage | GPU-Util  Compute M. |\n",
      "|                               |                      |               MIG M. |\n",
      "|===============================+======================+======================|\n",
      "|   0  Tesla V100-SXM2...  On   | 00000000:18:00.0 Off |                    0 |\n",
      "| N/A   31C    P0    57W / 300W |    484MiB / 16160MiB |      0%      Default |\n",
      "|                               |                      |                  N/A |\n",
      "+-------------------------------+----------------------+----------------------+\n",
      "|   1  Tesla V100-SXM2...  On   | 00000000:3B:00.0 Off |                    0 |\n",
      "| N/A   29C    P0    57W / 300W |    484MiB / 16160MiB |      0%      Default |\n",
      "|                               |                      |                  N/A |\n",
      "+-------------------------------+----------------------+----------------------+\n",
      "|   2  Tesla V100-SXM2...  On   | 00000000:86:00.0 Off |                    0 |\n",
      "| N/A   31C    P0    57W / 300W |    484MiB / 16160MiB |      0%      Default |\n",
      "|                               |                      |                  N/A |\n",
      "+-------------------------------+----------------------+----------------------+\n",
      "|   3  Tesla V100-SXM2...  On   | 00000000:AF:00.0 Off |                    0 |\n",
      "| N/A   33C    P0    58W / 300W |    484MiB / 16160MiB |      1%      Default |\n",
      "|                               |                      |                  N/A |\n",
      "+-------------------------------+----------------------+----------------------+\n",
      "                                                                               \n",
      "+-----------------------------------------------------------------------------+\n",
      "| Processes:                                                                  |\n",
      "|  GPU   GI   CI        PID   Type   Process name                  GPU Memory |\n",
      "|        ID   ID                                                   Usage      |\n",
      "|=============================================================================|\n",
      "|    0   N/A  N/A    151817      C   ...a/2020.07-p3.8/bin/python      481MiB |\n",
      "|    1   N/A  N/A    151817      C   ...a/2020.07-p3.8/bin/python      481MiB |\n",
      "|    2   N/A  N/A    151817      C   ...a/2020.07-p3.8/bin/python      481MiB |\n",
      "|    3   N/A  N/A    151817      C   ...a/2020.07-p3.8/bin/python      481MiB |\n",
      "+-----------------------------------------------------------------------------+\n"
     ]
    }
   ],
   "source": [
    "!nvidia-smi"
   ]
  },
  {
   "cell_type": "code",
   "execution_count": 4,
   "metadata": {},
   "outputs": [],
   "source": [
    "ABIDE_data = np.load(os.path.expanduser('~/Documents/Bilingualism_CVAE/data/array_brains/arr_combine/ABIDE_data.npy'))"
   ]
  },
  {
   "cell_type": "code",
   "execution_count": 5,
   "metadata": {},
   "outputs": [
    {
     "data": {
      "text/plain": [
       "<tensorflow.python.checkpoint.checkpoint.CheckpointLoadStatus at 0x155487905c10>"
      ]
     },
     "execution_count": 5,
     "metadata": {},
     "output_type": "execute_result"
    }
   ],
   "source": [
    "latent_dim=32;batch_size=32;disentangle=False;gamma=100\n",
    "encoder, decoder, vae = get_MRI_VAE_3D(input_shape=(64, 64, 64, 1), latent_dim=latent_dim, batch_size=batch_size, disentangle=disentangle, gamma=gamma)\n",
    "\n",
    "encoder, decoder, vae = get_MRI_VAE_3D(input_shape=(64,64,64,1), \n",
    "                                            latent_dim=32, \n",
    "                                            batch_size = batch_size, \n",
    "                                            disentangle=True,\n",
    "                                            gamma=100,\n",
    "                                            kernel_size = 3,\n",
    "                                            filters = 48,\n",
    "                                            intermediate_dim = 128,\n",
    "                                            nlayers = 2,\n",
    "                                            bias=True)\n",
    "\n",
    "fn = os.path.expanduser('~/Documents/Bilingualism_CVAE/data/tf_outputs/VAE/VAE_weights')\n",
    "vae.load_weights(fn)"
   ]
  },
  {
   "cell_type": "code",
   "execution_count": 6,
   "metadata": {},
   "outputs": [
    {
     "data": {
      "text/plain": [
       "<tensorflow.python.checkpoint.checkpoint.CheckpointLoadStatus at 0x1554840cab80>"
      ]
     },
     "execution_count": 6,
     "metadata": {},
     "output_type": "execute_result"
    }
   ],
   "source": [
    "# LOAD CVAE\n",
    "latent_dim = 16;batch_size = 32;beta = 1;gamma = 100;disentangle = True\n",
    "cvae, z_encoder, s_encoder, cvae_decoder = get_MRI_CVAE_3D(latent_dim=latent_dim,beta=beta, disentangle=disentangle, gamma=gamma, bias=True, batch_size = batch_size)\n",
    "loss = list()    \n",
    "\n",
    "fn = os.path.expanduser('~/Documents/Bilingualism_CVAE/data/tf_outputs/CVAE/CVAE_weights')\n",
    "cvae.load_weights(fn)"
   ]
  },
  {
   "cell_type": "code",
   "execution_count": 7,
   "metadata": {},
   "outputs": [
    {
     "name": "stdout",
     "output_type": "stream",
     "text": [
      "5/5 [==============================] - 1s 21ms/step\n",
      "5/5 [==============================] - 0s 16ms/step\n",
      "5/5 [==============================] - 0s 16ms/step\n",
      "5/5 [==============================] - 0s 15ms/step\n",
      "5/5 [==============================] - 0s 16ms/step\n",
      "5/5 [==============================] - 0s 16ms/step\n",
      "5/5 [==============================] - 0s 15ms/step\n",
      "5/5 [==============================] - 0s 16ms/step\n",
      "5/5 [==============================] - 0s 15ms/step\n",
      "5/5 [==============================] - 0s 15ms/step\n",
      "5/5 [==============================] - 0s 15ms/step\n",
      "5/5 [==============================] - 0s 15ms/step\n",
      "5/5 [==============================] - 0s 16ms/step\n",
      "5/5 [==============================] - 0s 16ms/step\n",
      "5/5 [==============================] - 0s 16ms/step\n",
      "5/5 [==============================] - 0s 15ms/step\n",
      "5/5 [==============================] - 0s 15ms/step\n",
      "5/5 [==============================] - 0s 15ms/step\n",
      "5/5 [==============================] - 0s 16ms/step\n",
      "5/5 [==============================] - 0s 16ms/step\n",
      "5/5 [==============================] - 0s 36ms/step\n",
      "5/5 [==============================] - 0s 23ms/step\n",
      "5/5 [==============================] - 0s 23ms/step\n",
      "5/5 [==============================] - 0s 23ms/step\n",
      "5/5 [==============================] - 0s 23ms/step\n",
      "5/5 [==============================] - 0s 23ms/step\n",
      "5/5 [==============================] - 0s 23ms/step\n",
      "5/5 [==============================] - 0s 23ms/step\n",
      "5/5 [==============================] - 0s 23ms/step\n",
      "5/5 [==============================] - 0s 23ms/step\n"
     ]
    }
   ],
   "source": [
    "n_samples = 10\n",
    "\n",
    "salient_vec_abide = np.array([s_encoder.predict(ABIDE_data[:,:,:,:])[2] for _ in range(n_samples)])\n",
    "background_vec_abide = np.array([z_encoder.predict(ABIDE_data[:,:,:,:])[2] for _ in range(n_samples)])\n",
    "vae_vec_abide = np.array([encoder.predict(ABIDE_data[:,:,:,:])[2] for _ in range(n_samples)])\n",
    "\n",
    "# salient_vec_sfari = np.array([s_encoder.predict(SFARI_data[:,:,:,:])[2] for _ in range(n_samples)])\n",
    "# background_vec_sfari = np.array([z_encoder.predict(SFARI_data[:,:,:,:])[2] for _ in range(n_samples)])\n",
    "# vae_vec_sfari = np.array([encoder.predict(SFARI_data[:,:,:,:])[2] for _ in range(n_samples)])\n",
    "\n",
    "fn = os.path.expanduser('~/Documents/Bilingualism_CVAE/data/latent_vecs10.npz')\n",
    "np.savez_compressed(fn, \n",
    "                    salient_vec_abide=salient_vec_abide,\n",
    "                    background_vec_abide=background_vec_abide,\n",
    "                     vae_vec_abide=vae_vec_abide)\n",
    "#                     salient_vec_sfari=salient_vec_sfari,\n",
    "#                     background_vec_sfari=background_vec_sfari,\n",
    "#                     vae_vec_sfari=vae_vec_sfari)"
   ]
  },
  {
   "cell_type": "code",
   "execution_count": null,
   "metadata": {},
   "outputs": [],
   "source": []
  }
 ],
 "metadata": {
  "kernelspec": {
   "display_name": "Python 3",
   "language": "python",
   "name": "python3"
  },
  "language_info": {
   "codemirror_mode": {
    "name": "ipython",
    "version": 3
   },
   "file_extension": ".py",
   "mimetype": "text/x-python",
   "name": "python",
   "nbconvert_exporter": "python",
   "pygments_lexer": "ipython3",
   "version": "3.8.3"
  }
 },
 "nbformat": 4,
 "nbformat_minor": 4
}
